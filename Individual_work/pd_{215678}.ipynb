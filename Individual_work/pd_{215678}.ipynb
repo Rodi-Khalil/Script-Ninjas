{
 "cells": [
  {
   "attachments": {},
   "cell_type": "markdown",
   "metadata": {},
   "source": [
    "# Introduction"
   ]
  },
  {
   "attachments": {},
   "cell_type": "markdown",
   "metadata": {},
   "source": [
    "Hopefully, this short tutorial can show you a lot of different commands that will help you gain the most insights into your dataset. "
   ]
  },
  {
   "cell_type": "code",
   "execution_count": 1,
   "metadata": {
    "collapsed": true
   },
   "outputs": [],
   "source": [
    "import pandas as pd\n",
    "from src.utils import load_data_from_google_drive"
   ]
  },
  {
   "attachments": {},
   "cell_type": "markdown",
   "metadata": {},
   "source": [
    "# Loading in Data"
   ]
  },
  {
   "attachments": {},
   "cell_type": "markdown",
   "metadata": {},
   "source": [
    "The first step in any ML problem is identifying what format your data is in, and then loading it into whatever framework you're using. For Kaggle compeitions, a lot of data can be found in CSV files, so that's the example we're going to use. "
   ]
  },
  {
   "attachments": {},
   "cell_type": "markdown",
   "metadata": {},
   "source": [
    "We're going to be looking at a sports dataset that shows the results from NCAA basketball games from 1985 to 2016. This dataset is in a CSV file, and the function we're going to use to read in the file is called **pd.read_csv()**. This function returns a **dataframe** variable. The dataframe is the golden jewel data structure for Pandas. It is defined as \"a two-dimensional size-mutable, potentially heterogeneous tabular data structure with labeled axes (rows and columns)\"."
   ]
  },
  {
   "attachments": {},
   "cell_type": "markdown",
   "metadata": {},
   "source": [
    "Just think of it as a table for now. "
   ]
  },
  {
   "cell_type": "code",
   "execution_count": 2,
   "metadata": {
    "collapsed": false
   },
   "outputs": [],
   "source": [
    "df = load_data_from_google_drive(url='https://drive.google.com/file/d/184JcLbSpArA_uq0DgAv2k892KChJVPHt/view?usp=share_link')"
   ]
  },
  {
   "cell_type": "code",
   "execution_count": 3,
   "metadata": {},
   "outputs": [
    {
     "data": {
      "text/html": [
       "<div>\n",
       "<style scoped>\n",
       "    .dataframe tbody tr th:only-of-type {\n",
       "        vertical-align: middle;\n",
       "    }\n",
       "\n",
       "    .dataframe tbody tr th {\n",
       "        vertical-align: top;\n",
       "    }\n",
       "\n",
       "    .dataframe thead th {\n",
       "        text-align: right;\n",
       "    }\n",
       "</style>\n",
       "<table border=\"1\" class=\"dataframe\">\n",
       "  <thead>\n",
       "    <tr style=\"text-align: right;\">\n",
       "      <th></th>\n",
       "      <th>Season</th>\n",
       "      <th>Daynum</th>\n",
       "      <th>Wteam</th>\n",
       "      <th>Wscore</th>\n",
       "      <th>Lteam</th>\n",
       "      <th>Lscore</th>\n",
       "      <th>Wloc</th>\n",
       "      <th>Numot</th>\n",
       "    </tr>\n",
       "  </thead>\n",
       "  <tbody>\n",
       "    <tr>\n",
       "      <th>0</th>\n",
       "      <td>1985</td>\n",
       "      <td>20</td>\n",
       "      <td>1228</td>\n",
       "      <td>81</td>\n",
       "      <td>1328</td>\n",
       "      <td>64</td>\n",
       "      <td>N</td>\n",
       "      <td>0</td>\n",
       "    </tr>\n",
       "    <tr>\n",
       "      <th>1</th>\n",
       "      <td>1985</td>\n",
       "      <td>25</td>\n",
       "      <td>1106</td>\n",
       "      <td>77</td>\n",
       "      <td>1354</td>\n",
       "      <td>70</td>\n",
       "      <td>H</td>\n",
       "      <td>0</td>\n",
       "    </tr>\n",
       "    <tr>\n",
       "      <th>2</th>\n",
       "      <td>1985</td>\n",
       "      <td>25</td>\n",
       "      <td>1112</td>\n",
       "      <td>63</td>\n",
       "      <td>1223</td>\n",
       "      <td>56</td>\n",
       "      <td>H</td>\n",
       "      <td>0</td>\n",
       "    </tr>\n",
       "    <tr>\n",
       "      <th>3</th>\n",
       "      <td>1985</td>\n",
       "      <td>25</td>\n",
       "      <td>1165</td>\n",
       "      <td>70</td>\n",
       "      <td>1432</td>\n",
       "      <td>54</td>\n",
       "      <td>H</td>\n",
       "      <td>0</td>\n",
       "    </tr>\n",
       "    <tr>\n",
       "      <th>4</th>\n",
       "      <td>1985</td>\n",
       "      <td>25</td>\n",
       "      <td>1192</td>\n",
       "      <td>86</td>\n",
       "      <td>1447</td>\n",
       "      <td>74</td>\n",
       "      <td>H</td>\n",
       "      <td>0</td>\n",
       "    </tr>\n",
       "    <tr>\n",
       "      <th>...</th>\n",
       "      <td>...</td>\n",
       "      <td>...</td>\n",
       "      <td>...</td>\n",
       "      <td>...</td>\n",
       "      <td>...</td>\n",
       "      <td>...</td>\n",
       "      <td>...</td>\n",
       "      <td>...</td>\n",
       "    </tr>\n",
       "    <tr>\n",
       "      <th>145284</th>\n",
       "      <td>2016</td>\n",
       "      <td>132</td>\n",
       "      <td>1114</td>\n",
       "      <td>70</td>\n",
       "      <td>1419</td>\n",
       "      <td>50</td>\n",
       "      <td>N</td>\n",
       "      <td>0</td>\n",
       "    </tr>\n",
       "    <tr>\n",
       "      <th>145285</th>\n",
       "      <td>2016</td>\n",
       "      <td>132</td>\n",
       "      <td>1163</td>\n",
       "      <td>72</td>\n",
       "      <td>1272</td>\n",
       "      <td>58</td>\n",
       "      <td>N</td>\n",
       "      <td>0</td>\n",
       "    </tr>\n",
       "    <tr>\n",
       "      <th>145286</th>\n",
       "      <td>2016</td>\n",
       "      <td>132</td>\n",
       "      <td>1246</td>\n",
       "      <td>82</td>\n",
       "      <td>1401</td>\n",
       "      <td>77</td>\n",
       "      <td>N</td>\n",
       "      <td>1</td>\n",
       "    </tr>\n",
       "    <tr>\n",
       "      <th>145287</th>\n",
       "      <td>2016</td>\n",
       "      <td>132</td>\n",
       "      <td>1277</td>\n",
       "      <td>66</td>\n",
       "      <td>1345</td>\n",
       "      <td>62</td>\n",
       "      <td>N</td>\n",
       "      <td>0</td>\n",
       "    </tr>\n",
       "    <tr>\n",
       "      <th>145288</th>\n",
       "      <td>2016</td>\n",
       "      <td>132</td>\n",
       "      <td>1386</td>\n",
       "      <td>87</td>\n",
       "      <td>1433</td>\n",
       "      <td>74</td>\n",
       "      <td>N</td>\n",
       "      <td>0</td>\n",
       "    </tr>\n",
       "  </tbody>\n",
       "</table>\n",
       "<p>145289 rows × 8 columns</p>\n",
       "</div>"
      ],
      "text/plain": [
       "        Season  Daynum  Wteam  Wscore  Lteam  Lscore Wloc  Numot\n",
       "0         1985      20   1228      81   1328      64    N      0\n",
       "1         1985      25   1106      77   1354      70    H      0\n",
       "2         1985      25   1112      63   1223      56    H      0\n",
       "3         1985      25   1165      70   1432      54    H      0\n",
       "4         1985      25   1192      86   1447      74    H      0\n",
       "...        ...     ...    ...     ...    ...     ...  ...    ...\n",
       "145284    2016     132   1114      70   1419      50    N      0\n",
       "145285    2016     132   1163      72   1272      58    N      0\n",
       "145286    2016     132   1246      82   1401      77    N      1\n",
       "145287    2016     132   1277      66   1345      62    N      0\n",
       "145288    2016     132   1386      87   1433      74    N      0\n",
       "\n",
       "[145289 rows x 8 columns]"
      ]
     },
     "execution_count": 3,
     "metadata": {},
     "output_type": "execute_result"
    }
   ],
   "source": [
    "df"
   ]
  },
  {
   "attachments": {},
   "cell_type": "markdown",
   "metadata": {},
   "source": [
    "# The Basics"
   ]
  },
  {
   "attachments": {},
   "cell_type": "markdown",
   "metadata": {},
   "source": [
    "Now that we have our dataframe in our variable df, let's look at what it contains. We can use the function **head()** to see the first couple rows of the dataframe (or the function **tail()** to see the last few rows)."
   ]
  },
  {
   "cell_type": "code",
   "execution_count": 4,
   "metadata": {
    "collapsed": false
   },
   "outputs": [
    {
     "data": {
      "text/html": [
       "<div>\n",
       "<style scoped>\n",
       "    .dataframe tbody tr th:only-of-type {\n",
       "        vertical-align: middle;\n",
       "    }\n",
       "\n",
       "    .dataframe tbody tr th {\n",
       "        vertical-align: top;\n",
       "    }\n",
       "\n",
       "    .dataframe thead th {\n",
       "        text-align: right;\n",
       "    }\n",
       "</style>\n",
       "<table border=\"1\" class=\"dataframe\">\n",
       "  <thead>\n",
       "    <tr style=\"text-align: right;\">\n",
       "      <th></th>\n",
       "      <th>Season</th>\n",
       "      <th>Daynum</th>\n",
       "      <th>Wteam</th>\n",
       "      <th>Wscore</th>\n",
       "      <th>Lteam</th>\n",
       "      <th>Lscore</th>\n",
       "      <th>Wloc</th>\n",
       "      <th>Numot</th>\n",
       "    </tr>\n",
       "  </thead>\n",
       "  <tbody>\n",
       "    <tr>\n",
       "      <th>0</th>\n",
       "      <td>1985</td>\n",
       "      <td>20</td>\n",
       "      <td>1228</td>\n",
       "      <td>81</td>\n",
       "      <td>1328</td>\n",
       "      <td>64</td>\n",
       "      <td>N</td>\n",
       "      <td>0</td>\n",
       "    </tr>\n",
       "    <tr>\n",
       "      <th>1</th>\n",
       "      <td>1985</td>\n",
       "      <td>25</td>\n",
       "      <td>1106</td>\n",
       "      <td>77</td>\n",
       "      <td>1354</td>\n",
       "      <td>70</td>\n",
       "      <td>H</td>\n",
       "      <td>0</td>\n",
       "    </tr>\n",
       "    <tr>\n",
       "      <th>2</th>\n",
       "      <td>1985</td>\n",
       "      <td>25</td>\n",
       "      <td>1112</td>\n",
       "      <td>63</td>\n",
       "      <td>1223</td>\n",
       "      <td>56</td>\n",
       "      <td>H</td>\n",
       "      <td>0</td>\n",
       "    </tr>\n",
       "    <tr>\n",
       "      <th>3</th>\n",
       "      <td>1985</td>\n",
       "      <td>25</td>\n",
       "      <td>1165</td>\n",
       "      <td>70</td>\n",
       "      <td>1432</td>\n",
       "      <td>54</td>\n",
       "      <td>H</td>\n",
       "      <td>0</td>\n",
       "    </tr>\n",
       "    <tr>\n",
       "      <th>4</th>\n",
       "      <td>1985</td>\n",
       "      <td>25</td>\n",
       "      <td>1192</td>\n",
       "      <td>86</td>\n",
       "      <td>1447</td>\n",
       "      <td>74</td>\n",
       "      <td>H</td>\n",
       "      <td>0</td>\n",
       "    </tr>\n",
       "  </tbody>\n",
       "</table>\n",
       "</div>"
      ],
      "text/plain": [
       "   Season  Daynum  Wteam  Wscore  Lteam  Lscore Wloc  Numot\n",
       "0    1985      20   1228      81   1328      64    N      0\n",
       "1    1985      25   1106      77   1354      70    H      0\n",
       "2    1985      25   1112      63   1223      56    H      0\n",
       "3    1985      25   1165      70   1432      54    H      0\n",
       "4    1985      25   1192      86   1447      74    H      0"
      ]
     },
     "execution_count": 4,
     "metadata": {},
     "output_type": "execute_result"
    }
   ],
   "source": [
    "df.head()"
   ]
  },
  {
   "cell_type": "code",
   "execution_count": 5,
   "metadata": {
    "collapsed": false
   },
   "outputs": [
    {
     "data": {
      "text/html": [
       "<div>\n",
       "<style scoped>\n",
       "    .dataframe tbody tr th:only-of-type {\n",
       "        vertical-align: middle;\n",
       "    }\n",
       "\n",
       "    .dataframe tbody tr th {\n",
       "        vertical-align: top;\n",
       "    }\n",
       "\n",
       "    .dataframe thead th {\n",
       "        text-align: right;\n",
       "    }\n",
       "</style>\n",
       "<table border=\"1\" class=\"dataframe\">\n",
       "  <thead>\n",
       "    <tr style=\"text-align: right;\">\n",
       "      <th></th>\n",
       "      <th>Season</th>\n",
       "      <th>Daynum</th>\n",
       "      <th>Wteam</th>\n",
       "      <th>Wscore</th>\n",
       "      <th>Lteam</th>\n",
       "      <th>Lscore</th>\n",
       "      <th>Wloc</th>\n",
       "      <th>Numot</th>\n",
       "    </tr>\n",
       "  </thead>\n",
       "  <tbody>\n",
       "    <tr>\n",
       "      <th>145284</th>\n",
       "      <td>2016</td>\n",
       "      <td>132</td>\n",
       "      <td>1114</td>\n",
       "      <td>70</td>\n",
       "      <td>1419</td>\n",
       "      <td>50</td>\n",
       "      <td>N</td>\n",
       "      <td>0</td>\n",
       "    </tr>\n",
       "    <tr>\n",
       "      <th>145285</th>\n",
       "      <td>2016</td>\n",
       "      <td>132</td>\n",
       "      <td>1163</td>\n",
       "      <td>72</td>\n",
       "      <td>1272</td>\n",
       "      <td>58</td>\n",
       "      <td>N</td>\n",
       "      <td>0</td>\n",
       "    </tr>\n",
       "    <tr>\n",
       "      <th>145286</th>\n",
       "      <td>2016</td>\n",
       "      <td>132</td>\n",
       "      <td>1246</td>\n",
       "      <td>82</td>\n",
       "      <td>1401</td>\n",
       "      <td>77</td>\n",
       "      <td>N</td>\n",
       "      <td>1</td>\n",
       "    </tr>\n",
       "    <tr>\n",
       "      <th>145287</th>\n",
       "      <td>2016</td>\n",
       "      <td>132</td>\n",
       "      <td>1277</td>\n",
       "      <td>66</td>\n",
       "      <td>1345</td>\n",
       "      <td>62</td>\n",
       "      <td>N</td>\n",
       "      <td>0</td>\n",
       "    </tr>\n",
       "    <tr>\n",
       "      <th>145288</th>\n",
       "      <td>2016</td>\n",
       "      <td>132</td>\n",
       "      <td>1386</td>\n",
       "      <td>87</td>\n",
       "      <td>1433</td>\n",
       "      <td>74</td>\n",
       "      <td>N</td>\n",
       "      <td>0</td>\n",
       "    </tr>\n",
       "  </tbody>\n",
       "</table>\n",
       "</div>"
      ],
      "text/plain": [
       "        Season  Daynum  Wteam  Wscore  Lteam  Lscore Wloc  Numot\n",
       "145284    2016     132   1114      70   1419      50    N      0\n",
       "145285    2016     132   1163      72   1272      58    N      0\n",
       "145286    2016     132   1246      82   1401      77    N      1\n",
       "145287    2016     132   1277      66   1345      62    N      0\n",
       "145288    2016     132   1386      87   1433      74    N      0"
      ]
     },
     "execution_count": 5,
     "metadata": {},
     "output_type": "execute_result"
    }
   ],
   "source": [
    "df.tail()"
   ]
  },
  {
   "attachments": {},
   "cell_type": "markdown",
   "metadata": {},
   "source": [
    "We can see the dimensions of the dataframe using the the **shape** attribute"
   ]
  },
  {
   "cell_type": "code",
   "execution_count": 6,
   "metadata": {
    "collapsed": false
   },
   "outputs": [
    {
     "data": {
      "text/plain": [
       "(145289, 8)"
      ]
     },
     "execution_count": 6,
     "metadata": {},
     "output_type": "execute_result"
    }
   ],
   "source": [
    "df.shape"
   ]
  },
  {
   "attachments": {},
   "cell_type": "markdown",
   "metadata": {
    "collapsed": true
   },
   "source": [
    "We can also extract all the column names as a list, by using the **columns** attribute and can extract the rows with the **index** attribute"
   ]
  },
  {
   "cell_type": "code",
   "execution_count": 7,
   "metadata": {
    "collapsed": false
   },
   "outputs": [
    {
     "data": {
      "text/plain": [
       "['Season', 'Daynum', 'Wteam', 'Wscore', 'Lteam', 'Lscore', 'Wloc', 'Numot']"
      ]
     },
     "execution_count": 7,
     "metadata": {},
     "output_type": "execute_result"
    }
   ],
   "source": [
    "df.columns.tolist()"
   ]
  },
  {
   "attachments": {},
   "cell_type": "markdown",
   "metadata": {},
   "source": [
    "In order to get a better idea of the type of data that we are dealing with, we can call the **describe()** function to see statistics like mean, min, etc about each column of the dataset. "
   ]
  },
  {
   "cell_type": "code",
   "execution_count": 8,
   "metadata": {
    "collapsed": false
   },
   "outputs": [
    {
     "data": {
      "text/html": [
       "<div>\n",
       "<style scoped>\n",
       "    .dataframe tbody tr th:only-of-type {\n",
       "        vertical-align: middle;\n",
       "    }\n",
       "\n",
       "    .dataframe tbody tr th {\n",
       "        vertical-align: top;\n",
       "    }\n",
       "\n",
       "    .dataframe thead th {\n",
       "        text-align: right;\n",
       "    }\n",
       "</style>\n",
       "<table border=\"1\" class=\"dataframe\">\n",
       "  <thead>\n",
       "    <tr style=\"text-align: right;\">\n",
       "      <th></th>\n",
       "      <th>Season</th>\n",
       "      <th>Daynum</th>\n",
       "      <th>Wteam</th>\n",
       "      <th>Wscore</th>\n",
       "      <th>Lteam</th>\n",
       "      <th>Lscore</th>\n",
       "      <th>Numot</th>\n",
       "    </tr>\n",
       "  </thead>\n",
       "  <tbody>\n",
       "    <tr>\n",
       "      <th>count</th>\n",
       "      <td>145289.000000</td>\n",
       "      <td>145289.000000</td>\n",
       "      <td>145289.000000</td>\n",
       "      <td>145289.000000</td>\n",
       "      <td>145289.000000</td>\n",
       "      <td>145289.000000</td>\n",
       "      <td>145289.000000</td>\n",
       "    </tr>\n",
       "    <tr>\n",
       "      <th>mean</th>\n",
       "      <td>2001.574834</td>\n",
       "      <td>75.223816</td>\n",
       "      <td>1286.720646</td>\n",
       "      <td>76.600321</td>\n",
       "      <td>1282.864064</td>\n",
       "      <td>64.497009</td>\n",
       "      <td>0.044387</td>\n",
       "    </tr>\n",
       "    <tr>\n",
       "      <th>std</th>\n",
       "      <td>9.233342</td>\n",
       "      <td>33.287418</td>\n",
       "      <td>104.570275</td>\n",
       "      <td>12.173033</td>\n",
       "      <td>104.829234</td>\n",
       "      <td>11.380625</td>\n",
       "      <td>0.247819</td>\n",
       "    </tr>\n",
       "    <tr>\n",
       "      <th>min</th>\n",
       "      <td>1985.000000</td>\n",
       "      <td>0.000000</td>\n",
       "      <td>1101.000000</td>\n",
       "      <td>34.000000</td>\n",
       "      <td>1101.000000</td>\n",
       "      <td>20.000000</td>\n",
       "      <td>0.000000</td>\n",
       "    </tr>\n",
       "    <tr>\n",
       "      <th>25%</th>\n",
       "      <td>1994.000000</td>\n",
       "      <td>47.000000</td>\n",
       "      <td>1198.000000</td>\n",
       "      <td>68.000000</td>\n",
       "      <td>1191.000000</td>\n",
       "      <td>57.000000</td>\n",
       "      <td>0.000000</td>\n",
       "    </tr>\n",
       "    <tr>\n",
       "      <th>50%</th>\n",
       "      <td>2002.000000</td>\n",
       "      <td>78.000000</td>\n",
       "      <td>1284.000000</td>\n",
       "      <td>76.000000</td>\n",
       "      <td>1280.000000</td>\n",
       "      <td>64.000000</td>\n",
       "      <td>0.000000</td>\n",
       "    </tr>\n",
       "    <tr>\n",
       "      <th>75%</th>\n",
       "      <td>2010.000000</td>\n",
       "      <td>103.000000</td>\n",
       "      <td>1379.000000</td>\n",
       "      <td>84.000000</td>\n",
       "      <td>1375.000000</td>\n",
       "      <td>72.000000</td>\n",
       "      <td>0.000000</td>\n",
       "    </tr>\n",
       "    <tr>\n",
       "      <th>max</th>\n",
       "      <td>2016.000000</td>\n",
       "      <td>132.000000</td>\n",
       "      <td>1464.000000</td>\n",
       "      <td>186.000000</td>\n",
       "      <td>1464.000000</td>\n",
       "      <td>150.000000</td>\n",
       "      <td>6.000000</td>\n",
       "    </tr>\n",
       "  </tbody>\n",
       "</table>\n",
       "</div>"
      ],
      "text/plain": [
       "              Season         Daynum          Wteam         Wscore  \\\n",
       "count  145289.000000  145289.000000  145289.000000  145289.000000   \n",
       "mean     2001.574834      75.223816    1286.720646      76.600321   \n",
       "std         9.233342      33.287418     104.570275      12.173033   \n",
       "min      1985.000000       0.000000    1101.000000      34.000000   \n",
       "25%      1994.000000      47.000000    1198.000000      68.000000   \n",
       "50%      2002.000000      78.000000    1284.000000      76.000000   \n",
       "75%      2010.000000     103.000000    1379.000000      84.000000   \n",
       "max      2016.000000     132.000000    1464.000000     186.000000   \n",
       "\n",
       "               Lteam         Lscore          Numot  \n",
       "count  145289.000000  145289.000000  145289.000000  \n",
       "mean     1282.864064      64.497009       0.044387  \n",
       "std       104.829234      11.380625       0.247819  \n",
       "min      1101.000000      20.000000       0.000000  \n",
       "25%      1191.000000      57.000000       0.000000  \n",
       "50%      1280.000000      64.000000       0.000000  \n",
       "75%      1375.000000      72.000000       0.000000  \n",
       "max      1464.000000     150.000000       6.000000  "
      ]
     },
     "execution_count": 8,
     "metadata": {},
     "output_type": "execute_result"
    }
   ],
   "source": [
    "df.describe()"
   ]
  },
  {
   "attachments": {},
   "cell_type": "markdown",
   "metadata": {},
   "source": [
    "Okay, so now let's looking at information that we want to extract from the dataframe. Let's say I wanted to know the max value of a certain column. The function **max()** will show you the maximum values of all columns"
   ]
  },
  {
   "cell_type": "code",
   "execution_count": 9,
   "metadata": {
    "collapsed": false
   },
   "outputs": [
    {
     "data": {
      "text/plain": [
       "Season    2016\n",
       "Daynum     132\n",
       "Wteam     1464\n",
       "Wscore     186\n",
       "Lteam     1464\n",
       "Lscore     150\n",
       "Wloc         N\n",
       "Numot        6\n",
       "dtype: object"
      ]
     },
     "execution_count": 9,
     "metadata": {},
     "output_type": "execute_result"
    }
   ],
   "source": [
    "df.max()"
   ]
  },
  {
   "attachments": {},
   "cell_type": "markdown",
   "metadata": {},
   "source": [
    "Then, if you'd like to specifically get the max value for a particular column, you pass in the name of the column using the bracket indexing operator"
   ]
  },
  {
   "cell_type": "code",
   "execution_count": 10,
   "metadata": {
    "collapsed": false
   },
   "outputs": [
    {
     "data": {
      "text/plain": [
       "186"
      ]
     },
     "execution_count": 10,
     "metadata": {},
     "output_type": "execute_result"
    }
   ],
   "source": [
    "df['Wscore'].max()"
   ]
  },
  {
   "attachments": {},
   "cell_type": "markdown",
   "metadata": {},
   "source": [
    "If you'd like to find the mean of the Losing teams' score. "
   ]
  },
  {
   "cell_type": "code",
   "execution_count": 11,
   "metadata": {
    "collapsed": false
   },
   "outputs": [
    {
     "data": {
      "text/plain": [
       "64.49700940883343"
      ]
     },
     "execution_count": 11,
     "metadata": {},
     "output_type": "execute_result"
    }
   ],
   "source": [
    "df['Lscore'].mean()"
   ]
  },
  {
   "attachments": {},
   "cell_type": "markdown",
   "metadata": {},
   "source": [
    "But what if that's not enough? Let's say we want to actually see the game(row) where this max score happened. We can call the **argmax()** function to identify the row index"
   ]
  },
  {
   "cell_type": "code",
   "execution_count": 12,
   "metadata": {
    "collapsed": false
   },
   "outputs": [
    {
     "data": {
      "text/plain": [
       "24970"
      ]
     },
     "execution_count": 12,
     "metadata": {},
     "output_type": "execute_result"
    }
   ],
   "source": [
    "df['Wscore'].argmax()"
   ]
  },
  {
   "attachments": {},
   "cell_type": "markdown",
   "metadata": {},
   "source": [
    "One of the most useful functions that you can call on certain columns in a dataframe is the **value_counts()** function. It shows how many times each item appears in the column. This particular command shows the number of games in each season"
   ]
  },
  {
   "cell_type": "code",
   "execution_count": 13,
   "metadata": {
    "collapsed": false
   },
   "outputs": [
    {
     "data": {
      "text/plain": [
       "Season\n",
       "2016    5369\n",
       "2014    5362\n",
       "2015    5354\n",
       "2013    5320\n",
       "2010    5263\n",
       "2012    5253\n",
       "2009    5249\n",
       "2011    5246\n",
       "2008    5163\n",
       "2007    5043\n",
       "2006    4757\n",
       "2005    4675\n",
       "2003    4616\n",
       "2004    4571\n",
       "2002    4555\n",
       "2000    4519\n",
       "2001    4467\n",
       "1999    4222\n",
       "1998    4167\n",
       "1997    4155\n",
       "1992    4127\n",
       "1991    4123\n",
       "1996    4122\n",
       "1995    4077\n",
       "1994    4060\n",
       "1990    4045\n",
       "1989    4037\n",
       "1993    3982\n",
       "1988    3955\n",
       "1987    3915\n",
       "1986    3783\n",
       "1985    3737\n",
       "Name: count, dtype: int64"
      ]
     },
     "execution_count": 13,
     "metadata": {},
     "output_type": "execute_result"
    }
   ],
   "source": [
    "df['Season'].value_counts()"
   ]
  },
  {
   "attachments": {},
   "cell_type": "markdown",
   "metadata": {},
   "source": [
    "**Q**: How many unique seasons are there in the dataset? Use the nunique() function."
   ]
  },
  {
   "cell_type": "code",
   "execution_count": 14,
   "metadata": {},
   "outputs": [
    {
     "name": "stdout",
     "output_type": "stream",
     "text": [
      "Number of unique seasons: 32\n"
     ]
    }
   ],
   "source": [
    "# Find and print the number of unique seasons\n",
    "unique_seasons = df['Season'].nunique()\n",
    "print(\"Number of unique seasons:\", unique_seasons)"
   ]
  },
  {
   "attachments": {},
   "cell_type": "markdown",
   "metadata": {},
   "source": [
    "**Q**: Find the team with the most wins. Use the value_counts() function on the Wteam column."
   ]
  },
  {
   "cell_type": "code",
   "execution_count": 15,
   "metadata": {},
   "outputs": [
    {
     "name": "stdout",
     "output_type": "stream",
     "text": [
      "Team with the most wins: 1181\n",
      "Number of wins: 819\n"
     ]
    }
   ],
   "source": [
    "import pandas as pd\n",
    "\n",
    "# Ensure your dataframe 'df' is already loaded and has the 'Wteam' column\n",
    "\n",
    "# Count the number of wins for each team in the 'Wteam' column\n",
    "win_counts = df['Wteam'].value_counts()\n",
    "\n",
    "# Find the team with the most wins by identifying the team code with the maximum count\n",
    "team_with_most_wins = win_counts.idxmax()\n",
    "\n",
    "# Print the team with the most wins\n",
    "print(\"Team with the most wins:\", team_with_most_wins)\n",
    "\n",
    "# Optional: if you want to also print the number of wins\n",
    "print(\"Number of wins:\", win_counts.max())\n"
   ]
  },
  {
   "attachments": {},
   "cell_type": "markdown",
   "metadata": {},
   "source": [
    "# Acessing Values"
   ]
  },
  {
   "attachments": {},
   "cell_type": "markdown",
   "metadata": {},
   "source": [
    "Then, in order to get attributes about the game, we need to use the **iloc[]** function. Iloc is definitely one of the more important functions. The main idea is that you want to use it whenever you have the integer index of a certain row that you want to access. As per Pandas documentation, iloc is an \"integer-location based indexing for selection by position.\""
   ]
  },
  {
   "cell_type": "code",
   "execution_count": 16,
   "metadata": {
    "collapsed": false
   },
   "outputs": [
    {
     "data": {
      "text/html": [
       "<div>\n",
       "<style scoped>\n",
       "    .dataframe tbody tr th:only-of-type {\n",
       "        vertical-align: middle;\n",
       "    }\n",
       "\n",
       "    .dataframe tbody tr th {\n",
       "        vertical-align: top;\n",
       "    }\n",
       "\n",
       "    .dataframe thead th {\n",
       "        text-align: right;\n",
       "    }\n",
       "</style>\n",
       "<table border=\"1\" class=\"dataframe\">\n",
       "  <thead>\n",
       "    <tr style=\"text-align: right;\">\n",
       "      <th></th>\n",
       "      <th>Season</th>\n",
       "      <th>Daynum</th>\n",
       "      <th>Wteam</th>\n",
       "      <th>Wscore</th>\n",
       "      <th>Lteam</th>\n",
       "      <th>Lscore</th>\n",
       "      <th>Wloc</th>\n",
       "      <th>Numot</th>\n",
       "    </tr>\n",
       "  </thead>\n",
       "  <tbody>\n",
       "    <tr>\n",
       "      <th>24970</th>\n",
       "      <td>1991</td>\n",
       "      <td>68</td>\n",
       "      <td>1258</td>\n",
       "      <td>186</td>\n",
       "      <td>1109</td>\n",
       "      <td>140</td>\n",
       "      <td>H</td>\n",
       "      <td>0</td>\n",
       "    </tr>\n",
       "  </tbody>\n",
       "</table>\n",
       "</div>"
      ],
      "text/plain": [
       "       Season  Daynum  Wteam  Wscore  Lteam  Lscore Wloc  Numot\n",
       "24970    1991      68   1258     186   1109     140    H      0"
      ]
     },
     "execution_count": 16,
     "metadata": {},
     "output_type": "execute_result"
    }
   ],
   "source": [
    "df.iloc[[df['Wscore'].argmax()]]"
   ]
  },
  {
   "attachments": {},
   "cell_type": "markdown",
   "metadata": {},
   "source": [
    "Let's take this a step further. Let's say you want to know the game with the highest scoring winning team (this is what we just calculated), but you then want to know how many points the losing team scored. "
   ]
  },
  {
   "cell_type": "code",
   "execution_count": 17,
   "metadata": {
    "collapsed": false
   },
   "outputs": [
    {
     "data": {
      "text/plain": [
       "24970    140\n",
       "Name: Lscore, dtype: int64"
      ]
     },
     "execution_count": 17,
     "metadata": {},
     "output_type": "execute_result"
    }
   ],
   "source": [
    "df.iloc[[df['Wscore'].argmax()]]['Lscore']"
   ]
  },
  {
   "attachments": {},
   "cell_type": "markdown",
   "metadata": {},
   "source": [
    "When you see data displayed in the above format, you're dealing with a Pandas **Series** object, not a dataframe object."
   ]
  },
  {
   "cell_type": "code",
   "execution_count": 18,
   "metadata": {
    "collapsed": false
   },
   "outputs": [
    {
     "data": {
      "text/plain": [
       "pandas.core.series.Series"
      ]
     },
     "execution_count": 18,
     "metadata": {},
     "output_type": "execute_result"
    }
   ],
   "source": [
    "type(df.iloc[[df['Wscore'].argmax()]]['Lscore'])"
   ]
  },
  {
   "cell_type": "code",
   "execution_count": 19,
   "metadata": {
    "collapsed": false
   },
   "outputs": [
    {
     "data": {
      "text/plain": [
       "pandas.core.frame.DataFrame"
      ]
     },
     "execution_count": 19,
     "metadata": {},
     "output_type": "execute_result"
    }
   ],
   "source": [
    "type(df.iloc[[df['Wscore'].argmax()]])"
   ]
  },
  {
   "attachments": {},
   "cell_type": "markdown",
   "metadata": {},
   "source": [
    "The following is a summary of the 3 data structures in Pandas (Haven't ever really used Panels yet)\n",
    "\n",
    "![](DataStructures.png)"
   ]
  },
  {
   "attachments": {},
   "cell_type": "markdown",
   "metadata": {},
   "source": [
    "When you want to access values in a Series, you'll want to just treat the Series like a Python dictionary, so you'd access the value according to its key (which is normally an integer index)"
   ]
  },
  {
   "cell_type": "code",
   "execution_count": 20,
   "metadata": {
    "collapsed": false
   },
   "outputs": [
    {
     "data": {
      "text/plain": [
       "140"
      ]
     },
     "execution_count": 20,
     "metadata": {},
     "output_type": "execute_result"
    }
   ],
   "source": [
    "df.iloc[[df['Wscore'].argmax()]]['Lscore'][24970]"
   ]
  },
  {
   "attachments": {},
   "cell_type": "markdown",
   "metadata": {},
   "source": [
    "The other really important function in Pandas is the **loc** function. Contrary to iloc, which is an integer based indexing, loc is a \"Purely label-location based indexer for selection by label\". Since all the games are ordered from 0 to 145288, iloc and loc are going to be pretty interchangable in this type of dataset"
   ]
  },
  {
   "cell_type": "code",
   "execution_count": 21,
   "metadata": {
    "collapsed": false
   },
   "outputs": [
    {
     "data": {
      "text/html": [
       "<div>\n",
       "<style scoped>\n",
       "    .dataframe tbody tr th:only-of-type {\n",
       "        vertical-align: middle;\n",
       "    }\n",
       "\n",
       "    .dataframe tbody tr th {\n",
       "        vertical-align: top;\n",
       "    }\n",
       "\n",
       "    .dataframe thead th {\n",
       "        text-align: right;\n",
       "    }\n",
       "</style>\n",
       "<table border=\"1\" class=\"dataframe\">\n",
       "  <thead>\n",
       "    <tr style=\"text-align: right;\">\n",
       "      <th></th>\n",
       "      <th>Season</th>\n",
       "      <th>Daynum</th>\n",
       "      <th>Wteam</th>\n",
       "      <th>Wscore</th>\n",
       "      <th>Lteam</th>\n",
       "      <th>Lscore</th>\n",
       "      <th>Wloc</th>\n",
       "      <th>Numot</th>\n",
       "    </tr>\n",
       "  </thead>\n",
       "  <tbody>\n",
       "    <tr>\n",
       "      <th>0</th>\n",
       "      <td>1985</td>\n",
       "      <td>20</td>\n",
       "      <td>1228</td>\n",
       "      <td>81</td>\n",
       "      <td>1328</td>\n",
       "      <td>64</td>\n",
       "      <td>N</td>\n",
       "      <td>0</td>\n",
       "    </tr>\n",
       "    <tr>\n",
       "      <th>1</th>\n",
       "      <td>1985</td>\n",
       "      <td>25</td>\n",
       "      <td>1106</td>\n",
       "      <td>77</td>\n",
       "      <td>1354</td>\n",
       "      <td>70</td>\n",
       "      <td>H</td>\n",
       "      <td>0</td>\n",
       "    </tr>\n",
       "    <tr>\n",
       "      <th>2</th>\n",
       "      <td>1985</td>\n",
       "      <td>25</td>\n",
       "      <td>1112</td>\n",
       "      <td>63</td>\n",
       "      <td>1223</td>\n",
       "      <td>56</td>\n",
       "      <td>H</td>\n",
       "      <td>0</td>\n",
       "    </tr>\n",
       "  </tbody>\n",
       "</table>\n",
       "</div>"
      ],
      "text/plain": [
       "   Season  Daynum  Wteam  Wscore  Lteam  Lscore Wloc  Numot\n",
       "0    1985      20   1228      81   1328      64    N      0\n",
       "1    1985      25   1106      77   1354      70    H      0\n",
       "2    1985      25   1112      63   1223      56    H      0"
      ]
     },
     "execution_count": 21,
     "metadata": {},
     "output_type": "execute_result"
    }
   ],
   "source": [
    "df.iloc[:3]"
   ]
  },
  {
   "cell_type": "code",
   "execution_count": 22,
   "metadata": {
    "collapsed": false
   },
   "outputs": [
    {
     "data": {
      "text/html": [
       "<div>\n",
       "<style scoped>\n",
       "    .dataframe tbody tr th:only-of-type {\n",
       "        vertical-align: middle;\n",
       "    }\n",
       "\n",
       "    .dataframe tbody tr th {\n",
       "        vertical-align: top;\n",
       "    }\n",
       "\n",
       "    .dataframe thead th {\n",
       "        text-align: right;\n",
       "    }\n",
       "</style>\n",
       "<table border=\"1\" class=\"dataframe\">\n",
       "  <thead>\n",
       "    <tr style=\"text-align: right;\">\n",
       "      <th></th>\n",
       "      <th>Season</th>\n",
       "      <th>Daynum</th>\n",
       "      <th>Wteam</th>\n",
       "      <th>Wscore</th>\n",
       "      <th>Lteam</th>\n",
       "      <th>Lscore</th>\n",
       "      <th>Wloc</th>\n",
       "      <th>Numot</th>\n",
       "    </tr>\n",
       "  </thead>\n",
       "  <tbody>\n",
       "    <tr>\n",
       "      <th>0</th>\n",
       "      <td>1985</td>\n",
       "      <td>20</td>\n",
       "      <td>1228</td>\n",
       "      <td>81</td>\n",
       "      <td>1328</td>\n",
       "      <td>64</td>\n",
       "      <td>N</td>\n",
       "      <td>0</td>\n",
       "    </tr>\n",
       "    <tr>\n",
       "      <th>1</th>\n",
       "      <td>1985</td>\n",
       "      <td>25</td>\n",
       "      <td>1106</td>\n",
       "      <td>77</td>\n",
       "      <td>1354</td>\n",
       "      <td>70</td>\n",
       "      <td>H</td>\n",
       "      <td>0</td>\n",
       "    </tr>\n",
       "    <tr>\n",
       "      <th>2</th>\n",
       "      <td>1985</td>\n",
       "      <td>25</td>\n",
       "      <td>1112</td>\n",
       "      <td>63</td>\n",
       "      <td>1223</td>\n",
       "      <td>56</td>\n",
       "      <td>H</td>\n",
       "      <td>0</td>\n",
       "    </tr>\n",
       "    <tr>\n",
       "      <th>3</th>\n",
       "      <td>1985</td>\n",
       "      <td>25</td>\n",
       "      <td>1165</td>\n",
       "      <td>70</td>\n",
       "      <td>1432</td>\n",
       "      <td>54</td>\n",
       "      <td>H</td>\n",
       "      <td>0</td>\n",
       "    </tr>\n",
       "  </tbody>\n",
       "</table>\n",
       "</div>"
      ],
      "text/plain": [
       "   Season  Daynum  Wteam  Wscore  Lteam  Lscore Wloc  Numot\n",
       "0    1985      20   1228      81   1328      64    N      0\n",
       "1    1985      25   1106      77   1354      70    H      0\n",
       "2    1985      25   1112      63   1223      56    H      0\n",
       "3    1985      25   1165      70   1432      54    H      0"
      ]
     },
     "execution_count": 22,
     "metadata": {},
     "output_type": "execute_result"
    }
   ],
   "source": [
    "df.loc[:3]"
   ]
  },
  {
   "attachments": {},
   "cell_type": "markdown",
   "metadata": {},
   "source": [
    "Notice the slight difference in that iloc is exclusive of the second number, while loc is inclusive. "
   ]
  },
  {
   "attachments": {},
   "cell_type": "markdown",
   "metadata": {},
   "source": [
    "Below is an example of how you can use loc to acheive the same task as we did previously with iloc"
   ]
  },
  {
   "cell_type": "code",
   "execution_count": 23,
   "metadata": {
    "collapsed": false
   },
   "outputs": [
    {
     "data": {
      "text/plain": [
       "140"
      ]
     },
     "execution_count": 23,
     "metadata": {},
     "output_type": "execute_result"
    }
   ],
   "source": [
    "df.loc[df['Wscore'].argmax(), 'Lscore']"
   ]
  },
  {
   "attachments": {},
   "cell_type": "markdown",
   "metadata": {},
   "source": [
    "A faster version uses the **at()** function. At() is really useful wheneever you know the row label and the column label of the particular value that you want to get. "
   ]
  },
  {
   "cell_type": "code",
   "execution_count": 24,
   "metadata": {
    "collapsed": false
   },
   "outputs": [
    {
     "data": {
      "text/plain": [
       "140"
      ]
     },
     "execution_count": 24,
     "metadata": {},
     "output_type": "execute_result"
    }
   ],
   "source": [
    "df.at[df['Wscore'].argmax(), 'Lscore']"
   ]
  },
  {
   "attachments": {},
   "cell_type": "markdown",
   "metadata": {},
   "source": [
    "If you'd like to see more discussion on how loc and iloc are different, check out this great Stack Overflow post: http://stackoverflow.com/questions/31593201/pandas-iloc-vs-ix-vs-loc-explanation. Just remember that **iloc looks at position** and **loc looks at labels**. Loc becomes very important when your row labels aren't integers. "
   ]
  },
  {
   "attachments": {},
   "cell_type": "markdown",
   "metadata": {},
   "source": [
    "# Sorting"
   ]
  },
  {
   "attachments": {},
   "cell_type": "markdown",
   "metadata": {},
   "source": [
    "Let's say that we want to sort the dataframe in increasing order for the scores of the losing team"
   ]
  },
  {
   "cell_type": "code",
   "execution_count": 25,
   "metadata": {
    "collapsed": false,
    "scrolled": true
   },
   "outputs": [
    {
     "data": {
      "text/html": [
       "<div>\n",
       "<style scoped>\n",
       "    .dataframe tbody tr th:only-of-type {\n",
       "        vertical-align: middle;\n",
       "    }\n",
       "\n",
       "    .dataframe tbody tr th {\n",
       "        vertical-align: top;\n",
       "    }\n",
       "\n",
       "    .dataframe thead th {\n",
       "        text-align: right;\n",
       "    }\n",
       "</style>\n",
       "<table border=\"1\" class=\"dataframe\">\n",
       "  <thead>\n",
       "    <tr style=\"text-align: right;\">\n",
       "      <th></th>\n",
       "      <th>Season</th>\n",
       "      <th>Daynum</th>\n",
       "      <th>Wteam</th>\n",
       "      <th>Wscore</th>\n",
       "      <th>Lteam</th>\n",
       "      <th>Lscore</th>\n",
       "      <th>Wloc</th>\n",
       "      <th>Numot</th>\n",
       "    </tr>\n",
       "  </thead>\n",
       "  <tbody>\n",
       "    <tr>\n",
       "      <th>100027</th>\n",
       "      <td>2008</td>\n",
       "      <td>66</td>\n",
       "      <td>1203</td>\n",
       "      <td>49</td>\n",
       "      <td>1387</td>\n",
       "      <td>20</td>\n",
       "      <td>H</td>\n",
       "      <td>0</td>\n",
       "    </tr>\n",
       "    <tr>\n",
       "      <th>49310</th>\n",
       "      <td>1997</td>\n",
       "      <td>66</td>\n",
       "      <td>1157</td>\n",
       "      <td>61</td>\n",
       "      <td>1204</td>\n",
       "      <td>21</td>\n",
       "      <td>H</td>\n",
       "      <td>0</td>\n",
       "    </tr>\n",
       "    <tr>\n",
       "      <th>89021</th>\n",
       "      <td>2006</td>\n",
       "      <td>44</td>\n",
       "      <td>1284</td>\n",
       "      <td>41</td>\n",
       "      <td>1343</td>\n",
       "      <td>21</td>\n",
       "      <td>A</td>\n",
       "      <td>0</td>\n",
       "    </tr>\n",
       "    <tr>\n",
       "      <th>85042</th>\n",
       "      <td>2005</td>\n",
       "      <td>66</td>\n",
       "      <td>1131</td>\n",
       "      <td>73</td>\n",
       "      <td>1216</td>\n",
       "      <td>22</td>\n",
       "      <td>H</td>\n",
       "      <td>0</td>\n",
       "    </tr>\n",
       "    <tr>\n",
       "      <th>103660</th>\n",
       "      <td>2009</td>\n",
       "      <td>26</td>\n",
       "      <td>1326</td>\n",
       "      <td>59</td>\n",
       "      <td>1359</td>\n",
       "      <td>22</td>\n",
       "      <td>H</td>\n",
       "      <td>0</td>\n",
       "    </tr>\n",
       "  </tbody>\n",
       "</table>\n",
       "</div>"
      ],
      "text/plain": [
       "        Season  Daynum  Wteam  Wscore  Lteam  Lscore Wloc  Numot\n",
       "100027    2008      66   1203      49   1387      20    H      0\n",
       "49310     1997      66   1157      61   1204      21    H      0\n",
       "89021     2006      44   1284      41   1343      21    A      0\n",
       "85042     2005      66   1131      73   1216      22    H      0\n",
       "103660    2009      26   1326      59   1359      22    H      0"
      ]
     },
     "execution_count": 25,
     "metadata": {},
     "output_type": "execute_result"
    }
   ],
   "source": [
    "df.sort_values('Lscore').head()"
   ]
  },
  {
   "attachments": {},
   "cell_type": "markdown",
   "metadata": {},
   "source": [
    "**Q**: Make three dataframes that are sorted by season, winning team, and winning score respectively. Then, Using iloc, select the rows from index 100 to 200 and the columns for season, winning team, and winning score, respectively. "
   ]
  },
  {
   "cell_type": "code",
   "execution_count": 26,
   "metadata": {},
   "outputs": [
    {
     "name": "stdout",
     "output_type": "stream",
     "text": [
      "Sorted by Season:\n",
      "        Season  Daynum  Wteam  Wscore  Lteam  Lscore Wloc  Numot\n",
      "0         1985      20   1228      81   1328      64    N      0\n",
      "2484      1985      99   1275      73   1132      63    H      0\n",
      "2485      1985      99   1306      62   1171      59    H      0\n",
      "2486      1985      99   1318      99   1145      91    H      0\n",
      "2487      1985      99   1337      75   1109      56    H      0\n",
      "...        ...     ...    ...     ...    ...     ...  ...    ...\n",
      "141706    2016      50   1300      57   1183      52    N      0\n",
      "141705    2016      50   1298      62   1202      49    H      0\n",
      "141704    2016      50   1295      68   1410      50    N      0\n",
      "141702    2016      50   1277      99   1324      93    N      1\n",
      "145288    2016     132   1386      87   1433      74    N      0\n",
      "\n",
      "[145289 rows x 8 columns]\n",
      "\n",
      "Sorted by Winning Team:\n",
      "        Season  Daynum  Wteam  Wscore  Lteam  Lscore Wloc  Numot\n",
      "140642    2016      25   1101      72   1197      62    N      0\n",
      "136740    2015      62   1101      87   1146      70    H      0\n",
      "143283    2016      89   1101      80   1249      71    H      0\n",
      "143476    2016      92   1101      79   1223      72    H      0\n",
      "141972    2016      61   1101      62   1146      61    A      0\n",
      "...        ...     ...    ...     ...    ...     ...  ...    ...\n",
      "56143     1998     125   1464      75   1282      59    N      0\n",
      "94008     2007      41   1464      68   1454      65    A      0\n",
      "41936     1995      84   1464      67   1282      52    H      0\n",
      "110589    2010      68   1464      71   1260      67    H      0\n",
      "46638     1996      98   1464      73   1442      48    H      0\n",
      "\n",
      "[145289 rows x 8 columns]\n",
      "\n",
      "Sorted by Winning Score:\n",
      "        Season  Daynum  Wteam  Wscore  Lteam  Lscore Wloc  Numot\n",
      "128582    2013     116   1264      34   1193      31    H      0\n",
      "69336     2001     126   1206      35   1423      33    N      0\n",
      "5364      1986      77   1229      35   1166      34    A      0\n",
      "20246     1990      47   1374      36   1426      31    H      0\n",
      "118590    2011     130   1336      36   1458      33    N      0\n",
      "...        ...     ...    ...     ...    ...     ...  ...    ...\n",
      "20022     1990      40   1116     166   1109     101    H      0\n",
      "24341     1991      47   1328     172   1258     112    H      0\n",
      "19653     1990      30   1328     173   1109     101    H      0\n",
      "17867     1989      92   1258     181   1109     150    H      0\n",
      "24970     1991      68   1258     186   1109     140    H      0\n",
      "\n",
      "[145289 rows x 8 columns]\n",
      "\n",
      "Selected Rows and Columns:\n",
      "     Season  Wteam  Wscore\n",
      "100    1985   1409      86\n",
      "101    1985   1444      90\n",
      "102    1985   1451      89\n",
      "103    1985   1139      78\n",
      "104    1985   1154      78\n",
      "..      ...    ...     ...\n",
      "196    1985   1203      83\n",
      "197    1985   1222      73\n",
      "198    1985   1227      76\n",
      "199    1985   1228      73\n",
      "200    1985   1229      54\n",
      "\n",
      "[101 rows x 3 columns]\n"
     ]
    }
   ],
   "source": [
    "import pandas as pd\n",
    "\n",
    "#First i Need to take all the different variables and sort them by season, winning team and winning score after i can select the rows from index 100 to 200\n",
    "sorted_by_season = df.sort_values('Season')\n",
    "sorted_by_winning_team = df.sort_values('Wteam')\n",
    "sorted_by_winning_score = df.sort_values('Wscore')\n",
    "selected_data = df.iloc[100:201, [0, 2, 3]]\n",
    "\n",
    "#As you can see below i have printed the data\n",
    "print(\"Sorted by Season:\")\n",
    "print(sorted_by_season)\n",
    "print(\"\\nSorted by Winning Team:\")\n",
    "print(sorted_by_winning_team)\n",
    "print(\"\\nSorted by Winning Score:\")\n",
    "print(sorted_by_winning_score)\n",
    "print(\"\\nSelected Rows and Columns:\")\n",
    "print(selected_data)"
   ]
  },
  {
   "attachments": {},
   "cell_type": "markdown",
   "metadata": {},
   "source": [
    "**Q**: From these three subsets you obtained above, find the season and winning team for the game with the highest winning score."
   ]
  },
  {
   "cell_type": "code",
   "execution_count": 27,
   "metadata": {},
   "outputs": [
    {
     "name": "stdout",
     "output_type": "stream",
     "text": [
      "Season with the highest winning score: 2013\n",
      "Winning team with the highest winning score: 1264\n",
      "Highest winning score: 34\n"
     ]
    }
   ],
   "source": [
    "# Sort the DataFrame by 'Wscore' to get the highest winning score\n",
    "sorted_by_winning_score = df.sort_values('Wscore')\n",
    "\n",
    "# Select the row with the highest 'Wscore'\n",
    "highest_winning_score_row = sorted_by_winning_score.iloc[0]\n",
    "\n",
    "# Extract details of the highest winning score\n",
    "highest_winning_score_season = highest_winning_score_row['Season']\n",
    "highest_winning_score_winning_team = highest_winning_score_row['Wteam']\n",
    "highest_winning_score = highest_winning_score_row['Wscore']\n",
    "\n",
    "# Print the details\n",
    "print(\"Season with the highest winning score:\", highest_winning_score_season)\n",
    "print(\"Winning team with the highest winning score:\", highest_winning_score_winning_team)\n",
    "print(\"Highest winning score:\", highest_winning_score)"
   ]
  },
  {
   "attachments": {},
   "cell_type": "markdown",
   "metadata": {},
   "source": [
    "# Filtering Rows Conditionally"
   ]
  },
  {
   "attachments": {},
   "cell_type": "markdown",
   "metadata": {},
   "source": [
    "Now, let's say we want to find all of the rows that satisy a particular condition. For example, I want to find all of the games where the winning team scored more than 150 points. The idea behind this command is you want to access the column 'Wscore' of the dataframe df (df['Wscore']), find which entries are above 150 (df['Wscore'] > 150), and then returns only those specific rows in a dataframe format (df[df['Wscore'] > 150])."
   ]
  },
  {
   "cell_type": "code",
   "execution_count": 28,
   "metadata": {
    "collapsed": false
   },
   "outputs": [
    {
     "data": {
      "text/html": [
       "<div>\n",
       "<style scoped>\n",
       "    .dataframe tbody tr th:only-of-type {\n",
       "        vertical-align: middle;\n",
       "    }\n",
       "\n",
       "    .dataframe tbody tr th {\n",
       "        vertical-align: top;\n",
       "    }\n",
       "\n",
       "    .dataframe thead th {\n",
       "        text-align: right;\n",
       "    }\n",
       "</style>\n",
       "<table border=\"1\" class=\"dataframe\">\n",
       "  <thead>\n",
       "    <tr style=\"text-align: right;\">\n",
       "      <th></th>\n",
       "      <th>Season</th>\n",
       "      <th>Daynum</th>\n",
       "      <th>Wteam</th>\n",
       "      <th>Wscore</th>\n",
       "      <th>Lteam</th>\n",
       "      <th>Lscore</th>\n",
       "      <th>Wloc</th>\n",
       "      <th>Numot</th>\n",
       "    </tr>\n",
       "  </thead>\n",
       "  <tbody>\n",
       "    <tr>\n",
       "      <th>5269</th>\n",
       "      <td>1986</td>\n",
       "      <td>75</td>\n",
       "      <td>1258</td>\n",
       "      <td>151</td>\n",
       "      <td>1109</td>\n",
       "      <td>107</td>\n",
       "      <td>H</td>\n",
       "      <td>0</td>\n",
       "    </tr>\n",
       "    <tr>\n",
       "      <th>12046</th>\n",
       "      <td>1988</td>\n",
       "      <td>40</td>\n",
       "      <td>1328</td>\n",
       "      <td>152</td>\n",
       "      <td>1147</td>\n",
       "      <td>84</td>\n",
       "      <td>H</td>\n",
       "      <td>0</td>\n",
       "    </tr>\n",
       "    <tr>\n",
       "      <th>12355</th>\n",
       "      <td>1988</td>\n",
       "      <td>52</td>\n",
       "      <td>1328</td>\n",
       "      <td>151</td>\n",
       "      <td>1173</td>\n",
       "      <td>99</td>\n",
       "      <td>N</td>\n",
       "      <td>0</td>\n",
       "    </tr>\n",
       "    <tr>\n",
       "      <th>16040</th>\n",
       "      <td>1989</td>\n",
       "      <td>40</td>\n",
       "      <td>1328</td>\n",
       "      <td>152</td>\n",
       "      <td>1331</td>\n",
       "      <td>122</td>\n",
       "      <td>H</td>\n",
       "      <td>0</td>\n",
       "    </tr>\n",
       "    <tr>\n",
       "      <th>16853</th>\n",
       "      <td>1989</td>\n",
       "      <td>68</td>\n",
       "      <td>1258</td>\n",
       "      <td>162</td>\n",
       "      <td>1109</td>\n",
       "      <td>144</td>\n",
       "      <td>A</td>\n",
       "      <td>0</td>\n",
       "    </tr>\n",
       "    <tr>\n",
       "      <th>17867</th>\n",
       "      <td>1989</td>\n",
       "      <td>92</td>\n",
       "      <td>1258</td>\n",
       "      <td>181</td>\n",
       "      <td>1109</td>\n",
       "      <td>150</td>\n",
       "      <td>H</td>\n",
       "      <td>0</td>\n",
       "    </tr>\n",
       "    <tr>\n",
       "      <th>19653</th>\n",
       "      <td>1990</td>\n",
       "      <td>30</td>\n",
       "      <td>1328</td>\n",
       "      <td>173</td>\n",
       "      <td>1109</td>\n",
       "      <td>101</td>\n",
       "      <td>H</td>\n",
       "      <td>0</td>\n",
       "    </tr>\n",
       "    <tr>\n",
       "      <th>19971</th>\n",
       "      <td>1990</td>\n",
       "      <td>38</td>\n",
       "      <td>1258</td>\n",
       "      <td>152</td>\n",
       "      <td>1109</td>\n",
       "      <td>137</td>\n",
       "      <td>A</td>\n",
       "      <td>0</td>\n",
       "    </tr>\n",
       "    <tr>\n",
       "      <th>20022</th>\n",
       "      <td>1990</td>\n",
       "      <td>40</td>\n",
       "      <td>1116</td>\n",
       "      <td>166</td>\n",
       "      <td>1109</td>\n",
       "      <td>101</td>\n",
       "      <td>H</td>\n",
       "      <td>0</td>\n",
       "    </tr>\n",
       "    <tr>\n",
       "      <th>22145</th>\n",
       "      <td>1990</td>\n",
       "      <td>97</td>\n",
       "      <td>1258</td>\n",
       "      <td>157</td>\n",
       "      <td>1362</td>\n",
       "      <td>115</td>\n",
       "      <td>H</td>\n",
       "      <td>0</td>\n",
       "    </tr>\n",
       "    <tr>\n",
       "      <th>23582</th>\n",
       "      <td>1991</td>\n",
       "      <td>26</td>\n",
       "      <td>1318</td>\n",
       "      <td>152</td>\n",
       "      <td>1258</td>\n",
       "      <td>123</td>\n",
       "      <td>N</td>\n",
       "      <td>0</td>\n",
       "    </tr>\n",
       "    <tr>\n",
       "      <th>24341</th>\n",
       "      <td>1991</td>\n",
       "      <td>47</td>\n",
       "      <td>1328</td>\n",
       "      <td>172</td>\n",
       "      <td>1258</td>\n",
       "      <td>112</td>\n",
       "      <td>H</td>\n",
       "      <td>0</td>\n",
       "    </tr>\n",
       "    <tr>\n",
       "      <th>24970</th>\n",
       "      <td>1991</td>\n",
       "      <td>68</td>\n",
       "      <td>1258</td>\n",
       "      <td>186</td>\n",
       "      <td>1109</td>\n",
       "      <td>140</td>\n",
       "      <td>H</td>\n",
       "      <td>0</td>\n",
       "    </tr>\n",
       "    <tr>\n",
       "      <th>25656</th>\n",
       "      <td>1991</td>\n",
       "      <td>84</td>\n",
       "      <td>1106</td>\n",
       "      <td>151</td>\n",
       "      <td>1212</td>\n",
       "      <td>97</td>\n",
       "      <td>H</td>\n",
       "      <td>0</td>\n",
       "    </tr>\n",
       "    <tr>\n",
       "      <th>28687</th>\n",
       "      <td>1992</td>\n",
       "      <td>54</td>\n",
       "      <td>1261</td>\n",
       "      <td>159</td>\n",
       "      <td>1319</td>\n",
       "      <td>86</td>\n",
       "      <td>H</td>\n",
       "      <td>0</td>\n",
       "    </tr>\n",
       "    <tr>\n",
       "      <th>35023</th>\n",
       "      <td>1993</td>\n",
       "      <td>112</td>\n",
       "      <td>1380</td>\n",
       "      <td>155</td>\n",
       "      <td>1341</td>\n",
       "      <td>91</td>\n",
       "      <td>A</td>\n",
       "      <td>0</td>\n",
       "    </tr>\n",
       "    <tr>\n",
       "      <th>40060</th>\n",
       "      <td>1995</td>\n",
       "      <td>32</td>\n",
       "      <td>1375</td>\n",
       "      <td>156</td>\n",
       "      <td>1341</td>\n",
       "      <td>114</td>\n",
       "      <td>H</td>\n",
       "      <td>0</td>\n",
       "    </tr>\n",
       "    <tr>\n",
       "      <th>52600</th>\n",
       "      <td>1998</td>\n",
       "      <td>33</td>\n",
       "      <td>1395</td>\n",
       "      <td>153</td>\n",
       "      <td>1410</td>\n",
       "      <td>87</td>\n",
       "      <td>H</td>\n",
       "      <td>0</td>\n",
       "    </tr>\n",
       "  </tbody>\n",
       "</table>\n",
       "</div>"
      ],
      "text/plain": [
       "       Season  Daynum  Wteam  Wscore  Lteam  Lscore Wloc  Numot\n",
       "5269     1986      75   1258     151   1109     107    H      0\n",
       "12046    1988      40   1328     152   1147      84    H      0\n",
       "12355    1988      52   1328     151   1173      99    N      0\n",
       "16040    1989      40   1328     152   1331     122    H      0\n",
       "16853    1989      68   1258     162   1109     144    A      0\n",
       "17867    1989      92   1258     181   1109     150    H      0\n",
       "19653    1990      30   1328     173   1109     101    H      0\n",
       "19971    1990      38   1258     152   1109     137    A      0\n",
       "20022    1990      40   1116     166   1109     101    H      0\n",
       "22145    1990      97   1258     157   1362     115    H      0\n",
       "23582    1991      26   1318     152   1258     123    N      0\n",
       "24341    1991      47   1328     172   1258     112    H      0\n",
       "24970    1991      68   1258     186   1109     140    H      0\n",
       "25656    1991      84   1106     151   1212      97    H      0\n",
       "28687    1992      54   1261     159   1319      86    H      0\n",
       "35023    1993     112   1380     155   1341      91    A      0\n",
       "40060    1995      32   1375     156   1341     114    H      0\n",
       "52600    1998      33   1395     153   1410      87    H      0"
      ]
     },
     "execution_count": 28,
     "metadata": {},
     "output_type": "execute_result"
    }
   ],
   "source": [
    "df[df['Wscore'] > 150]"
   ]
  },
  {
   "attachments": {},
   "cell_type": "markdown",
   "metadata": {},
   "source": [
    "This also works if you have multiple conditions. Let's say we want to find out when the winning team scores more than 150 points and when the losing team scores below 100. "
   ]
  },
  {
   "cell_type": "code",
   "execution_count": 29,
   "metadata": {
    "collapsed": false
   },
   "outputs": [
    {
     "data": {
      "text/html": [
       "<div>\n",
       "<style scoped>\n",
       "    .dataframe tbody tr th:only-of-type {\n",
       "        vertical-align: middle;\n",
       "    }\n",
       "\n",
       "    .dataframe tbody tr th {\n",
       "        vertical-align: top;\n",
       "    }\n",
       "\n",
       "    .dataframe thead th {\n",
       "        text-align: right;\n",
       "    }\n",
       "</style>\n",
       "<table border=\"1\" class=\"dataframe\">\n",
       "  <thead>\n",
       "    <tr style=\"text-align: right;\">\n",
       "      <th></th>\n",
       "      <th>Season</th>\n",
       "      <th>Daynum</th>\n",
       "      <th>Wteam</th>\n",
       "      <th>Wscore</th>\n",
       "      <th>Lteam</th>\n",
       "      <th>Lscore</th>\n",
       "      <th>Wloc</th>\n",
       "      <th>Numot</th>\n",
       "    </tr>\n",
       "  </thead>\n",
       "  <tbody>\n",
       "    <tr>\n",
       "      <th>12046</th>\n",
       "      <td>1988</td>\n",
       "      <td>40</td>\n",
       "      <td>1328</td>\n",
       "      <td>152</td>\n",
       "      <td>1147</td>\n",
       "      <td>84</td>\n",
       "      <td>H</td>\n",
       "      <td>0</td>\n",
       "    </tr>\n",
       "    <tr>\n",
       "      <th>12355</th>\n",
       "      <td>1988</td>\n",
       "      <td>52</td>\n",
       "      <td>1328</td>\n",
       "      <td>151</td>\n",
       "      <td>1173</td>\n",
       "      <td>99</td>\n",
       "      <td>N</td>\n",
       "      <td>0</td>\n",
       "    </tr>\n",
       "    <tr>\n",
       "      <th>25656</th>\n",
       "      <td>1991</td>\n",
       "      <td>84</td>\n",
       "      <td>1106</td>\n",
       "      <td>151</td>\n",
       "      <td>1212</td>\n",
       "      <td>97</td>\n",
       "      <td>H</td>\n",
       "      <td>0</td>\n",
       "    </tr>\n",
       "    <tr>\n",
       "      <th>28687</th>\n",
       "      <td>1992</td>\n",
       "      <td>54</td>\n",
       "      <td>1261</td>\n",
       "      <td>159</td>\n",
       "      <td>1319</td>\n",
       "      <td>86</td>\n",
       "      <td>H</td>\n",
       "      <td>0</td>\n",
       "    </tr>\n",
       "    <tr>\n",
       "      <th>35023</th>\n",
       "      <td>1993</td>\n",
       "      <td>112</td>\n",
       "      <td>1380</td>\n",
       "      <td>155</td>\n",
       "      <td>1341</td>\n",
       "      <td>91</td>\n",
       "      <td>A</td>\n",
       "      <td>0</td>\n",
       "    </tr>\n",
       "    <tr>\n",
       "      <th>52600</th>\n",
       "      <td>1998</td>\n",
       "      <td>33</td>\n",
       "      <td>1395</td>\n",
       "      <td>153</td>\n",
       "      <td>1410</td>\n",
       "      <td>87</td>\n",
       "      <td>H</td>\n",
       "      <td>0</td>\n",
       "    </tr>\n",
       "  </tbody>\n",
       "</table>\n",
       "</div>"
      ],
      "text/plain": [
       "       Season  Daynum  Wteam  Wscore  Lteam  Lscore Wloc  Numot\n",
       "12046    1988      40   1328     152   1147      84    H      0\n",
       "12355    1988      52   1328     151   1173      99    N      0\n",
       "25656    1991      84   1106     151   1212      97    H      0\n",
       "28687    1992      54   1261     159   1319      86    H      0\n",
       "35023    1993     112   1380     155   1341      91    A      0\n",
       "52600    1998      33   1395     153   1410      87    H      0"
      ]
     },
     "execution_count": 29,
     "metadata": {},
     "output_type": "execute_result"
    }
   ],
   "source": [
    "df[(df['Wscore'] > 150) & (df['Lscore'] < 100)]"
   ]
  },
  {
   "attachments": {},
   "cell_type": "markdown",
   "metadata": {},
   "source": [
    "**Q**: Create a new column in the DataFrame called 'ScoreDifference' which is the absolute difference between the winning score and the losing score. Filter the DataFrame to only include games where the 'ScoreDifference' is greater than the average 'ScoreDifference' for all games."
   ]
  },
  {
   "cell_type": "code",
   "execution_count": 30,
   "metadata": {},
   "outputs": [
    {
     "name": "stdout",
     "output_type": "stream",
     "text": [
      "Original DataFrame with 'ScoreDifference':\n",
      "        Season  Daynum  Wteam  Wscore  Lteam  Lscore Wloc  Numot  \\\n",
      "0         1985      20   1228      81   1328      64    N      0   \n",
      "1         1985      25   1106      77   1354      70    H      0   \n",
      "2         1985      25   1112      63   1223      56    H      0   \n",
      "3         1985      25   1165      70   1432      54    H      0   \n",
      "4         1985      25   1192      86   1447      74    H      0   \n",
      "...        ...     ...    ...     ...    ...     ...  ...    ...   \n",
      "145284    2016     132   1114      70   1419      50    N      0   \n",
      "145285    2016     132   1163      72   1272      58    N      0   \n",
      "145286    2016     132   1246      82   1401      77    N      1   \n",
      "145287    2016     132   1277      66   1345      62    N      0   \n",
      "145288    2016     132   1386      87   1433      74    N      0   \n",
      "\n",
      "        ScoreDifference  \n",
      "0                    17  \n",
      "1                     7  \n",
      "2                     7  \n",
      "3                    16  \n",
      "4                    12  \n",
      "...                 ...  \n",
      "145284               20  \n",
      "145285               14  \n",
      "145286                5  \n",
      "145287                4  \n",
      "145288               13  \n",
      "\n",
      "[145289 rows x 9 columns]\n",
      "\n",
      "Filtered DataFrame (ScoreDifference > average):\n",
      "        Season  Daynum  Wteam  Wscore  Lteam  Lscore Wloc  Numot  \\\n",
      "0         1985      20   1228      81   1328      64    N      0   \n",
      "3         1985      25   1165      70   1432      54    H      0   \n",
      "6         1985      25   1228      64   1226      44    N      0   \n",
      "8         1985      25   1260      98   1133      80    H      0   \n",
      "10        1985      25   1307     103   1288      71    H      0   \n",
      "...        ...     ...    ...     ...    ...     ...  ...    ...   \n",
      "145280    2016     131   1401      71   1261      38    N      0   \n",
      "145282    2016     131   1433      76   1172      54    N      0   \n",
      "145284    2016     132   1114      70   1419      50    N      0   \n",
      "145285    2016     132   1163      72   1272      58    N      0   \n",
      "145288    2016     132   1386      87   1433      74    N      0   \n",
      "\n",
      "        ScoreDifference  \n",
      "0                    17  \n",
      "3                    16  \n",
      "6                    20  \n",
      "8                    18  \n",
      "10                   32  \n",
      "...                 ...  \n",
      "145280               33  \n",
      "145282               22  \n",
      "145284               20  \n",
      "145285               14  \n",
      "145288               13  \n",
      "\n",
      "[57227 rows x 9 columns]\n"
     ]
    }
   ],
   "source": [
    "# first i wil create a 'ScoreDifference' with the absolute difference between 'Wscore' and 'Lscore'\n",
    "df['ScoreDifference'] = (df['Wscore'] - df['Lscore']).abs()\n",
    "\n",
    "# Calculating the average 'ScoreDifference' for all games\n",
    "average_score_difference = df['ScoreDifference'].mean()\n",
    "\n",
    "# Now i will filter the DataFrame to only include games where 'ScoreDifference' is greater than the average\n",
    "filtered_df = df[df['ScoreDifference'] > average_score_difference]\n",
    "\n",
    "# Printing the original DataFrame with the new column\n",
    "print(\"Original DataFrame with 'ScoreDifference':\")\n",
    "print(df)\n",
    "\n",
    "# Printing the filtered DataFrame\n",
    "print(\"\\nFiltered DataFrame (ScoreDifference > average):\")\n",
    "print(filtered_df)"
   ]
  },
  {
   "attachments": {},
   "cell_type": "markdown",
   "metadata": {},
   "source": [
    "**Q**: From this filtered DataFrame, find the season and teams involved in the game with the highest 'ScoreDifference'."
   ]
  },
  {
   "cell_type": "code",
   "execution_count": 31,
   "metadata": {},
   "outputs": [
    {
     "name": "stdout",
     "output_type": "stream",
     "text": [
      "Season with the highest ScoreDifference: 1996\n",
      "Winning team with the highest ScoreDifference: 1409\n",
      "Losing team with the highest ScoreDifference: 1341\n",
      "Highest ScoreDifference: 91\n"
     ]
    }
   ],
   "source": [
    "\n",
    "# Creating the same colum as before \n",
    "df['ScoreDifference'] = (df['Wscore'] - df['Lscore']).abs()\n",
    "\n",
    "# Calculate the average 'ScoreDifference' for all games \n",
    "average_score_difference = df['ScoreDifference'].mean()\n",
    "\n",
    "# Filter the DataFrame to only include games where 'ScoreDifference' is greater than the average\n",
    "filtered_df = df[df['ScoreDifference'] > average_score_difference]\n",
    "\n",
    "# Find the row with the highest 'ScoreDifference' in the filtered DataFrame\n",
    "game_with_highest_difference = filtered_df.loc[filtered_df['ScoreDifference'].idxmax()]\n",
    "\n",
    "# Extract the season, winning team, and losing team involved in this game\n",
    "season_with_highest_difference = game_with_highest_difference['Season']\n",
    "winning_team_with_highest_difference = game_with_highest_difference['Wteam']\n",
    "losing_team_with_highest_difference = game_with_highest_difference['Lteam']\n",
    "highest_difference_score = game_with_highest_difference['ScoreDifference']\n",
    "\n",
    "# Printing the results\n",
    "print(\"Season with the highest ScoreDifference:\", season_with_highest_difference)\n",
    "print(\"Winning team with the highest ScoreDifference:\", winning_team_with_highest_difference)\n",
    "print(\"Losing team with the highest ScoreDifference:\", losing_team_with_highest_difference)\n",
    "print(\"Highest ScoreDifference:\", highest_difference_score)"
   ]
  },
  {
   "attachments": {},
   "cell_type": "markdown",
   "metadata": {},
   "source": [
    "# Grouping"
   ]
  },
  {
   "attachments": {},
   "cell_type": "markdown",
   "metadata": {},
   "source": [
    "Another important function in Pandas is **groupby()**. This is a function that allows you to group entries by certain attributes (e.g Grouping entries by Wteam number) and then perform operations on them. The following function groups all the entries (games) with the same Wteam number and finds the mean for each group. "
   ]
  },
  {
   "cell_type": "code",
   "execution_count": 32,
   "metadata": {
    "collapsed": false
   },
   "outputs": [
    {
     "data": {
      "text/plain": [
       "Wteam\n",
       "1101    78.111111\n",
       "1102    69.893204\n",
       "1103    75.839768\n",
       "1104    75.825944\n",
       "1105    74.960894\n",
       "Name: Wscore, dtype: float64"
      ]
     },
     "execution_count": 32,
     "metadata": {},
     "output_type": "execute_result"
    }
   ],
   "source": [
    "df.groupby('Wteam')['Wscore'].mean().head()"
   ]
  },
  {
   "attachments": {},
   "cell_type": "markdown",
   "metadata": {},
   "source": [
    "This next command groups all the games with the same Wteam number and finds where how many times that specific team won at home, on the road, or at a neutral site"
   ]
  },
  {
   "cell_type": "code",
   "execution_count": 33,
   "metadata": {
    "collapsed": false,
    "scrolled": false
   },
   "outputs": [
    {
     "data": {
      "text/plain": [
       "Wteam  Wloc\n",
       "1101   H        12\n",
       "       N         3\n",
       "       A         3\n",
       "1102   H       204\n",
       "       A        73\n",
       "       N        32\n",
       "1103   H       324\n",
       "       A       153\n",
       "       N        41\n",
       "Name: count, dtype: int64"
      ]
     },
     "execution_count": 33,
     "metadata": {},
     "output_type": "execute_result"
    }
   ],
   "source": [
    "df.groupby('Wteam')['Wloc'].value_counts().head(9)"
   ]
  },
  {
   "attachments": {},
   "cell_type": "markdown",
   "metadata": {},
   "source": [
    "Each dataframe has a **values** attribute which is useful because it basically displays your dataframe in a numpy array style format"
   ]
  },
  {
   "cell_type": "code",
   "execution_count": 34,
   "metadata": {
    "collapsed": false
   },
   "outputs": [
    {
     "data": {
      "text/plain": [
       "array([[1985, 20, 1228, ..., 'N', 0, 17],\n",
       "       [1985, 25, 1106, ..., 'H', 0, 7],\n",
       "       [1985, 25, 1112, ..., 'H', 0, 7],\n",
       "       ...,\n",
       "       [2016, 132, 1246, ..., 'N', 1, 5],\n",
       "       [2016, 132, 1277, ..., 'N', 0, 4],\n",
       "       [2016, 132, 1386, ..., 'N', 0, 13]], dtype=object)"
      ]
     },
     "execution_count": 34,
     "metadata": {},
     "output_type": "execute_result"
    }
   ],
   "source": [
    "df.values"
   ]
  },
  {
   "attachments": {},
   "cell_type": "markdown",
   "metadata": {},
   "source": [
    "Now, you can simply just access elements like you would in an array. "
   ]
  },
  {
   "cell_type": "code",
   "execution_count": 35,
   "metadata": {
    "collapsed": false
   },
   "outputs": [
    {
     "data": {
      "text/plain": [
       "1985"
      ]
     },
     "execution_count": 35,
     "metadata": {},
     "output_type": "execute_result"
    }
   ],
   "source": [
    "df.values[0][0]"
   ]
  },
  {
   "attachments": {},
   "cell_type": "markdown",
   "metadata": {},
   "source": [
    "**Q**: Group the DataFrame by season and find the average winning score for each season."
   ]
  },
  {
   "cell_type": "code",
   "execution_count": 36,
   "metadata": {},
   "outputs": [
    {
     "name": "stdout",
     "output_type": "stream",
     "text": [
      "Average Winning Score per Season:\n",
      "Season\n",
      "1985    74.723040\n",
      "1986    74.813640\n",
      "1987    77.993870\n",
      "1988    79.773704\n",
      "1989    81.728511\n",
      "1990    80.846477\n",
      "1991    82.733932\n",
      "1992    79.992004\n",
      "1993    79.508790\n",
      "1994    81.160345\n",
      "1995    80.096149\n",
      "1996    78.205483\n",
      "1997    76.300842\n",
      "1998    77.229902\n",
      "1999    76.043581\n",
      "2000    76.310467\n",
      "2001    77.088650\n",
      "2002    76.963557\n",
      "2003    75.795061\n",
      "2004    74.971122\n",
      "2005    74.693690\n",
      "2006    74.587555\n",
      "2007    74.829467\n",
      "2008    74.962425\n",
      "2009    74.033721\n",
      "2010    74.652480\n",
      "2011    74.374190\n",
      "2012    73.379973\n",
      "2013    72.840789\n",
      "2014    76.101268\n",
      "2015    72.680799\n",
      "2016    78.295958\n",
      "Name: Wscore, dtype: float64\n"
     ]
    }
   ],
   "source": [
    "# Group the DataFrame by 'Season'\n",
    "grouped_by_season = df.groupby('Season')\n",
    "\n",
    "# Calculate the average winning score for each season\n",
    "average_winning_score_per_season = grouped_by_season['Wscore'].mean()\n",
    "\n",
    "# Print the result\n",
    "print(\"Average Winning Score per Season:\")\n",
    "print(average_winning_score_per_season)"
   ]
  },
  {
   "attachments": {},
   "cell_type": "markdown",
   "metadata": {},
   "source": [
    "**Q**: Group the DataFrame by winning team and find the maximum winning score for each team across all seasons."
   ]
  },
  {
   "cell_type": "code",
   "execution_count": 37,
   "metadata": {},
   "outputs": [
    {
     "name": "stdout",
     "output_type": "stream",
     "text": [
      "Maximum Winning Score per Team:\n",
      "Wteam\n",
      "1101     95\n",
      "1102    111\n",
      "1103    109\n",
      "1104    114\n",
      "1105    114\n",
      "       ... \n",
      "1460    136\n",
      "1461    112\n",
      "1462    125\n",
      "1463    105\n",
      "1464    115\n",
      "Name: Wscore, Length: 364, dtype: int64\n"
     ]
    }
   ],
   "source": [
    "# Group the DataFrame by 'Wteam'\n",
    "grouped_by_winning_team = df.groupby('Wteam')\n",
    "\n",
    "# Calculate the maximum winning score for each team\n",
    "max_winning_score_per_team = grouped_by_winning_team['Wscore'].max()\n",
    "\n",
    "# Print the result\n",
    "print(\"Maximum Winning Score per Team:\")\n",
    "print(max_winning_score_per_team)"
   ]
  },
  {
   "attachments": {},
   "cell_type": "markdown",
   "metadata": {},
   "source": [
    "**Q**: Group the DataFrame by both season and winning team. Find the team with the highest average winning score for each season."
   ]
  },
  {
   "cell_type": "code",
   "execution_count": 38,
   "metadata": {},
   "outputs": [
    {
     "name": "stdout",
     "output_type": "stream",
     "text": [
      "Team with the highest average winning score for each season:\n",
      "      Season  Wteam      Wscore\n",
      "174     1985   1328   92.800000\n",
      "287     1986   1109   91.200000\n",
      "783     1987   1380   95.875000\n",
      "977     1988   1258  111.750000\n",
      "1268    1989   1258  117.315789\n",
      "1560    1990   1258  126.347826\n",
      "1950    1991   1380  112.312500\n",
      "2246    1992   1380   99.642857\n",
      "2542    1993   1380  101.875000\n",
      "2842    1994   1380  106.583333\n",
      "3003    1995   1206  102.833333\n",
      "3305    1996   1206  103.600000\n",
      "3648    1997   1254   94.142857\n",
      "4070    1998   1395  101.153846\n",
      "4312    1999   1317   95.750000\n",
      "4695    2000   1395   95.647059\n",
      "5013    2001   1395   99.315789\n",
      "5201    2002   1242   92.888889\n",
      "5660    2003   1395   88.222222\n",
      "5809    2004   1194   92.142857\n",
      "6239    2005   1311   91.333333\n",
      "6460    2006   1190   89.533333\n",
      "7026    2007   1440   99.400000\n",
      "7367    2008   1440   94.500000\n",
      "7652    2009   1377   96.200000\n",
      "8061    2010   1440   95.000000\n",
      "8414    2011   1449   90.130435\n",
      "8683    2012   1370   87.400000\n",
      "9036    2013   1377   86.500000\n",
      "9333    2014   1322   92.600000\n",
      "9683    2015   1322   90.733333\n",
      "9861    2016   1146   97.142857\n"
     ]
    }
   ],
   "source": [
    "# Group the DataFrame by 'Season' and 'Wteam' and calculate the average winning score\n",
    "grouped = df.groupby(['Season', 'Wteam'])['Wscore'].mean().reset_index()\n",
    "\n",
    "# For each season, find the team with the highest average winning score\n",
    "idx = grouped.groupby('Season')['Wscore'].idxmax()\n",
    "teams_with_highest_avg_score_per_season = grouped.loc[idx]\n",
    "\n",
    "# Print the result\n",
    "print(\"Team with the highest average winning score for each season:\")\n",
    "print(teams_with_highest_avg_score_per_season)"
   ]
  },
  {
   "attachments": {},
   "cell_type": "markdown",
   "metadata": {},
   "source": [
    "**Q**: Create a new DataFrame that counts the number of wins for each team in each season. This will involve grouping by both season and winning team, and then using the count() function."
   ]
  },
  {
   "cell_type": "code",
   "execution_count": 39,
   "metadata": {},
   "outputs": [
    {
     "name": "stdout",
     "output_type": "stream",
     "text": [
      "Number of wins for each team in each season:\n",
      "       Season  Wteam  WinCount\n",
      "0        1985   1102         5\n",
      "1        1985   1103         9\n",
      "2        1985   1104        21\n",
      "3        1985   1106        10\n",
      "4        1985   1108        19\n",
      "...       ...    ...       ...\n",
      "10167    2016   1460        20\n",
      "10168    2016   1461        12\n",
      "10169    2016   1462        27\n",
      "10170    2016   1463        21\n",
      "10171    2016   1464         9\n",
      "\n",
      "[10172 rows x 3 columns]\n"
     ]
    }
   ],
   "source": [
    "# Group by 'Season' and 'Wteam' and count the number of wins\n",
    "win_counts = df.groupby(['Season', 'Wteam']).size()\n",
    "\n",
    "# Reset the index to convert the Series to a DataFrame\n",
    "win_counts_df = win_counts.reset_index(name='WinCount')\n",
    "\n",
    "# Print the result\n",
    "print(\"Number of wins for each team in each season:\")\n",
    "print(win_counts_df)"
   ]
  },
  {
   "attachments": {},
   "cell_type": "markdown",
   "metadata": {},
   "source": [
    "**Q**: For each season, find the team with the most wins. This will involve creating a DataFrame similar to the one in task 5, and then using the idxmax() function for each season."
   ]
  },
  {
   "cell_type": "code",
   "execution_count": 40,
   "metadata": {},
   "outputs": [
    {
     "name": "stdout",
     "output_type": "stream",
     "text": [
      "Team with the most wins for each season:\n",
      "      Season  Wteam  WinCount\n",
      "217     1985   1385        27\n",
      "342     1986   1181        32\n",
      "818     1987   1424        33\n",
      "861     1988   1112        31\n",
      "1323    1989   1328        28\n",
      "1551    1990   1247        29\n",
      "1739    1991   1116        30\n",
      "2088    1992   1181        28\n",
      "2423    1993   1231        28\n",
      "2665    1994   1163        27\n",
      "2928    1995   1116        26\n",
      "3357    1996   1269        31\n",
      "3638    1997   1242        31\n",
      "3943    1998   1242        33\n",
      "4201    1999   1181        32\n",
      "4709    2000   1409        29\n",
      "4829    2001   1181        29\n",
      "5121    2002   1153        30\n",
      "5456    2003   1166        29\n",
      "5981    2004   1390        29\n",
      "6165    2005   1228        32\n",
      "6452    2006   1181        30\n",
      "6841    2007   1242        30\n",
      "7209    2008   1272        33\n",
      "7552    2009   1272        31\n",
      "7870    2010   1242        32\n",
      "8217    2011   1242        32\n",
      "8565    2012   1246        32\n",
      "8878    2013   1211        30\n",
      "9462    2014   1455        33\n",
      "9609    2015   1246        34\n",
      "9955    2016   1242        29\n"
     ]
    }
   ],
   "source": [
    "# Group by 'Season' and 'Wteam' and count the number of wins\n",
    "win_counts = df.groupby(['Season', 'Wteam']).size().reset_index(name='WinCount')\n",
    "\n",
    "# Find the team with the most wins for each season\n",
    "idx = win_counts.groupby('Season')['WinCount'].idxmax()\n",
    "teams_with_most_wins_per_season = win_counts.loc[idx][['Season', 'Wteam', 'WinCount']]\n",
    "\n",
    "# Print the result\n",
    "print(\"Team with the most wins for each season:\")\n",
    "print(teams_with_most_wins_per_season)"
   ]
  },
  {
   "attachments": {},
   "cell_type": "markdown",
   "metadata": {},
   "source": [
    "**Q**: Group the DataFrame by losing team and find the average losing score for each team across all seasons. Compare this with the average winning score for each team from task 3. Are there teams that have a higher average losing score than winning score?"
   ]
  },
  {
   "cell_type": "code",
   "execution_count": 41,
   "metadata": {},
   "outputs": [
    {
     "name": "stdout",
     "output_type": "stream",
     "text": [
      "Average Losing Score per Team:\n",
      "Lteam\n",
      "1101    60.586207\n",
      "1102    59.201507\n",
      "1103    64.117347\n",
      "1104    64.374317\n",
      "1105    61.675373\n",
      "          ...    \n",
      "1460    63.082915\n",
      "1461    64.661972\n",
      "1462    68.216117\n",
      "1463    60.829213\n",
      "1464    65.187063\n",
      "Name: Lscore, Length: 364, dtype: float64\n",
      "\n",
      "Average Winning Score per Team:\n",
      "Wteam\n",
      "1101    78.111111\n",
      "1102    69.893204\n",
      "1103    75.839768\n",
      "1104    75.825944\n",
      "1105    74.960894\n",
      "          ...    \n",
      "1460    75.531469\n",
      "1461    75.170082\n",
      "1462    79.906021\n",
      "1463    71.720102\n",
      "1464    73.926056\n",
      "Name: Wscore, Length: 364, dtype: float64\n",
      "\n",
      "Comparison of Average Scores (Winning vs Losing):\n",
      "      Average_Winning_Score  Average_Losing_Score\n",
      "1101              78.111111             60.586207\n",
      "1102              69.893204             59.201507\n",
      "1103              75.839768             64.117347\n",
      "1104              75.825944             64.374317\n",
      "1105              74.960894             61.675373\n",
      "...                     ...                   ...\n",
      "1460              75.531469             63.082915\n",
      "1461              75.170082             64.661972\n",
      "1462              79.906021             68.216117\n",
      "1463              71.720102             60.829213\n",
      "1464              73.926056             65.187063\n",
      "\n",
      "[364 rows x 2 columns]\n",
      "\n",
      "Teams with Higher Average Losing Score than Winning Score:\n",
      "Empty DataFrame\n",
      "Columns: [Average_Winning_Score, Average_Losing_Score]\n",
      "Index: []\n"
     ]
    }
   ],
   "source": [
    "# Calculate the average losing score by losing team\n",
    "avg_losing_score = df.groupby('Lteam')['Lscore'].mean()\n",
    "\n",
    "print(\"Average Losing Score per Team:\")\n",
    "print(avg_losing_score)\n",
    "\n",
    "# Calculate the average winning score by winning team (reuse from task 3)\n",
    "avg_winning_score = df.groupby('Wteam')['Wscore'].mean()\n",
    "\n",
    "print(\"\\nAverage Winning Score per Team:\")\n",
    "print(avg_winning_score)\n",
    "\n",
    "# Combine the results into a single DataFrame for comparison\n",
    "comparison_df = pd.DataFrame({\n",
    "    'Average_Winning_Score': avg_winning_score,\n",
    "    'Average_Losing_Score': avg_losing_score\n",
    "})\n",
    "\n",
    "# Drop rows with missing values (some teams may only be winners or losers)\n",
    "comparison_df = comparison_df.dropna()\n",
    "\n",
    "print(\"\\nComparison of Average Scores (Winning vs Losing):\")\n",
    "print(comparison_df)\n",
    "\n",
    "# Step 4: Identify teams with higher average losing score than winning score\n",
    "teams_higher_losing_score = comparison_df[comparison_df['Average_Losing_Score'] > comparison_df['Average_Winning_Score']]\n",
    "\n",
    "print(\"\\nTeams with Higher Average Losing Score than Winning Score:\")\n",
    "print(teams_higher_losing_score)"
   ]
  },
  {
   "attachments": {},
   "cell_type": "markdown",
   "metadata": {},
   "source": [
    "# Dataframe Iteration"
   ]
  },
  {
   "attachments": {},
   "cell_type": "markdown",
   "metadata": {},
   "source": [
    "In order to iterate through dataframes, we can use the **iterrows()** function. Below is an example of what the first two rows look like. Each row in iterrows is a Series object"
   ]
  },
  {
   "cell_type": "code",
   "execution_count": 42,
   "metadata": {
    "collapsed": false
   },
   "outputs": [
    {
     "name": "stdout",
     "output_type": "stream",
     "text": [
      "Season             1985\n",
      "Daynum               20\n",
      "Wteam              1228\n",
      "Wscore               81\n",
      "Lteam              1328\n",
      "Lscore               64\n",
      "Wloc                  N\n",
      "Numot                 0\n",
      "ScoreDifference      17\n",
      "Name: 0, dtype: object\n",
      "Season             1985\n",
      "Daynum               25\n",
      "Wteam              1106\n",
      "Wscore               77\n",
      "Lteam              1354\n",
      "Lscore               70\n",
      "Wloc                  H\n",
      "Numot                 0\n",
      "ScoreDifference       7\n",
      "Name: 1, dtype: object\n"
     ]
    }
   ],
   "source": [
    "for index, row in df.iterrows():\n",
    "    print(row)\n",
    "    if index == 1:\n",
    "        break"
   ]
  },
  {
   "attachments": {},
   "cell_type": "markdown",
   "metadata": {},
   "source": [
    "**Q**: Create a new column 'HighScoringGame' that is 'Yes' if the winning score is greater than 100 and 'No' otherwise. This will require iterating over the rows of the DataFrame and checking the value of the winning score for each row."
   ]
  },
  {
   "cell_type": "code",
   "execution_count": 43,
   "metadata": {},
   "outputs": [
    {
     "name": "stdout",
     "output_type": "stream",
     "text": [
      "Updated DataFrame with 'HighScoringGame':\n",
      "        Season  Daynum  Wteam  Wscore  Lteam  Lscore Wloc  Numot  \\\n",
      "0         1985      20   1228      81   1328      64    N      0   \n",
      "1         1985      25   1106      77   1354      70    H      0   \n",
      "2         1985      25   1112      63   1223      56    H      0   \n",
      "3         1985      25   1165      70   1432      54    H      0   \n",
      "4         1985      25   1192      86   1447      74    H      0   \n",
      "...        ...     ...    ...     ...    ...     ...  ...    ...   \n",
      "145284    2016     132   1114      70   1419      50    N      0   \n",
      "145285    2016     132   1163      72   1272      58    N      0   \n",
      "145286    2016     132   1246      82   1401      77    N      1   \n",
      "145287    2016     132   1277      66   1345      62    N      0   \n",
      "145288    2016     132   1386      87   1433      74    N      0   \n",
      "\n",
      "        ScoreDifference HighScoringGame  \n",
      "0                    17              No  \n",
      "1                     7              No  \n",
      "2                     7              No  \n",
      "3                    16              No  \n",
      "4                    12              No  \n",
      "...                 ...             ...  \n",
      "145284               20              No  \n",
      "145285               14              No  \n",
      "145286                5              No  \n",
      "145287                4              No  \n",
      "145288               13              No  \n",
      "\n",
      "[145289 rows x 10 columns]\n"
     ]
    }
   ],
   "source": [
    "# Create the 'HighScoringGame' column\n",
    "# The lambda function checks if 'Wscore' > 100 for each row and assigns 'Yes' or 'No'\n",
    "df['HighScoringGame'] = df['Wscore'].apply(lambda x: 'Yes' if x > 100 else 'No')\n",
    "\n",
    "# Print the updated DataFrame\n",
    "print(\"Updated DataFrame with 'HighScoringGame':\")\n",
    "print(df)"
   ]
  },
  {
   "attachments": {},
   "cell_type": "markdown",
   "metadata": {},
   "source": [
    "**Q**: Calculate the total number of games played by each team, whether they won or lost. This will require iterating over the rows of the DataFrame and updating a dictionary that keeps track of the number of games for each team."
   ]
  },
  {
   "cell_type": "code",
   "execution_count": 44,
   "metadata": {},
   "outputs": [
    {
     "name": "stdout",
     "output_type": "stream",
     "text": [
      "Total number of games played by each team:\n",
      "1228: 992 games\n",
      "1328: 968 games\n",
      "1106: 855 games\n",
      "1354: 906 games\n",
      "1112: 981 games\n",
      "1223: 363 games\n",
      "1165: 833 games\n",
      "1432: 69 games\n",
      "1192: 908 games\n",
      "1447: 903 games\n",
      "1218: 931 games\n",
      "1337: 922 games\n",
      "1226: 847 games\n",
      "1242: 993 games\n",
      "1268: 969 games\n",
      "1260: 914 games\n",
      "1133: 949 games\n",
      "1305: 922 games\n",
      "1424: 974 games\n",
      "1307: 969 games\n",
      "1288: 925 games\n",
      "1344: 951 games\n",
      "1438: 952 games\n",
      "1374: 916 games\n",
      "1411: 903 games\n",
      "1412: 962 games\n",
      "1397: 963 games\n",
      "1417: 966 games\n",
      "1225: 880 games\n",
      "1116: 980 games\n",
      "1368: 808 games\n",
      "1120: 936 games\n",
      "1391: 879 games\n",
      "1135: 847 games\n",
      "1306: 898 games\n",
      "1143: 947 games\n",
      "1388: 897 games\n",
      "1153: 970 games\n",
      "1184: 863 games\n",
      "1159: 887 games\n",
      "1171: 829 games\n",
      "1216: 930 games\n",
      "1173: 960 games\n",
      "1134: 200 games\n",
      "1177: 942 games\n",
      "1296: 879 games\n",
      "1193: 942 games\n",
      "1265: 934 games\n",
      "1196: 981 games\n",
      "1416: 881 games\n",
      "1206: 938 games\n",
      "1137: 912 games\n",
      "1210: 972 games\n",
      "1149: 824 games\n",
      "1211: 921 games\n",
      "1102: 840 games\n",
      "1234: 968 games\n",
      "1114: 910 games\n",
      "1332: 927 games\n",
      "1243: 927 games\n",
      "1317: 883 games\n",
      "1257: 994 games\n",
      "1231: 969 games\n",
      "1277: 966 games\n",
      "1145: 934 games\n",
      "1278: 948 games\n",
      "1453: 912 games\n",
      "1286: 851 games\n",
      "1186: 849 games\n",
      "1301: 979 games\n",
      "1144: 850 games\n",
      "1325: 942 games\n",
      "1384: 887 games\n",
      "1326: 968 games\n",
      "1248: 896 games\n",
      "1287: 857 games\n",
      "1339: 879 games\n",
      "1334: 899 games\n",
      "1365: 907 games\n",
      "1375: 896 games\n",
      "1126: 906 games\n",
      "1403: 939 games\n",
      "1152: 865 games\n",
      "1423: 931 games\n",
      "1347: 858 games\n",
      "1429: 930 games\n",
      "1428: 931 games\n",
      "1437: 983 games\n",
      "1436: 911 games\n",
      "1172: 879 games\n",
      "1439: 946 games\n",
      "1330: 963 games\n",
      "1443: 942 games\n",
      "1121: 175 games\n",
      "1455: 947 games\n",
      "1249: 873 games\n",
      "1241: 942 games\n",
      "1440: 825 games\n",
      "1314: 1010 games\n",
      "1200: 922 games\n",
      "1323: 950 games\n",
      "1264: 928 games\n",
      "1458: 951 games\n",
      "1104: 975 games\n",
      "1160: 928 games\n",
      "1414: 922 games\n",
      "1181: 1013 games\n",
      "1387: 956 games\n",
      "1183: 871 games\n",
      "1247: 943 games\n",
      "1284: 932 games\n",
      "1402: 847 games\n",
      "1276: 959 games\n",
      "1178: 920 games\n",
      "1364: 890 games\n",
      "1338: 962 games\n",
      "1290: 875 games\n",
      "1376: 945 games\n",
      "1378: 936 games\n",
      "1202: 856 games\n",
      "1396: 979 games\n",
      "1180: 930 games\n",
      "1398: 870 games\n",
      "1399: 860 games\n",
      "1155: 950 games\n",
      "1258: 898 games\n",
      "1448: 947 games\n",
      "1464: 856 games\n",
      "1124: 906 games\n",
      "1341: 857 games\n",
      "1130: 951 games\n",
      "1254: 898 games\n",
      "1204: 862 games\n",
      "1151: 899 games\n",
      "1233: 957 games\n",
      "1220: 933 games\n",
      "1246: 999 games\n",
      "1405: 921 games\n",
      "1280: 946 games\n",
      "1238: 920 games\n",
      "1308: 935 games\n",
      "1431: 937 games\n",
      "1253: 915 games\n",
      "1363: 889 games\n",
      "1348: 938 games\n",
      "1373: 950 games\n",
      "1379: 896 games\n",
      "1270: 861 games\n",
      "1409: 966 games\n",
      "1331: 809 games\n",
      "1444: 916 games\n",
      "1434: 902 games\n",
      "1451: 866 games\n",
      "1139: 923 games\n",
      "1442: 840 games\n",
      "1154: 820 games\n",
      "1456: 891 games\n",
      "1229: 951 games\n",
      "1227: 917 games\n",
      "1259: 913 games\n",
      "1406: 926 games\n",
      "1261: 956 games\n",
      "1272: 992 games\n",
      "1117: 891 games\n",
      "1273: 896 games\n",
      "1163: 977 games\n",
      "1318: 942 games\n",
      "1360: 889 games\n",
      "1393: 993 games\n",
      "1419: 894 games\n",
      "1418: 912 games\n",
      "1281: 977 games\n",
      "1161: 905 games\n",
      "1109: 169 games\n",
      "1309: 840 games\n",
      "1298: 894 games\n",
      "1321: 912 games\n",
      "1285: 865 games\n",
      "1271: 887 games\n",
      "1353: 939 games\n",
      "1351: 929 games\n",
      "1359: 874 games\n",
      "1267: 909 games\n",
      "1361: 915 games\n",
      "1386: 958 games\n",
      "1400: 982 games\n",
      "1322: 854 games\n",
      "1433: 975 games\n",
      "1187: 861 games\n",
      "1245: 927 games\n",
      "1111: 876 games\n",
      "1150: 942 games\n",
      "1119: 868 games\n",
      "1141: 872 games\n",
      "1221: 929 games\n",
      "1122: 903 games\n",
      "1185: 900 games\n",
      "1199: 949 games\n",
      "1201: 947 games\n",
      "1212: 837 games\n",
      "1197: 896 games\n",
      "1140: 965 games\n",
      "1292: 888 games\n",
      "1162: 831 games\n",
      "1319: 843 games\n",
      "1239: 891 games\n",
      "1320: 913 games\n",
      "1371: 946 games\n",
      "1349: 888 games\n",
      "1222: 930 games\n",
      "1382: 914 games\n",
      "1383: 898 games\n",
      "1385: 954 games\n",
      "1390: 932 games\n",
      "1425: 944 games\n",
      "1435: 961 games\n",
      "1463: 838 games\n",
      "1441: 854 games\n",
      "1449: 938 games\n",
      "1123: 906 games\n",
      "1103: 910 games\n",
      "1129: 907 games\n",
      "1209: 891 games\n",
      "1156: 900 games\n",
      "1336: 926 games\n",
      "1174: 913 games\n",
      "1343: 832 games\n",
      "1232: 913 games\n",
      "1203: 933 games\n",
      "1110: 910 games\n",
      "1335: 880 games\n",
      "1283: 952 games\n",
      "1235: 950 games\n",
      "1166: 957 games\n",
      "1311: 839 games\n",
      "1256: 925 games\n",
      "1147: 698 games\n",
      "1250: 898 games\n",
      "1266: 951 games\n",
      "1452: 945 games\n",
      "1269: 946 games\n",
      "1208: 954 games\n",
      "1310: 949 games\n",
      "1329: 941 games\n",
      "1333: 911 games\n",
      "1345: 966 games\n",
      "1263: 898 games\n",
      "1352: 925 games\n",
      "1380: 862 games\n",
      "1446: 48 games\n",
      "1427: 858 games\n",
      "1113: 937 games\n",
      "1408: 808 games\n",
      "1410: 831 games\n",
      "1350: 959 games\n",
      "1450: 913 games\n",
      "1462: 954 games\n",
      "1131: 945 games\n",
      "1190: 891 games\n",
      "1168: 891 games\n",
      "1179: 914 games\n",
      "1304: 953 games\n",
      "1224: 907 games\n",
      "1356: 953 games\n",
      "1426: 859 games\n",
      "1215: 147 games\n",
      "1132: 895 games\n",
      "1217: 828 games\n",
      "1389: 928 games\n",
      "1395: 943 games\n",
      "1461: 914 games\n",
      "1279: 927 games\n",
      "1275: 932 games\n",
      "1293: 886 games\n",
      "1191: 928 games\n",
      "1299: 870 games\n",
      "1401: 940 games\n",
      "1175: 890 games\n",
      "1327: 22 games\n",
      "1207: 923 games\n",
      "1108: 866 games\n",
      "1182: 924 games\n",
      "1274: 915 games\n",
      "1362: 867 games\n",
      "1164: 893 games\n",
      "1118: 27 games\n",
      "1420: 845 games\n",
      "1457: 801 games\n",
      "1148: 844 games\n",
      "1372: 795 games\n",
      "1157: 784 games\n",
      "1421: 799 games\n",
      "1358: 806 games\n",
      "1460: 827 games\n",
      "1198: 812 games\n",
      "1291: 815 games\n",
      "1381: 735 games\n",
      "1251: 755 games\n",
      "1282: 745 games\n",
      "1169: 724 games\n",
      "1302: 200 games\n",
      "1454: 737 games\n",
      "1170: 660 games\n",
      "1138: 728 games\n",
      "1158: 720 games\n",
      "1422: 719 games\n",
      "1369: 682 games\n",
      "1404: 643 games\n",
      "1194: 647 games\n",
      "1407: 639 games\n",
      "1142: 597 games\n",
      "1214: 627 games\n",
      "1459: 575 games\n",
      "1240: 568 games\n",
      "1313: 563 games\n",
      "1115: 520 games\n",
      "1176: 526 games\n",
      "1346: 522 games\n",
      "1237: 519 games\n",
      "1340: 497 games\n",
      "1107: 512 games\n",
      "1357: 500 games\n",
      "1324: 506 games\n",
      "1189: 481 games\n",
      "1125: 506 games\n",
      "1105: 447 games\n",
      "1392: 493 games\n",
      "1219: 466 games\n",
      "1127: 442 games\n",
      "1289: 48 games\n",
      "1415: 418 games\n",
      "1236: 400 games\n",
      "1394: 390 games\n",
      "1205: 405 games\n",
      "1128: 106 games\n",
      "1252: 401 games\n",
      "1366: 384 games\n",
      "1294: 336 games\n",
      "1255: 344 games\n",
      "1430: 325 games\n",
      "1413: 348 games\n",
      "1355: 327 games\n",
      "1244: 322 games\n",
      "1295: 308 games\n",
      "1316: 327 games\n",
      "1445: 107 games\n",
      "1312: 276 games\n",
      "1146: 267 games\n",
      "1167: 260 games\n",
      "1300: 252 games\n",
      "1367: 267 games\n",
      "1342: 260 games\n",
      "1195: 273 games\n",
      "1188: 207 games\n",
      "1377: 210 games\n",
      "1315: 217 games\n",
      "1136: 240 games\n",
      "1370: 222 games\n",
      "1303: 129 games\n",
      "1297: 113 games\n",
      "1213: 84 games\n",
      "1262: 83 games\n",
      "1101: 76 games\n",
      "1230: 64 games\n"
     ]
    }
   ],
   "source": [
    "# Initialize an empty dictionary to keep track of games played for each team\n",
    "games_played = {}\n",
    "\n",
    "# Iterate over the DataFrame rows and update the dictionary\n",
    "for index, row in df.iterrows():\n",
    "    # For the winning team (Wteam)\n",
    "    if row['Wteam'] in games_played:\n",
    "        games_played[row['Wteam']] += 1\n",
    "    else:\n",
    "        games_played[row['Wteam']] = 1\n",
    "    \n",
    "    # For the losing team (Lteam)\n",
    "    if row['Lteam'] in games_played:\n",
    "        games_played[row['Lteam']] += 1\n",
    "    else:\n",
    "        games_played[row['Lteam']] = 1\n",
    "\n",
    "# Print the dictionary to see the total number of games played by each team\n",
    "print(\"Total number of games played by each team:\")\n",
    "for team, games in games_played.items():\n",
    "    print(f\"{team}: {games} games\")"
   ]
  },
  {
   "attachments": {},
   "cell_type": "markdown",
   "metadata": {},
   "source": [
    "**Q**: For each season, find the game with the highest score difference (winning score - losing score). This will require iterating over the rows of the DataFrame, keeping track of the highest score difference for each season, and updating it if a game with a higher score difference is found."
   ]
  },
  {
   "cell_type": "code",
   "execution_count": 45,
   "metadata": {},
   "outputs": [
    {
     "name": "stdout",
     "output_type": "stream",
     "text": [
      "Game with the highest score difference for each season:\n",
      "Season: 1985, Winning Team: 1361, Losing Team: 1288, Wscore: 128, Lscore: 68, Score Difference: 60\n",
      "Season: 1986, Winning Team: 1314, Losing Team: 1264, Wscore: 129, Lscore: 45, Score Difference: 84\n",
      "Season: 1987, Winning Team: 1155, Losing Team: 1118, Wscore: 112, Lscore: 39, Score Difference: 73\n",
      "Season: 1988, Winning Team: 1328, Losing Team: 1147, Wscore: 152, Lscore: 84, Score Difference: 68\n",
      "Season: 1989, Winning Team: 1242, Losing Team: 1135, Wscore: 115, Lscore: 45, Score Difference: 70\n",
      "Season: 1990, Winning Team: 1181, Losing Team: 1217, Wscore: 130, Lscore: 54, Score Difference: 76\n",
      "Season: 1991, Winning Team: 1163, Losing Team: 1148, Wscore: 115, Lscore: 47, Score Difference: 68\n",
      "Season: 1992, Winning Team: 1116, Losing Team: 1126, Wscore: 128, Lscore: 46, Score Difference: 82\n",
      "Season: 1993, Winning Team: 1328, Losing Team: 1197, Wscore: 146, Lscore: 65, Score Difference: 81\n",
      "Season: 1994, Winning Team: 1228, Losing Team: 1152, Wscore: 121, Lscore: 52, Score Difference: 69\n",
      "Season: 1995, Winning Team: 1246, Losing Team: 1404, Wscore: 124, Lscore: 50, Score Difference: 74\n",
      "Season: 1996, Winning Team: 1409, Losing Team: 1341, Wscore: 141, Lscore: 50, Score Difference: 91\n",
      "Season: 1997, Winning Team: 1278, Losing Team: 1106, Wscore: 114, Lscore: 34, Score Difference: 80\n",
      "Season: 1998, Winning Team: 1395, Losing Team: 1410, Wscore: 153, Lscore: 87, Score Difference: 66\n",
      "Season: 1999, Winning Team: 1268, Losing Team: 1317, Wscore: 132, Lscore: 57, Score Difference: 75\n",
      "Season: 2000, Winning Team: 1261, Losing Team: 1212, Wscore: 112, Lscore: 37, Score Difference: 75\n",
      "Season: 2001, Winning Team: 1196, Losing Team: 1197, Wscore: 125, Lscore: 50, Score Difference: 75\n",
      "Season: 2002, Winning Team: 1328, Losing Team: 1183, Wscore: 109, Lscore: 50, Score Difference: 59\n",
      "Season: 2003, Winning Team: 1403, Losing Team: 1311, Wscore: 107, Lscore: 35, Score Difference: 72\n",
      "Season: 2004, Winning Team: 1328, Losing Team: 1115, Wscore: 94, Lscore: 24, Score Difference: 70\n",
      "Season: 2005, Winning Team: 1403, Losing Team: 1421, Wscore: 119, Lscore: 55, Score Difference: 64\n",
      "Season: 2006, Winning Team: 1400, Losing Team: 1341, Wscore: 110, Lscore: 38, Score Difference: 72\n",
      "Season: 2007, Winning Team: 1401, Losing Team: 1212, Wscore: 101, Lscore: 27, Score Difference: 74\n",
      "Season: 2008, Winning Team: 1182, Losing Team: 1224, Wscore: 129, Lscore: 59, Score Difference: 70\n",
      "Season: 2009, Winning Team: 1314, Losing Team: 1421, Wscore: 116, Lscore: 48, Score Difference: 68\n",
      "Season: 2010, Winning Team: 1397, Losing Team: 1421, Wscore: 124, Lscore: 49, Score Difference: 75\n",
      "Season: 2011, Winning Team: 1388, Losing Team: 1152, Wscore: 121, Lscore: 52, Score Difference: 69\n",
      "Season: 2012, Winning Team: 1345, Losing Team: 1296, Wscore: 96, Lscore: 34, Score Difference: 62\n",
      "Season: 2013, Winning Team: 1235, Losing Team: 1105, Wscore: 98, Lscore: 40, Score Difference: 58\n",
      "Season: 2014, Winning Team: 1256, Losing Team: 1255, Wscore: 126, Lscore: 52, Score Difference: 74\n",
      "Season: 2015, Winning Team: 1181, Losing Team: 1342, Wscore: 113, Lscore: 44, Score Difference: 69\n",
      "Season: 2016, Winning Team: 1139, Losing Team: 1154, Wscore: 144, Lscore: 71, Score Difference: 73\n"
     ]
    }
   ],
   "source": [
    "# Initialize an empty dictionary to keep track of the highest score difference for each season\n",
    "highest_score_difference = {}\n",
    "\n",
    "# Iterate over the DataFrame rows and update the dictionary\n",
    "for index, row in df.iterrows():\n",
    "    season = row['Season']\n",
    "    score_difference = row['Wscore'] - row['Lscore']\n",
    "    \n",
    "    if season not in highest_score_difference:\n",
    "        # Initialize a dictionary for each season\n",
    "        highest_score_difference[season] = {\n",
    "            'index': index,\n",
    "            'score_difference': score_difference\n",
    "        }\n",
    "    else:\n",
    "        # Update if current score difference is higher than the recorded one\n",
    "        if score_difference > highest_score_difference[season]['score_difference']:\n",
    "            highest_score_difference[season] = {\n",
    "                'index': index,\n",
    "                'score_difference': score_difference\n",
    "            }\n",
    "\n",
    "# Print the results\n",
    "print(\"Game with the highest score difference for each season:\")\n",
    "for season, info in highest_score_difference.items():\n",
    "    highest_diff_game = df.loc[info['index']]\n",
    "    print(f\"Season: {season}, Winning Team: {highest_diff_game['Wteam']}, Losing Team: {highest_diff_game['Lteam']}, \"\n",
    "          f\"Wscore: {highest_diff_game['Wscore']}, Lscore: {highest_diff_game['Lscore']}, \"\n",
    "          f\"Score Difference: {info['score_difference']}\")"
   ]
  },
  {
   "attachments": {},
   "cell_type": "markdown",
   "metadata": {},
   "source": [
    "Remember, iterating over a DataFrame should generally be avoided if a vectorized operation can be used instead, as vectorized operations are usually much faster. However, these tasks are designed to give practice with DataFrame iteration for cases where it might be necessary."
   ]
  },
  {
   "attachments": {},
   "cell_type": "markdown",
   "metadata": {},
   "source": [
    "Vectorized Operation Example: Create a new column 'HighScoringGame' in the DataFrame using a vectorized operation. This column should contain 'Yes' if the winning score is greater than 100 and 'No' otherwise. Use the np.where function from the numpy library for this task."
   ]
  },
  {
   "cell_type": "code",
   "execution_count": 46,
   "metadata": {},
   "outputs": [],
   "source": [
    "import numpy as np\n",
    "df['HighScoringGame'] = np.where(df['Wscore'] > 100, 'Yes', 'No')"
   ]
  },
  {
   "attachments": {},
   "cell_type": "markdown",
   "metadata": {},
   "source": [
    "**Q**: Vectorized Operation: Calculate the total number of games played by each team, whether they won or lost. Instead of iterating over the DataFrame, use the value_counts() function on the winning team and losing team columns separately, and then add the two Series together."
   ]
  },
  {
   "cell_type": "code",
   "execution_count": 47,
   "metadata": {},
   "outputs": [
    {
     "name": "stdout",
     "output_type": "stream",
     "text": [
      "Total number of games played by each team:\n",
      "1101     76\n",
      "1102    840\n",
      "1103    910\n",
      "1104    975\n",
      "1105    447\n",
      "       ... \n",
      "1460    827\n",
      "1461    914\n",
      "1462    954\n",
      "1463    838\n",
      "1464    856\n",
      "Name: count, Length: 364, dtype: int32\n"
     ]
    }
   ],
   "source": [
    "# Use value_counts() on 'Wteam' column\n",
    "win_counts = df['Wteam'].value_counts()\n",
    "\n",
    "# Use value_counts() on 'Lteam' column\n",
    "lose_counts = df['Lteam'].value_counts()\n",
    "\n",
    "# Add the two Series together\n",
    "total_games = win_counts.add(lose_counts, fill_value=0).astype(int)\n",
    "\n",
    "# Print the resulting Series\n",
    "print(\"Total number of games played by each team:\")\n",
    "print(total_games)"
   ]
  },
  {
   "attachments": {},
   "cell_type": "markdown",
   "metadata": {},
   "source": [
    "**Q**: For each season, find the game with the highest score difference (winning score - losing score). Instead of iterating over the DataFrame, create a new column 'ScoreDifference' using vectorized subtraction, then use the groupby() function and idxmax() function to find the game with the highest score difference for each season."
   ]
  },
  {
   "cell_type": "code",
   "execution_count": 48,
   "metadata": {},
   "outputs": [
    {
     "name": "stdout",
     "output_type": "stream",
     "text": [
      "Game with the Highest Score Difference for Each Season:\n",
      "        Season  Daynum  Wteam  Wscore  Lteam  Lscore Wloc  Numot  \\\n",
      "236       1985      33   1361     128   1288      68    H      0   \n",
      "4731      1986      60   1314     129   1264      45    N      0   \n",
      "8240      1987      51   1155     112   1118      39    H      0   \n",
      "12046     1988      40   1328     152   1147      84    H      0   \n",
      "16677     1989      64   1242     115   1135      45    H      0   \n",
      "19502     1990      26   1181     130   1217      54    H      0   \n",
      "25161     1991      73   1163     115   1148      47    H      0   \n",
      "27997     1992      30   1116     128   1126      46    H      0   \n",
      "33858     1993      86   1328     146   1197      65    H      0   \n",
      "36404     1994      47   1228     121   1152      52    H      0   \n",
      "39858     1995      26   1246     124   1404      50    H      0   \n",
      "44653     1996      48   1409     141   1341      50    H      0   \n",
      "49033     1997      56   1278     114   1106      34    H      0   \n",
      "52600     1998      33   1395     153   1410      87    H      0   \n",
      "57618     1999      58   1268     132   1317      57    H      0   \n",
      "60616     2000      19   1261     112   1212      37    H      0   \n",
      "65999     2001      41   1196     125   1197      50    H      0   \n",
      "70737     2002      50   1328     109   1183      50    H      0   \n",
      "74791     2003      33   1403     107   1311      35    H      0   \n",
      "79181     2004      29   1328      94   1115      24    H      0   \n",
      "83372     2005      18   1403     119   1421      55    H      0   \n",
      "89542     2006      60   1400     110   1341      38    H      0   \n",
      "94507     2007      59   1401     101   1212      27    H      0   \n",
      "97737     2008       4   1182     129   1224      59    H      0   \n",
      "103723    2009      27   1314     116   1421      48    H      0   \n",
      "108405    2010      15   1397     124   1421      49    H      0   \n",
      "114015    2011      22   1388     121   1152      52    H      0   \n",
      "118699    2012      11   1345      96   1296      34    H      0   \n",
      "124057    2013       7   1235      98   1105      40    H      0   \n",
      "131373    2014      61   1256     126   1255      52    H      0   \n",
      "134590    2015      11   1181     113   1342      44    H      0   \n",
      "140040    2016      12   1139     144   1154      71    H      0   \n",
      "\n",
      "        ScoreDifference HighScoringGame  \n",
      "236                  60             Yes  \n",
      "4731                 84             Yes  \n",
      "8240                 73             Yes  \n",
      "12046                68             Yes  \n",
      "16677                70             Yes  \n",
      "19502                76             Yes  \n",
      "25161                68             Yes  \n",
      "27997                82             Yes  \n",
      "33858                81             Yes  \n",
      "36404                69             Yes  \n",
      "39858                74             Yes  \n",
      "44653                91             Yes  \n",
      "49033                80             Yes  \n",
      "52600                66             Yes  \n",
      "57618                75             Yes  \n",
      "60616                75             Yes  \n",
      "65999                75             Yes  \n",
      "70737                59             Yes  \n",
      "74791                72             Yes  \n",
      "79181                70              No  \n",
      "83372                64             Yes  \n",
      "89542                72             Yes  \n",
      "94507                74             Yes  \n",
      "97737                70             Yes  \n",
      "103723               68             Yes  \n",
      "108405               75             Yes  \n",
      "114015               69             Yes  \n",
      "118699               62              No  \n",
      "124057               58              No  \n",
      "131373               74             Yes  \n",
      "134590               69             Yes  \n",
      "140040               73             Yes  \n"
     ]
    }
   ],
   "source": [
    "# Calculate the score difference for each game by subtracting the losing score from the winning score\n",
    "df['ScoreDifference'] = df['Wscore'] - df['Lscore']\n",
    "\n",
    "# Identify the game with the maximum score difference for each season\n",
    "max_score_diff_per_season = df.loc[df.groupby('Season')['ScoreDifference'].idxmax()]\n",
    "\n",
    "# Display the game details with the highest score difference for each season\n",
    "print(\"Game with the Highest Score Difference for Each Season:\")\n",
    "print(max_score_diff_per_season)\n",
    "\n",
    "# Optionally, remove the 'ScoreDifference' column if it is no longer required\n",
    "df.drop('ScoreDifference', axis=1, inplace=True)\n",
    "\n"
   ]
  },
  {
   "attachments": {},
   "cell_type": "markdown",
   "metadata": {},
   "source": [
    "# Extracting Rows and Columns"
   ]
  },
  {
   "attachments": {},
   "cell_type": "markdown",
   "metadata": {},
   "source": [
    "The bracket indexing operator is one way to extract certain columns from a dataframe."
   ]
  },
  {
   "cell_type": "code",
   "execution_count": 49,
   "metadata": {
    "collapsed": false,
    "scrolled": true
   },
   "outputs": [
    {
     "data": {
      "text/html": [
       "<div>\n",
       "<style scoped>\n",
       "    .dataframe tbody tr th:only-of-type {\n",
       "        vertical-align: middle;\n",
       "    }\n",
       "\n",
       "    .dataframe tbody tr th {\n",
       "        vertical-align: top;\n",
       "    }\n",
       "\n",
       "    .dataframe thead th {\n",
       "        text-align: right;\n",
       "    }\n",
       "</style>\n",
       "<table border=\"1\" class=\"dataframe\">\n",
       "  <thead>\n",
       "    <tr style=\"text-align: right;\">\n",
       "      <th></th>\n",
       "      <th>Wscore</th>\n",
       "      <th>Lscore</th>\n",
       "    </tr>\n",
       "  </thead>\n",
       "  <tbody>\n",
       "    <tr>\n",
       "      <th>0</th>\n",
       "      <td>81</td>\n",
       "      <td>64</td>\n",
       "    </tr>\n",
       "    <tr>\n",
       "      <th>1</th>\n",
       "      <td>77</td>\n",
       "      <td>70</td>\n",
       "    </tr>\n",
       "    <tr>\n",
       "      <th>2</th>\n",
       "      <td>63</td>\n",
       "      <td>56</td>\n",
       "    </tr>\n",
       "    <tr>\n",
       "      <th>3</th>\n",
       "      <td>70</td>\n",
       "      <td>54</td>\n",
       "    </tr>\n",
       "    <tr>\n",
       "      <th>4</th>\n",
       "      <td>86</td>\n",
       "      <td>74</td>\n",
       "    </tr>\n",
       "  </tbody>\n",
       "</table>\n",
       "</div>"
      ],
      "text/plain": [
       "   Wscore  Lscore\n",
       "0      81      64\n",
       "1      77      70\n",
       "2      63      56\n",
       "3      70      54\n",
       "4      86      74"
      ]
     },
     "execution_count": 49,
     "metadata": {},
     "output_type": "execute_result"
    }
   ],
   "source": [
    "df[['Wscore', 'Lscore']].head()"
   ]
  },
  {
   "attachments": {},
   "cell_type": "markdown",
   "metadata": {},
   "source": [
    "Notice that you can acheive the same result by using the loc function. Loc is a veryyyy versatile function that can help you in a lot of accessing and extracting tasks. "
   ]
  },
  {
   "cell_type": "code",
   "execution_count": 50,
   "metadata": {
    "collapsed": false
   },
   "outputs": [
    {
     "data": {
      "text/html": [
       "<div>\n",
       "<style scoped>\n",
       "    .dataframe tbody tr th:only-of-type {\n",
       "        vertical-align: middle;\n",
       "    }\n",
       "\n",
       "    .dataframe tbody tr th {\n",
       "        vertical-align: top;\n",
       "    }\n",
       "\n",
       "    .dataframe thead th {\n",
       "        text-align: right;\n",
       "    }\n",
       "</style>\n",
       "<table border=\"1\" class=\"dataframe\">\n",
       "  <thead>\n",
       "    <tr style=\"text-align: right;\">\n",
       "      <th></th>\n",
       "      <th>Wscore</th>\n",
       "      <th>Lscore</th>\n",
       "    </tr>\n",
       "  </thead>\n",
       "  <tbody>\n",
       "    <tr>\n",
       "      <th>0</th>\n",
       "      <td>81</td>\n",
       "      <td>64</td>\n",
       "    </tr>\n",
       "    <tr>\n",
       "      <th>1</th>\n",
       "      <td>77</td>\n",
       "      <td>70</td>\n",
       "    </tr>\n",
       "    <tr>\n",
       "      <th>2</th>\n",
       "      <td>63</td>\n",
       "      <td>56</td>\n",
       "    </tr>\n",
       "    <tr>\n",
       "      <th>3</th>\n",
       "      <td>70</td>\n",
       "      <td>54</td>\n",
       "    </tr>\n",
       "    <tr>\n",
       "      <th>4</th>\n",
       "      <td>86</td>\n",
       "      <td>74</td>\n",
       "    </tr>\n",
       "  </tbody>\n",
       "</table>\n",
       "</div>"
      ],
      "text/plain": [
       "   Wscore  Lscore\n",
       "0      81      64\n",
       "1      77      70\n",
       "2      63      56\n",
       "3      70      54\n",
       "4      86      74"
      ]
     },
     "execution_count": 50,
     "metadata": {},
     "output_type": "execute_result"
    }
   ],
   "source": [
    "df.loc[:, ['Wscore', 'Lscore']].head()"
   ]
  },
  {
   "attachments": {},
   "cell_type": "markdown",
   "metadata": {},
   "source": [
    "Note the difference is the return types when you use brackets and when you use double brackets. "
   ]
  },
  {
   "cell_type": "code",
   "execution_count": 51,
   "metadata": {
    "collapsed": false
   },
   "outputs": [
    {
     "data": {
      "text/plain": [
       "pandas.core.series.Series"
      ]
     },
     "execution_count": 51,
     "metadata": {},
     "output_type": "execute_result"
    }
   ],
   "source": [
    "type(df['Wscore'])"
   ]
  },
  {
   "cell_type": "code",
   "execution_count": 52,
   "metadata": {
    "collapsed": false
   },
   "outputs": [
    {
     "data": {
      "text/plain": [
       "pandas.core.frame.DataFrame"
      ]
     },
     "execution_count": 52,
     "metadata": {},
     "output_type": "execute_result"
    }
   ],
   "source": [
    "type(df[['Wscore']])"
   ]
  },
  {
   "attachments": {},
   "cell_type": "markdown",
   "metadata": {},
   "source": [
    "You've seen before that you can access columns through df['col name']. You can access rows by using slicing operations. "
   ]
  },
  {
   "cell_type": "code",
   "execution_count": 53,
   "metadata": {
    "collapsed": false
   },
   "outputs": [
    {
     "data": {
      "text/html": [
       "<div>\n",
       "<style scoped>\n",
       "    .dataframe tbody tr th:only-of-type {\n",
       "        vertical-align: middle;\n",
       "    }\n",
       "\n",
       "    .dataframe tbody tr th {\n",
       "        vertical-align: top;\n",
       "    }\n",
       "\n",
       "    .dataframe thead th {\n",
       "        text-align: right;\n",
       "    }\n",
       "</style>\n",
       "<table border=\"1\" class=\"dataframe\">\n",
       "  <thead>\n",
       "    <tr style=\"text-align: right;\">\n",
       "      <th></th>\n",
       "      <th>Season</th>\n",
       "      <th>Daynum</th>\n",
       "      <th>Wteam</th>\n",
       "      <th>Wscore</th>\n",
       "      <th>Lteam</th>\n",
       "      <th>Lscore</th>\n",
       "      <th>Wloc</th>\n",
       "      <th>Numot</th>\n",
       "      <th>HighScoringGame</th>\n",
       "    </tr>\n",
       "  </thead>\n",
       "  <tbody>\n",
       "    <tr>\n",
       "      <th>0</th>\n",
       "      <td>1985</td>\n",
       "      <td>20</td>\n",
       "      <td>1228</td>\n",
       "      <td>81</td>\n",
       "      <td>1328</td>\n",
       "      <td>64</td>\n",
       "      <td>N</td>\n",
       "      <td>0</td>\n",
       "      <td>No</td>\n",
       "    </tr>\n",
       "    <tr>\n",
       "      <th>1</th>\n",
       "      <td>1985</td>\n",
       "      <td>25</td>\n",
       "      <td>1106</td>\n",
       "      <td>77</td>\n",
       "      <td>1354</td>\n",
       "      <td>70</td>\n",
       "      <td>H</td>\n",
       "      <td>0</td>\n",
       "      <td>No</td>\n",
       "    </tr>\n",
       "    <tr>\n",
       "      <th>2</th>\n",
       "      <td>1985</td>\n",
       "      <td>25</td>\n",
       "      <td>1112</td>\n",
       "      <td>63</td>\n",
       "      <td>1223</td>\n",
       "      <td>56</td>\n",
       "      <td>H</td>\n",
       "      <td>0</td>\n",
       "      <td>No</td>\n",
       "    </tr>\n",
       "  </tbody>\n",
       "</table>\n",
       "</div>"
      ],
      "text/plain": [
       "   Season  Daynum  Wteam  Wscore  Lteam  Lscore Wloc  Numot HighScoringGame\n",
       "0    1985      20   1228      81   1328      64    N      0              No\n",
       "1    1985      25   1106      77   1354      70    H      0              No\n",
       "2    1985      25   1112      63   1223      56    H      0              No"
      ]
     },
     "execution_count": 53,
     "metadata": {},
     "output_type": "execute_result"
    }
   ],
   "source": [
    "df[0:3]"
   ]
  },
  {
   "attachments": {},
   "cell_type": "markdown",
   "metadata": {},
   "source": [
    "Here's an equivalent using iloc"
   ]
  },
  {
   "cell_type": "code",
   "execution_count": 54,
   "metadata": {
    "collapsed": false
   },
   "outputs": [
    {
     "data": {
      "text/html": [
       "<div>\n",
       "<style scoped>\n",
       "    .dataframe tbody tr th:only-of-type {\n",
       "        vertical-align: middle;\n",
       "    }\n",
       "\n",
       "    .dataframe tbody tr th {\n",
       "        vertical-align: top;\n",
       "    }\n",
       "\n",
       "    .dataframe thead th {\n",
       "        text-align: right;\n",
       "    }\n",
       "</style>\n",
       "<table border=\"1\" class=\"dataframe\">\n",
       "  <thead>\n",
       "    <tr style=\"text-align: right;\">\n",
       "      <th></th>\n",
       "      <th>Season</th>\n",
       "      <th>Daynum</th>\n",
       "      <th>Wteam</th>\n",
       "      <th>Wscore</th>\n",
       "      <th>Lteam</th>\n",
       "      <th>Lscore</th>\n",
       "      <th>Wloc</th>\n",
       "      <th>Numot</th>\n",
       "      <th>HighScoringGame</th>\n",
       "    </tr>\n",
       "  </thead>\n",
       "  <tbody>\n",
       "    <tr>\n",
       "      <th>0</th>\n",
       "      <td>1985</td>\n",
       "      <td>20</td>\n",
       "      <td>1228</td>\n",
       "      <td>81</td>\n",
       "      <td>1328</td>\n",
       "      <td>64</td>\n",
       "      <td>N</td>\n",
       "      <td>0</td>\n",
       "      <td>No</td>\n",
       "    </tr>\n",
       "    <tr>\n",
       "      <th>1</th>\n",
       "      <td>1985</td>\n",
       "      <td>25</td>\n",
       "      <td>1106</td>\n",
       "      <td>77</td>\n",
       "      <td>1354</td>\n",
       "      <td>70</td>\n",
       "      <td>H</td>\n",
       "      <td>0</td>\n",
       "      <td>No</td>\n",
       "    </tr>\n",
       "    <tr>\n",
       "      <th>2</th>\n",
       "      <td>1985</td>\n",
       "      <td>25</td>\n",
       "      <td>1112</td>\n",
       "      <td>63</td>\n",
       "      <td>1223</td>\n",
       "      <td>56</td>\n",
       "      <td>H</td>\n",
       "      <td>0</td>\n",
       "      <td>No</td>\n",
       "    </tr>\n",
       "  </tbody>\n",
       "</table>\n",
       "</div>"
      ],
      "text/plain": [
       "   Season  Daynum  Wteam  Wscore  Lteam  Lscore Wloc  Numot HighScoringGame\n",
       "0    1985      20   1228      81   1328      64    N      0              No\n",
       "1    1985      25   1106      77   1354      70    H      0              No\n",
       "2    1985      25   1112      63   1223      56    H      0              No"
      ]
     },
     "execution_count": 54,
     "metadata": {},
     "output_type": "execute_result"
    }
   ],
   "source": [
    "df.iloc[0:3,:]"
   ]
  },
  {
   "attachments": {},
   "cell_type": "markdown",
   "metadata": {},
   "source": [
    "# Data Cleaning"
   ]
  },
  {
   "attachments": {},
   "cell_type": "markdown",
   "metadata": {},
   "source": [
    "One of the big jobs of doing well in Kaggle competitions is that of data cleaning. A lot of times, the CSV file you're given (especially like in the Titanic dataset), you'll have a lot of missing values in the dataset, which you have to identify. The following **isnull** function will figure out if there are any missing values in the dataframe, and will then sum up the total for each column. In this case, we have a pretty clean dataset."
   ]
  },
  {
   "cell_type": "code",
   "execution_count": 55,
   "metadata": {
    "collapsed": false
   },
   "outputs": [
    {
     "data": {
      "text/plain": [
       "Season             0\n",
       "Daynum             0\n",
       "Wteam              0\n",
       "Wscore             0\n",
       "Lteam              0\n",
       "Lscore             0\n",
       "Wloc               0\n",
       "Numot              0\n",
       "HighScoringGame    0\n",
       "dtype: int64"
      ]
     },
     "execution_count": 55,
     "metadata": {},
     "output_type": "execute_result"
    }
   ],
   "source": [
    "df.isnull().sum()"
   ]
  },
  {
   "attachments": {},
   "cell_type": "markdown",
   "metadata": {},
   "source": [
    "If you do end up having missing values in your datasets, be sure to get familiar with these two functions. \n",
    "* **dropna()** - This function allows you to drop all(or some) of the rows that have missing values. \n",
    "* **fillna()** - This function allows you replace the rows that have missing values with the value that you pass in."
   ]
  },
  {
   "attachments": {},
   "cell_type": "markdown",
   "metadata": {},
   "source": [
    "# Other Useful Functions"
   ]
  },
  {
   "attachments": {},
   "cell_type": "markdown",
   "metadata": {},
   "source": [
    "* **drop()** - This function removes the column or row that you pass in (You also have the specify the axis). \n",
    "* **agg()** - The aggregate function lets you compute summary statistics about each group\n",
    "* **apply()** - Lets you apply a specific function to any/all elements in a Dataframe or Series\n",
    "* **get_dummies()** - Helpful for turning categorical data into one hot vectors.\n",
    "* **drop_duplicates()** - Lets you remove identical rows"
   ]
  },
  {
   "attachments": {},
   "cell_type": "markdown",
   "metadata": {
    "collapsed": true
   },
   "source": [
    "# Lots of Other Great Resources"
   ]
  },
  {
   "attachments": {},
   "cell_type": "markdown",
   "metadata": {},
   "source": [
    "Pandas has been around for a while and there are a lot of other good resources if you're still interested on getting the most out of this library. \n",
    "* http://pandas.pydata.org/pandas-docs/stable/10min.html\n",
    "* https://www.datacamp.com/community/tutorials/pandas-tutorial-dataframe-python\n",
    "* http://www.gregreda.com/2013/10/26/intro-to-pandas-data-structures/\n",
    "* https://www.dataquest.io/blog/pandas-python-tutorial/\n",
    "* https://drive.google.com/file/d/0ByIrJAE4KMTtTUtiVExiUGVkRkE/view\n",
    "* https://www.youtube.com/playlist?list=PL5-da3qGB5ICCsgW1MxlZ0Hq8LL5U3u9y"
   ]
  }
 ],
 "metadata": {
  "anaconda-cloud": {},
  "kernelspec": {
   "display_name": "base",
   "language": "python",
   "name": "python3"
  },
  "language_info": {
   "codemirror_mode": {
    "name": "ipython",
    "version": 3
   },
   "file_extension": ".py",
   "mimetype": "text/x-python",
   "name": "python",
   "nbconvert_exporter": "python",
   "pygments_lexer": "ipython3",
   "version": "3.11.7"
  }
 },
 "nbformat": 4,
 "nbformat_minor": 1
}
