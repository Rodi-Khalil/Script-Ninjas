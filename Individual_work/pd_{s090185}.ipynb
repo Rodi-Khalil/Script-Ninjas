{
 "cells": [
  {
   "attachments": {},
   "cell_type": "markdown",
   "metadata": {},
   "source": [
    "# Introduction"
   ]
  },
  {
   "attachments": {},
   "cell_type": "markdown",
   "metadata": {},
   "source": [
    "Hopefully, this short tutorial can show you a lot of different commands that will help you gain the most insights into your dataset. "
   ]
  },
  {
   "cell_type": "code",
   "execution_count": 1,
   "metadata": {
    "collapsed": true
   },
   "outputs": [],
   "source": [
    "import pandas as pd\n",
    "from src.utils import load_data_from_google_drive"
   ]
  },
  {
   "attachments": {},
   "cell_type": "markdown",
   "metadata": {},
   "source": [
    "# Loading in Data"
   ]
  },
  {
   "attachments": {},
   "cell_type": "markdown",
   "metadata": {},
   "source": [
    "The first step in any ML problem is identifying what format your data is in, and then loading it into whatever framework you're using. For Kaggle compeitions, a lot of data can be found in CSV files, so that's the example we're going to use. "
   ]
  },
  {
   "attachments": {},
   "cell_type": "markdown",
   "metadata": {},
   "source": [
    "We're going to be looking at a sports dataset that shows the results from NCAA basketball games from 1985 to 2016. This dataset is in a CSV file, and the function we're going to use to read in the file is called **pd.read_csv()**. This function returns a **dataframe** variable. The dataframe is the golden jewel data structure for Pandas. It is defined as \"a two-dimensional size-mutable, potentially heterogeneous tabular data structure with labeled axes (rows and columns)\"."
   ]
  },
  {
   "attachments": {},
   "cell_type": "markdown",
   "metadata": {},
   "source": [
    "Just think of it as a table for now. "
   ]
  },
  {
   "cell_type": "code",
   "execution_count": 2,
   "metadata": {
    "collapsed": false
   },
   "outputs": [],
   "source": [
    "df = load_data_from_google_drive(url='https://drive.google.com/file/d/184JcLbSpArA_uq0DgAv2k892KChJVPHt/view?usp=share_link')"
   ]
  },
  {
   "cell_type": "code",
   "execution_count": 3,
   "metadata": {},
   "outputs": [
    {
     "data": {
      "text/html": [
       "<div>\n",
       "<style scoped>\n",
       "    .dataframe tbody tr th:only-of-type {\n",
       "        vertical-align: middle;\n",
       "    }\n",
       "\n",
       "    .dataframe tbody tr th {\n",
       "        vertical-align: top;\n",
       "    }\n",
       "\n",
       "    .dataframe thead th {\n",
       "        text-align: right;\n",
       "    }\n",
       "</style>\n",
       "<table border=\"1\" class=\"dataframe\">\n",
       "  <thead>\n",
       "    <tr style=\"text-align: right;\">\n",
       "      <th></th>\n",
       "      <th>Season</th>\n",
       "      <th>Daynum</th>\n",
       "      <th>Wteam</th>\n",
       "      <th>Wscore</th>\n",
       "      <th>Lteam</th>\n",
       "      <th>Lscore</th>\n",
       "      <th>Wloc</th>\n",
       "      <th>Numot</th>\n",
       "    </tr>\n",
       "  </thead>\n",
       "  <tbody>\n",
       "    <tr>\n",
       "      <th>0</th>\n",
       "      <td>1985</td>\n",
       "      <td>20</td>\n",
       "      <td>1228</td>\n",
       "      <td>81</td>\n",
       "      <td>1328</td>\n",
       "      <td>64</td>\n",
       "      <td>N</td>\n",
       "      <td>0</td>\n",
       "    </tr>\n",
       "    <tr>\n",
       "      <th>1</th>\n",
       "      <td>1985</td>\n",
       "      <td>25</td>\n",
       "      <td>1106</td>\n",
       "      <td>77</td>\n",
       "      <td>1354</td>\n",
       "      <td>70</td>\n",
       "      <td>H</td>\n",
       "      <td>0</td>\n",
       "    </tr>\n",
       "    <tr>\n",
       "      <th>2</th>\n",
       "      <td>1985</td>\n",
       "      <td>25</td>\n",
       "      <td>1112</td>\n",
       "      <td>63</td>\n",
       "      <td>1223</td>\n",
       "      <td>56</td>\n",
       "      <td>H</td>\n",
       "      <td>0</td>\n",
       "    </tr>\n",
       "    <tr>\n",
       "      <th>3</th>\n",
       "      <td>1985</td>\n",
       "      <td>25</td>\n",
       "      <td>1165</td>\n",
       "      <td>70</td>\n",
       "      <td>1432</td>\n",
       "      <td>54</td>\n",
       "      <td>H</td>\n",
       "      <td>0</td>\n",
       "    </tr>\n",
       "    <tr>\n",
       "      <th>4</th>\n",
       "      <td>1985</td>\n",
       "      <td>25</td>\n",
       "      <td>1192</td>\n",
       "      <td>86</td>\n",
       "      <td>1447</td>\n",
       "      <td>74</td>\n",
       "      <td>H</td>\n",
       "      <td>0</td>\n",
       "    </tr>\n",
       "    <tr>\n",
       "      <th>...</th>\n",
       "      <td>...</td>\n",
       "      <td>...</td>\n",
       "      <td>...</td>\n",
       "      <td>...</td>\n",
       "      <td>...</td>\n",
       "      <td>...</td>\n",
       "      <td>...</td>\n",
       "      <td>...</td>\n",
       "    </tr>\n",
       "    <tr>\n",
       "      <th>145284</th>\n",
       "      <td>2016</td>\n",
       "      <td>132</td>\n",
       "      <td>1114</td>\n",
       "      <td>70</td>\n",
       "      <td>1419</td>\n",
       "      <td>50</td>\n",
       "      <td>N</td>\n",
       "      <td>0</td>\n",
       "    </tr>\n",
       "    <tr>\n",
       "      <th>145285</th>\n",
       "      <td>2016</td>\n",
       "      <td>132</td>\n",
       "      <td>1163</td>\n",
       "      <td>72</td>\n",
       "      <td>1272</td>\n",
       "      <td>58</td>\n",
       "      <td>N</td>\n",
       "      <td>0</td>\n",
       "    </tr>\n",
       "    <tr>\n",
       "      <th>145286</th>\n",
       "      <td>2016</td>\n",
       "      <td>132</td>\n",
       "      <td>1246</td>\n",
       "      <td>82</td>\n",
       "      <td>1401</td>\n",
       "      <td>77</td>\n",
       "      <td>N</td>\n",
       "      <td>1</td>\n",
       "    </tr>\n",
       "    <tr>\n",
       "      <th>145287</th>\n",
       "      <td>2016</td>\n",
       "      <td>132</td>\n",
       "      <td>1277</td>\n",
       "      <td>66</td>\n",
       "      <td>1345</td>\n",
       "      <td>62</td>\n",
       "      <td>N</td>\n",
       "      <td>0</td>\n",
       "    </tr>\n",
       "    <tr>\n",
       "      <th>145288</th>\n",
       "      <td>2016</td>\n",
       "      <td>132</td>\n",
       "      <td>1386</td>\n",
       "      <td>87</td>\n",
       "      <td>1433</td>\n",
       "      <td>74</td>\n",
       "      <td>N</td>\n",
       "      <td>0</td>\n",
       "    </tr>\n",
       "  </tbody>\n",
       "</table>\n",
       "<p>145289 rows × 8 columns</p>\n",
       "</div>"
      ],
      "text/plain": [
       "        Season  Daynum  Wteam  Wscore  Lteam  Lscore Wloc  Numot\n",
       "0         1985      20   1228      81   1328      64    N      0\n",
       "1         1985      25   1106      77   1354      70    H      0\n",
       "2         1985      25   1112      63   1223      56    H      0\n",
       "3         1985      25   1165      70   1432      54    H      0\n",
       "4         1985      25   1192      86   1447      74    H      0\n",
       "...        ...     ...    ...     ...    ...     ...  ...    ...\n",
       "145284    2016     132   1114      70   1419      50    N      0\n",
       "145285    2016     132   1163      72   1272      58    N      0\n",
       "145286    2016     132   1246      82   1401      77    N      1\n",
       "145287    2016     132   1277      66   1345      62    N      0\n",
       "145288    2016     132   1386      87   1433      74    N      0\n",
       "\n",
       "[145289 rows x 8 columns]"
      ]
     },
     "execution_count": 3,
     "metadata": {},
     "output_type": "execute_result"
    }
   ],
   "source": [
    "df"
   ]
  },
  {
   "attachments": {},
   "cell_type": "markdown",
   "metadata": {},
   "source": [
    "# The Basics"
   ]
  },
  {
   "attachments": {},
   "cell_type": "markdown",
   "metadata": {},
   "source": [
    "Now that we have our dataframe in our variable df, let's look at what it contains. We can use the function **head()** to see the first couple rows of the dataframe (or the function **tail()** to see the last few rows)."
   ]
  },
  {
   "cell_type": "code",
   "execution_count": 4,
   "metadata": {
    "collapsed": false
   },
   "outputs": [
    {
     "data": {
      "text/html": [
       "<div>\n",
       "<style scoped>\n",
       "    .dataframe tbody tr th:only-of-type {\n",
       "        vertical-align: middle;\n",
       "    }\n",
       "\n",
       "    .dataframe tbody tr th {\n",
       "        vertical-align: top;\n",
       "    }\n",
       "\n",
       "    .dataframe thead th {\n",
       "        text-align: right;\n",
       "    }\n",
       "</style>\n",
       "<table border=\"1\" class=\"dataframe\">\n",
       "  <thead>\n",
       "    <tr style=\"text-align: right;\">\n",
       "      <th></th>\n",
       "      <th>Season</th>\n",
       "      <th>Daynum</th>\n",
       "      <th>Wteam</th>\n",
       "      <th>Wscore</th>\n",
       "      <th>Lteam</th>\n",
       "      <th>Lscore</th>\n",
       "      <th>Wloc</th>\n",
       "      <th>Numot</th>\n",
       "    </tr>\n",
       "  </thead>\n",
       "  <tbody>\n",
       "    <tr>\n",
       "      <th>0</th>\n",
       "      <td>1985</td>\n",
       "      <td>20</td>\n",
       "      <td>1228</td>\n",
       "      <td>81</td>\n",
       "      <td>1328</td>\n",
       "      <td>64</td>\n",
       "      <td>N</td>\n",
       "      <td>0</td>\n",
       "    </tr>\n",
       "    <tr>\n",
       "      <th>1</th>\n",
       "      <td>1985</td>\n",
       "      <td>25</td>\n",
       "      <td>1106</td>\n",
       "      <td>77</td>\n",
       "      <td>1354</td>\n",
       "      <td>70</td>\n",
       "      <td>H</td>\n",
       "      <td>0</td>\n",
       "    </tr>\n",
       "    <tr>\n",
       "      <th>2</th>\n",
       "      <td>1985</td>\n",
       "      <td>25</td>\n",
       "      <td>1112</td>\n",
       "      <td>63</td>\n",
       "      <td>1223</td>\n",
       "      <td>56</td>\n",
       "      <td>H</td>\n",
       "      <td>0</td>\n",
       "    </tr>\n",
       "    <tr>\n",
       "      <th>3</th>\n",
       "      <td>1985</td>\n",
       "      <td>25</td>\n",
       "      <td>1165</td>\n",
       "      <td>70</td>\n",
       "      <td>1432</td>\n",
       "      <td>54</td>\n",
       "      <td>H</td>\n",
       "      <td>0</td>\n",
       "    </tr>\n",
       "    <tr>\n",
       "      <th>4</th>\n",
       "      <td>1985</td>\n",
       "      <td>25</td>\n",
       "      <td>1192</td>\n",
       "      <td>86</td>\n",
       "      <td>1447</td>\n",
       "      <td>74</td>\n",
       "      <td>H</td>\n",
       "      <td>0</td>\n",
       "    </tr>\n",
       "  </tbody>\n",
       "</table>\n",
       "</div>"
      ],
      "text/plain": [
       "   Season  Daynum  Wteam  Wscore  Lteam  Lscore Wloc  Numot\n",
       "0    1985      20   1228      81   1328      64    N      0\n",
       "1    1985      25   1106      77   1354      70    H      0\n",
       "2    1985      25   1112      63   1223      56    H      0\n",
       "3    1985      25   1165      70   1432      54    H      0\n",
       "4    1985      25   1192      86   1447      74    H      0"
      ]
     },
     "execution_count": 4,
     "metadata": {},
     "output_type": "execute_result"
    }
   ],
   "source": [
    "df.head()"
   ]
  },
  {
   "cell_type": "code",
   "execution_count": 5,
   "metadata": {
    "collapsed": false
   },
   "outputs": [
    {
     "data": {
      "text/html": [
       "<div>\n",
       "<style scoped>\n",
       "    .dataframe tbody tr th:only-of-type {\n",
       "        vertical-align: middle;\n",
       "    }\n",
       "\n",
       "    .dataframe tbody tr th {\n",
       "        vertical-align: top;\n",
       "    }\n",
       "\n",
       "    .dataframe thead th {\n",
       "        text-align: right;\n",
       "    }\n",
       "</style>\n",
       "<table border=\"1\" class=\"dataframe\">\n",
       "  <thead>\n",
       "    <tr style=\"text-align: right;\">\n",
       "      <th></th>\n",
       "      <th>Season</th>\n",
       "      <th>Daynum</th>\n",
       "      <th>Wteam</th>\n",
       "      <th>Wscore</th>\n",
       "      <th>Lteam</th>\n",
       "      <th>Lscore</th>\n",
       "      <th>Wloc</th>\n",
       "      <th>Numot</th>\n",
       "    </tr>\n",
       "  </thead>\n",
       "  <tbody>\n",
       "    <tr>\n",
       "      <th>145284</th>\n",
       "      <td>2016</td>\n",
       "      <td>132</td>\n",
       "      <td>1114</td>\n",
       "      <td>70</td>\n",
       "      <td>1419</td>\n",
       "      <td>50</td>\n",
       "      <td>N</td>\n",
       "      <td>0</td>\n",
       "    </tr>\n",
       "    <tr>\n",
       "      <th>145285</th>\n",
       "      <td>2016</td>\n",
       "      <td>132</td>\n",
       "      <td>1163</td>\n",
       "      <td>72</td>\n",
       "      <td>1272</td>\n",
       "      <td>58</td>\n",
       "      <td>N</td>\n",
       "      <td>0</td>\n",
       "    </tr>\n",
       "    <tr>\n",
       "      <th>145286</th>\n",
       "      <td>2016</td>\n",
       "      <td>132</td>\n",
       "      <td>1246</td>\n",
       "      <td>82</td>\n",
       "      <td>1401</td>\n",
       "      <td>77</td>\n",
       "      <td>N</td>\n",
       "      <td>1</td>\n",
       "    </tr>\n",
       "    <tr>\n",
       "      <th>145287</th>\n",
       "      <td>2016</td>\n",
       "      <td>132</td>\n",
       "      <td>1277</td>\n",
       "      <td>66</td>\n",
       "      <td>1345</td>\n",
       "      <td>62</td>\n",
       "      <td>N</td>\n",
       "      <td>0</td>\n",
       "    </tr>\n",
       "    <tr>\n",
       "      <th>145288</th>\n",
       "      <td>2016</td>\n",
       "      <td>132</td>\n",
       "      <td>1386</td>\n",
       "      <td>87</td>\n",
       "      <td>1433</td>\n",
       "      <td>74</td>\n",
       "      <td>N</td>\n",
       "      <td>0</td>\n",
       "    </tr>\n",
       "  </tbody>\n",
       "</table>\n",
       "</div>"
      ],
      "text/plain": [
       "        Season  Daynum  Wteam  Wscore  Lteam  Lscore Wloc  Numot\n",
       "145284    2016     132   1114      70   1419      50    N      0\n",
       "145285    2016     132   1163      72   1272      58    N      0\n",
       "145286    2016     132   1246      82   1401      77    N      1\n",
       "145287    2016     132   1277      66   1345      62    N      0\n",
       "145288    2016     132   1386      87   1433      74    N      0"
      ]
     },
     "execution_count": 5,
     "metadata": {},
     "output_type": "execute_result"
    }
   ],
   "source": [
    "df.tail()"
   ]
  },
  {
   "attachments": {},
   "cell_type": "markdown",
   "metadata": {},
   "source": [
    "We can see the dimensions of the dataframe using the the **shape** attribute"
   ]
  },
  {
   "cell_type": "code",
   "execution_count": 6,
   "metadata": {
    "collapsed": false
   },
   "outputs": [
    {
     "data": {
      "text/plain": [
       "(145289, 8)"
      ]
     },
     "execution_count": 6,
     "metadata": {},
     "output_type": "execute_result"
    }
   ],
   "source": [
    "df.shape"
   ]
  },
  {
   "attachments": {},
   "cell_type": "markdown",
   "metadata": {
    "collapsed": true
   },
   "source": [
    "We can also extract all the column names as a list, by using the **columns** attribute and can extract the rows with the **index** attribute"
   ]
  },
  {
   "cell_type": "code",
   "execution_count": 7,
   "metadata": {
    "collapsed": false
   },
   "outputs": [
    {
     "data": {
      "text/plain": [
       "['Season', 'Daynum', 'Wteam', 'Wscore', 'Lteam', 'Lscore', 'Wloc', 'Numot']"
      ]
     },
     "execution_count": 7,
     "metadata": {},
     "output_type": "execute_result"
    }
   ],
   "source": [
    "df.columns.tolist()"
   ]
  },
  {
   "attachments": {},
   "cell_type": "markdown",
   "metadata": {},
   "source": [
    "In order to get a better idea of the type of data that we are dealing with, we can call the **describe()** function to see statistics like mean, min, etc about each column of the dataset. "
   ]
  },
  {
   "cell_type": "code",
   "execution_count": 8,
   "metadata": {
    "collapsed": false
   },
   "outputs": [
    {
     "data": {
      "text/html": [
       "<div>\n",
       "<style scoped>\n",
       "    .dataframe tbody tr th:only-of-type {\n",
       "        vertical-align: middle;\n",
       "    }\n",
       "\n",
       "    .dataframe tbody tr th {\n",
       "        vertical-align: top;\n",
       "    }\n",
       "\n",
       "    .dataframe thead th {\n",
       "        text-align: right;\n",
       "    }\n",
       "</style>\n",
       "<table border=\"1\" class=\"dataframe\">\n",
       "  <thead>\n",
       "    <tr style=\"text-align: right;\">\n",
       "      <th></th>\n",
       "      <th>Season</th>\n",
       "      <th>Daynum</th>\n",
       "      <th>Wteam</th>\n",
       "      <th>Wscore</th>\n",
       "      <th>Lteam</th>\n",
       "      <th>Lscore</th>\n",
       "      <th>Numot</th>\n",
       "    </tr>\n",
       "  </thead>\n",
       "  <tbody>\n",
       "    <tr>\n",
       "      <th>count</th>\n",
       "      <td>145289.000000</td>\n",
       "      <td>145289.000000</td>\n",
       "      <td>145289.000000</td>\n",
       "      <td>145289.000000</td>\n",
       "      <td>145289.000000</td>\n",
       "      <td>145289.000000</td>\n",
       "      <td>145289.000000</td>\n",
       "    </tr>\n",
       "    <tr>\n",
       "      <th>mean</th>\n",
       "      <td>2001.574834</td>\n",
       "      <td>75.223816</td>\n",
       "      <td>1286.720646</td>\n",
       "      <td>76.600321</td>\n",
       "      <td>1282.864064</td>\n",
       "      <td>64.497009</td>\n",
       "      <td>0.044387</td>\n",
       "    </tr>\n",
       "    <tr>\n",
       "      <th>std</th>\n",
       "      <td>9.233342</td>\n",
       "      <td>33.287418</td>\n",
       "      <td>104.570275</td>\n",
       "      <td>12.173033</td>\n",
       "      <td>104.829234</td>\n",
       "      <td>11.380625</td>\n",
       "      <td>0.247819</td>\n",
       "    </tr>\n",
       "    <tr>\n",
       "      <th>min</th>\n",
       "      <td>1985.000000</td>\n",
       "      <td>0.000000</td>\n",
       "      <td>1101.000000</td>\n",
       "      <td>34.000000</td>\n",
       "      <td>1101.000000</td>\n",
       "      <td>20.000000</td>\n",
       "      <td>0.000000</td>\n",
       "    </tr>\n",
       "    <tr>\n",
       "      <th>25%</th>\n",
       "      <td>1994.000000</td>\n",
       "      <td>47.000000</td>\n",
       "      <td>1198.000000</td>\n",
       "      <td>68.000000</td>\n",
       "      <td>1191.000000</td>\n",
       "      <td>57.000000</td>\n",
       "      <td>0.000000</td>\n",
       "    </tr>\n",
       "    <tr>\n",
       "      <th>50%</th>\n",
       "      <td>2002.000000</td>\n",
       "      <td>78.000000</td>\n",
       "      <td>1284.000000</td>\n",
       "      <td>76.000000</td>\n",
       "      <td>1280.000000</td>\n",
       "      <td>64.000000</td>\n",
       "      <td>0.000000</td>\n",
       "    </tr>\n",
       "    <tr>\n",
       "      <th>75%</th>\n",
       "      <td>2010.000000</td>\n",
       "      <td>103.000000</td>\n",
       "      <td>1379.000000</td>\n",
       "      <td>84.000000</td>\n",
       "      <td>1375.000000</td>\n",
       "      <td>72.000000</td>\n",
       "      <td>0.000000</td>\n",
       "    </tr>\n",
       "    <tr>\n",
       "      <th>max</th>\n",
       "      <td>2016.000000</td>\n",
       "      <td>132.000000</td>\n",
       "      <td>1464.000000</td>\n",
       "      <td>186.000000</td>\n",
       "      <td>1464.000000</td>\n",
       "      <td>150.000000</td>\n",
       "      <td>6.000000</td>\n",
       "    </tr>\n",
       "  </tbody>\n",
       "</table>\n",
       "</div>"
      ],
      "text/plain": [
       "              Season         Daynum          Wteam         Wscore  \\\n",
       "count  145289.000000  145289.000000  145289.000000  145289.000000   \n",
       "mean     2001.574834      75.223816    1286.720646      76.600321   \n",
       "std         9.233342      33.287418     104.570275      12.173033   \n",
       "min      1985.000000       0.000000    1101.000000      34.000000   \n",
       "25%      1994.000000      47.000000    1198.000000      68.000000   \n",
       "50%      2002.000000      78.000000    1284.000000      76.000000   \n",
       "75%      2010.000000     103.000000    1379.000000      84.000000   \n",
       "max      2016.000000     132.000000    1464.000000     186.000000   \n",
       "\n",
       "               Lteam         Lscore          Numot  \n",
       "count  145289.000000  145289.000000  145289.000000  \n",
       "mean     1282.864064      64.497009       0.044387  \n",
       "std       104.829234      11.380625       0.247819  \n",
       "min      1101.000000      20.000000       0.000000  \n",
       "25%      1191.000000      57.000000       0.000000  \n",
       "50%      1280.000000      64.000000       0.000000  \n",
       "75%      1375.000000      72.000000       0.000000  \n",
       "max      1464.000000     150.000000       6.000000  "
      ]
     },
     "execution_count": 8,
     "metadata": {},
     "output_type": "execute_result"
    }
   ],
   "source": [
    "df.describe()"
   ]
  },
  {
   "attachments": {},
   "cell_type": "markdown",
   "metadata": {},
   "source": [
    "Okay, so now let's looking at information that we want to extract from the dataframe. Let's say I wanted to know the max value of a certain column. The function **max()** will show you the maximum values of all columns"
   ]
  },
  {
   "cell_type": "code",
   "execution_count": 9,
   "metadata": {
    "collapsed": false
   },
   "outputs": [
    {
     "data": {
      "text/plain": [
       "Season    2016\n",
       "Daynum     132\n",
       "Wteam     1464\n",
       "Wscore     186\n",
       "Lteam     1464\n",
       "Lscore     150\n",
       "Wloc         N\n",
       "Numot        6\n",
       "dtype: object"
      ]
     },
     "execution_count": 9,
     "metadata": {},
     "output_type": "execute_result"
    }
   ],
   "source": [
    "df.max()"
   ]
  },
  {
   "attachments": {},
   "cell_type": "markdown",
   "metadata": {},
   "source": [
    "Then, if you'd like to specifically get the max value for a particular column, you pass in the name of the column using the bracket indexing operator"
   ]
  },
  {
   "cell_type": "code",
   "execution_count": 10,
   "metadata": {
    "collapsed": false
   },
   "outputs": [
    {
     "data": {
      "text/plain": [
       "186"
      ]
     },
     "execution_count": 10,
     "metadata": {},
     "output_type": "execute_result"
    }
   ],
   "source": [
    "df['Wscore'].max()"
   ]
  },
  {
   "attachments": {},
   "cell_type": "markdown",
   "metadata": {},
   "source": [
    "If you'd like to find the mean of the Losing teams' score. "
   ]
  },
  {
   "cell_type": "code",
   "execution_count": 11,
   "metadata": {
    "collapsed": false
   },
   "outputs": [
    {
     "data": {
      "text/plain": [
       "64.49700940883343"
      ]
     },
     "execution_count": 11,
     "metadata": {},
     "output_type": "execute_result"
    }
   ],
   "source": [
    "df['Lscore'].mean()"
   ]
  },
  {
   "attachments": {},
   "cell_type": "markdown",
   "metadata": {},
   "source": [
    "But what if that's not enough? Let's say we want to actually see the game(row) where this max score happened. We can call the **argmax()** function to identify the row index"
   ]
  },
  {
   "cell_type": "code",
   "execution_count": 12,
   "metadata": {
    "collapsed": false
   },
   "outputs": [
    {
     "data": {
      "text/plain": [
       "24970"
      ]
     },
     "execution_count": 12,
     "metadata": {},
     "output_type": "execute_result"
    }
   ],
   "source": [
    "df['Wscore'].argmax()"
   ]
  },
  {
   "attachments": {},
   "cell_type": "markdown",
   "metadata": {},
   "source": [
    "One of the most useful functions that you can call on certain columns in a dataframe is the **value_counts()** function. It shows how many times each item appears in the column. This particular command shows the number of games in each season"
   ]
  },
  {
   "cell_type": "code",
   "execution_count": 13,
   "metadata": {
    "collapsed": false
   },
   "outputs": [
    {
     "data": {
      "text/plain": [
       "Season\n",
       "2016    5369\n",
       "2014    5362\n",
       "2015    5354\n",
       "2013    5320\n",
       "2010    5263\n",
       "2012    5253\n",
       "2009    5249\n",
       "2011    5246\n",
       "2008    5163\n",
       "2007    5043\n",
       "2006    4757\n",
       "2005    4675\n",
       "2003    4616\n",
       "2004    4571\n",
       "2002    4555\n",
       "2000    4519\n",
       "2001    4467\n",
       "1999    4222\n",
       "1998    4167\n",
       "1997    4155\n",
       "1992    4127\n",
       "1991    4123\n",
       "1996    4122\n",
       "1995    4077\n",
       "1994    4060\n",
       "1990    4045\n",
       "1989    4037\n",
       "1993    3982\n",
       "1988    3955\n",
       "1987    3915\n",
       "1986    3783\n",
       "1985    3737\n",
       "Name: count, dtype: int64"
      ]
     },
     "execution_count": 13,
     "metadata": {},
     "output_type": "execute_result"
    }
   ],
   "source": [
    "df['Season'].value_counts()"
   ]
  },
  {
   "attachments": {},
   "cell_type": "markdown",
   "metadata": {},
   "source": [
    "**Q**: How many unique seasons are there in the dataset? Use the nunique() function."
   ]
  },
  {
   "cell_type": "code",
   "execution_count": 14,
   "metadata": {},
   "outputs": [
    {
     "data": {
      "text/plain": [
       "32"
      ]
     },
     "execution_count": 14,
     "metadata": {},
     "output_type": "execute_result"
    }
   ],
   "source": [
    "df.Season.nunique()"
   ]
  },
  {
   "attachments": {},
   "cell_type": "markdown",
   "metadata": {},
   "source": [
    "**Q**: Find the team with the most wins. Use the value_counts() function on the Wteam column."
   ]
  },
  {
   "cell_type": "code",
   "execution_count": 15,
   "metadata": {},
   "outputs": [
    {
     "data": {
      "text/plain": [
       "<bound method Series.max of Wteam\n",
       "1181    819\n",
       "1242    804\n",
       "1246    765\n",
       "1314    761\n",
       "1112    746\n",
       "       ... \n",
       "1101     18\n",
       "1446     14\n",
       "1118      6\n",
       "1289      6\n",
       "1327      3\n",
       "Name: count, Length: 364, dtype: int64>"
      ]
     },
     "execution_count": 15,
     "metadata": {},
     "output_type": "execute_result"
    }
   ],
   "source": [
    "df.Wteam.value_counts().max"
   ]
  },
  {
   "attachments": {},
   "cell_type": "markdown",
   "metadata": {},
   "source": [
    "# Acessing Values"
   ]
  },
  {
   "attachments": {},
   "cell_type": "markdown",
   "metadata": {},
   "source": [
    "Then, in order to get attributes about the game, we need to use the **iloc[]** function. Iloc is definitely one of the more important functions. The main idea is that you want to use it whenever you have the integer index of a certain row that you want to access. As per Pandas documentation, iloc is an \"integer-location based indexing for selection by position.\""
   ]
  },
  {
   "cell_type": "code",
   "execution_count": 16,
   "metadata": {
    "collapsed": false
   },
   "outputs": [
    {
     "data": {
      "text/html": [
       "<div>\n",
       "<style scoped>\n",
       "    .dataframe tbody tr th:only-of-type {\n",
       "        vertical-align: middle;\n",
       "    }\n",
       "\n",
       "    .dataframe tbody tr th {\n",
       "        vertical-align: top;\n",
       "    }\n",
       "\n",
       "    .dataframe thead th {\n",
       "        text-align: right;\n",
       "    }\n",
       "</style>\n",
       "<table border=\"1\" class=\"dataframe\">\n",
       "  <thead>\n",
       "    <tr style=\"text-align: right;\">\n",
       "      <th></th>\n",
       "      <th>Season</th>\n",
       "      <th>Daynum</th>\n",
       "      <th>Wteam</th>\n",
       "      <th>Wscore</th>\n",
       "      <th>Lteam</th>\n",
       "      <th>Lscore</th>\n",
       "      <th>Wloc</th>\n",
       "      <th>Numot</th>\n",
       "    </tr>\n",
       "  </thead>\n",
       "  <tbody>\n",
       "    <tr>\n",
       "      <th>24970</th>\n",
       "      <td>1991</td>\n",
       "      <td>68</td>\n",
       "      <td>1258</td>\n",
       "      <td>186</td>\n",
       "      <td>1109</td>\n",
       "      <td>140</td>\n",
       "      <td>H</td>\n",
       "      <td>0</td>\n",
       "    </tr>\n",
       "  </tbody>\n",
       "</table>\n",
       "</div>"
      ],
      "text/plain": [
       "       Season  Daynum  Wteam  Wscore  Lteam  Lscore Wloc  Numot\n",
       "24970    1991      68   1258     186   1109     140    H      0"
      ]
     },
     "execution_count": 16,
     "metadata": {},
     "output_type": "execute_result"
    }
   ],
   "source": [
    "df.iloc[[df['Wscore'].argmax()]]"
   ]
  },
  {
   "attachments": {},
   "cell_type": "markdown",
   "metadata": {},
   "source": [
    "Let's take this a step further. Let's say you want to know the game with the highest scoring winning team (this is what we just calculated), but you then want to know how many points the losing team scored. "
   ]
  },
  {
   "cell_type": "code",
   "execution_count": 17,
   "metadata": {
    "collapsed": false
   },
   "outputs": [
    {
     "data": {
      "text/plain": [
       "24970    140\n",
       "Name: Lscore, dtype: int64"
      ]
     },
     "execution_count": 17,
     "metadata": {},
     "output_type": "execute_result"
    }
   ],
   "source": [
    "df.iloc[[df['Wscore'].argmax()]]['Lscore']"
   ]
  },
  {
   "attachments": {},
   "cell_type": "markdown",
   "metadata": {},
   "source": [
    "When you see data displayed in the above format, you're dealing with a Pandas **Series** object, not a dataframe object."
   ]
  },
  {
   "cell_type": "code",
   "execution_count": 18,
   "metadata": {
    "collapsed": false
   },
   "outputs": [
    {
     "data": {
      "text/plain": [
       "pandas.core.series.Series"
      ]
     },
     "execution_count": 18,
     "metadata": {},
     "output_type": "execute_result"
    }
   ],
   "source": [
    "type(df.iloc[[df['Wscore'].argmax()]]['Lscore'])"
   ]
  },
  {
   "cell_type": "code",
   "execution_count": 19,
   "metadata": {
    "collapsed": false
   },
   "outputs": [
    {
     "data": {
      "text/plain": [
       "pandas.core.frame.DataFrame"
      ]
     },
     "execution_count": 19,
     "metadata": {},
     "output_type": "execute_result"
    }
   ],
   "source": [
    "type(df.iloc[[df['Wscore'].argmax()]])"
   ]
  },
  {
   "attachments": {},
   "cell_type": "markdown",
   "metadata": {},
   "source": [
    "The following is a summary of the 3 data structures in Pandas (Haven't ever really used Panels yet)\n",
    "\n",
    "![](DataStructures.png)"
   ]
  },
  {
   "attachments": {},
   "cell_type": "markdown",
   "metadata": {},
   "source": [
    "When you want to access values in a Series, you'll want to just treat the Series like a Python dictionary, so you'd access the value according to its key (which is normally an integer index)"
   ]
  },
  {
   "cell_type": "code",
   "execution_count": 20,
   "metadata": {
    "collapsed": false
   },
   "outputs": [
    {
     "data": {
      "text/plain": [
       "140"
      ]
     },
     "execution_count": 20,
     "metadata": {},
     "output_type": "execute_result"
    }
   ],
   "source": [
    "df.iloc[[df['Wscore'].argmax()]]['Lscore'][24970]"
   ]
  },
  {
   "attachments": {},
   "cell_type": "markdown",
   "metadata": {},
   "source": [
    "The other really important function in Pandas is the **loc** function. Contrary to iloc, which is an integer based indexing, loc is a \"Purely label-location based indexer for selection by label\". Since all the games are ordered from 0 to 145288, iloc and loc are going to be pretty interchangable in this type of dataset"
   ]
  },
  {
   "cell_type": "code",
   "execution_count": 21,
   "metadata": {
    "collapsed": false
   },
   "outputs": [
    {
     "data": {
      "text/html": [
       "<div>\n",
       "<style scoped>\n",
       "    .dataframe tbody tr th:only-of-type {\n",
       "        vertical-align: middle;\n",
       "    }\n",
       "\n",
       "    .dataframe tbody tr th {\n",
       "        vertical-align: top;\n",
       "    }\n",
       "\n",
       "    .dataframe thead th {\n",
       "        text-align: right;\n",
       "    }\n",
       "</style>\n",
       "<table border=\"1\" class=\"dataframe\">\n",
       "  <thead>\n",
       "    <tr style=\"text-align: right;\">\n",
       "      <th></th>\n",
       "      <th>Season</th>\n",
       "      <th>Daynum</th>\n",
       "      <th>Wteam</th>\n",
       "      <th>Wscore</th>\n",
       "      <th>Lteam</th>\n",
       "      <th>Lscore</th>\n",
       "      <th>Wloc</th>\n",
       "      <th>Numot</th>\n",
       "    </tr>\n",
       "  </thead>\n",
       "  <tbody>\n",
       "    <tr>\n",
       "      <th>0</th>\n",
       "      <td>1985</td>\n",
       "      <td>20</td>\n",
       "      <td>1228</td>\n",
       "      <td>81</td>\n",
       "      <td>1328</td>\n",
       "      <td>64</td>\n",
       "      <td>N</td>\n",
       "      <td>0</td>\n",
       "    </tr>\n",
       "    <tr>\n",
       "      <th>1</th>\n",
       "      <td>1985</td>\n",
       "      <td>25</td>\n",
       "      <td>1106</td>\n",
       "      <td>77</td>\n",
       "      <td>1354</td>\n",
       "      <td>70</td>\n",
       "      <td>H</td>\n",
       "      <td>0</td>\n",
       "    </tr>\n",
       "    <tr>\n",
       "      <th>2</th>\n",
       "      <td>1985</td>\n",
       "      <td>25</td>\n",
       "      <td>1112</td>\n",
       "      <td>63</td>\n",
       "      <td>1223</td>\n",
       "      <td>56</td>\n",
       "      <td>H</td>\n",
       "      <td>0</td>\n",
       "    </tr>\n",
       "  </tbody>\n",
       "</table>\n",
       "</div>"
      ],
      "text/plain": [
       "   Season  Daynum  Wteam  Wscore  Lteam  Lscore Wloc  Numot\n",
       "0    1985      20   1228      81   1328      64    N      0\n",
       "1    1985      25   1106      77   1354      70    H      0\n",
       "2    1985      25   1112      63   1223      56    H      0"
      ]
     },
     "execution_count": 21,
     "metadata": {},
     "output_type": "execute_result"
    }
   ],
   "source": [
    "df.iloc[:3]"
   ]
  },
  {
   "cell_type": "code",
   "execution_count": 22,
   "metadata": {
    "collapsed": false
   },
   "outputs": [
    {
     "data": {
      "text/html": [
       "<div>\n",
       "<style scoped>\n",
       "    .dataframe tbody tr th:only-of-type {\n",
       "        vertical-align: middle;\n",
       "    }\n",
       "\n",
       "    .dataframe tbody tr th {\n",
       "        vertical-align: top;\n",
       "    }\n",
       "\n",
       "    .dataframe thead th {\n",
       "        text-align: right;\n",
       "    }\n",
       "</style>\n",
       "<table border=\"1\" class=\"dataframe\">\n",
       "  <thead>\n",
       "    <tr style=\"text-align: right;\">\n",
       "      <th></th>\n",
       "      <th>Season</th>\n",
       "      <th>Daynum</th>\n",
       "      <th>Wteam</th>\n",
       "      <th>Wscore</th>\n",
       "      <th>Lteam</th>\n",
       "      <th>Lscore</th>\n",
       "      <th>Wloc</th>\n",
       "      <th>Numot</th>\n",
       "    </tr>\n",
       "  </thead>\n",
       "  <tbody>\n",
       "    <tr>\n",
       "      <th>0</th>\n",
       "      <td>1985</td>\n",
       "      <td>20</td>\n",
       "      <td>1228</td>\n",
       "      <td>81</td>\n",
       "      <td>1328</td>\n",
       "      <td>64</td>\n",
       "      <td>N</td>\n",
       "      <td>0</td>\n",
       "    </tr>\n",
       "    <tr>\n",
       "      <th>1</th>\n",
       "      <td>1985</td>\n",
       "      <td>25</td>\n",
       "      <td>1106</td>\n",
       "      <td>77</td>\n",
       "      <td>1354</td>\n",
       "      <td>70</td>\n",
       "      <td>H</td>\n",
       "      <td>0</td>\n",
       "    </tr>\n",
       "    <tr>\n",
       "      <th>2</th>\n",
       "      <td>1985</td>\n",
       "      <td>25</td>\n",
       "      <td>1112</td>\n",
       "      <td>63</td>\n",
       "      <td>1223</td>\n",
       "      <td>56</td>\n",
       "      <td>H</td>\n",
       "      <td>0</td>\n",
       "    </tr>\n",
       "    <tr>\n",
       "      <th>3</th>\n",
       "      <td>1985</td>\n",
       "      <td>25</td>\n",
       "      <td>1165</td>\n",
       "      <td>70</td>\n",
       "      <td>1432</td>\n",
       "      <td>54</td>\n",
       "      <td>H</td>\n",
       "      <td>0</td>\n",
       "    </tr>\n",
       "  </tbody>\n",
       "</table>\n",
       "</div>"
      ],
      "text/plain": [
       "   Season  Daynum  Wteam  Wscore  Lteam  Lscore Wloc  Numot\n",
       "0    1985      20   1228      81   1328      64    N      0\n",
       "1    1985      25   1106      77   1354      70    H      0\n",
       "2    1985      25   1112      63   1223      56    H      0\n",
       "3    1985      25   1165      70   1432      54    H      0"
      ]
     },
     "execution_count": 22,
     "metadata": {},
     "output_type": "execute_result"
    }
   ],
   "source": [
    "df.loc[:3]"
   ]
  },
  {
   "attachments": {},
   "cell_type": "markdown",
   "metadata": {},
   "source": [
    "Notice the slight difference in that iloc is exclusive of the second number, while loc is inclusive. "
   ]
  },
  {
   "attachments": {},
   "cell_type": "markdown",
   "metadata": {},
   "source": [
    "Below is an example of how you can use loc to acheive the same task as we did previously with iloc"
   ]
  },
  {
   "cell_type": "code",
   "execution_count": 23,
   "metadata": {
    "collapsed": false
   },
   "outputs": [
    {
     "data": {
      "text/plain": [
       "140"
      ]
     },
     "execution_count": 23,
     "metadata": {},
     "output_type": "execute_result"
    }
   ],
   "source": [
    "df.loc[df['Wscore'].argmax(), 'Lscore']"
   ]
  },
  {
   "attachments": {},
   "cell_type": "markdown",
   "metadata": {},
   "source": [
    "A faster version uses the **at()** function. At() is really useful wheneever you know the row label and the column label of the particular value that you want to get. "
   ]
  },
  {
   "cell_type": "code",
   "execution_count": 24,
   "metadata": {
    "collapsed": false
   },
   "outputs": [
    {
     "data": {
      "text/plain": [
       "140"
      ]
     },
     "execution_count": 24,
     "metadata": {},
     "output_type": "execute_result"
    }
   ],
   "source": [
    "df.at[df['Wscore'].argmax(), 'Lscore']"
   ]
  },
  {
   "attachments": {},
   "cell_type": "markdown",
   "metadata": {},
   "source": [
    "If you'd like to see more discussion on how loc and iloc are different, check out this great Stack Overflow post: http://stackoverflow.com/questions/31593201/pandas-iloc-vs-ix-vs-loc-explanation. Just remember that **iloc looks at position** and **loc looks at labels**. Loc becomes very important when your row labels aren't integers. "
   ]
  },
  {
   "attachments": {},
   "cell_type": "markdown",
   "metadata": {},
   "source": [
    "# Sorting"
   ]
  },
  {
   "attachments": {},
   "cell_type": "markdown",
   "metadata": {},
   "source": [
    "Let's say that we want to sort the dataframe in increasing order for the scores of the losing team"
   ]
  },
  {
   "cell_type": "code",
   "execution_count": 25,
   "metadata": {
    "collapsed": false,
    "scrolled": true
   },
   "outputs": [
    {
     "data": {
      "text/html": [
       "<div>\n",
       "<style scoped>\n",
       "    .dataframe tbody tr th:only-of-type {\n",
       "        vertical-align: middle;\n",
       "    }\n",
       "\n",
       "    .dataframe tbody tr th {\n",
       "        vertical-align: top;\n",
       "    }\n",
       "\n",
       "    .dataframe thead th {\n",
       "        text-align: right;\n",
       "    }\n",
       "</style>\n",
       "<table border=\"1\" class=\"dataframe\">\n",
       "  <thead>\n",
       "    <tr style=\"text-align: right;\">\n",
       "      <th></th>\n",
       "      <th>Season</th>\n",
       "      <th>Daynum</th>\n",
       "      <th>Wteam</th>\n",
       "      <th>Wscore</th>\n",
       "      <th>Lteam</th>\n",
       "      <th>Lscore</th>\n",
       "      <th>Wloc</th>\n",
       "      <th>Numot</th>\n",
       "    </tr>\n",
       "  </thead>\n",
       "  <tbody>\n",
       "    <tr>\n",
       "      <th>100027</th>\n",
       "      <td>2008</td>\n",
       "      <td>66</td>\n",
       "      <td>1203</td>\n",
       "      <td>49</td>\n",
       "      <td>1387</td>\n",
       "      <td>20</td>\n",
       "      <td>H</td>\n",
       "      <td>0</td>\n",
       "    </tr>\n",
       "    <tr>\n",
       "      <th>49310</th>\n",
       "      <td>1997</td>\n",
       "      <td>66</td>\n",
       "      <td>1157</td>\n",
       "      <td>61</td>\n",
       "      <td>1204</td>\n",
       "      <td>21</td>\n",
       "      <td>H</td>\n",
       "      <td>0</td>\n",
       "    </tr>\n",
       "    <tr>\n",
       "      <th>89021</th>\n",
       "      <td>2006</td>\n",
       "      <td>44</td>\n",
       "      <td>1284</td>\n",
       "      <td>41</td>\n",
       "      <td>1343</td>\n",
       "      <td>21</td>\n",
       "      <td>A</td>\n",
       "      <td>0</td>\n",
       "    </tr>\n",
       "    <tr>\n",
       "      <th>85042</th>\n",
       "      <td>2005</td>\n",
       "      <td>66</td>\n",
       "      <td>1131</td>\n",
       "      <td>73</td>\n",
       "      <td>1216</td>\n",
       "      <td>22</td>\n",
       "      <td>H</td>\n",
       "      <td>0</td>\n",
       "    </tr>\n",
       "    <tr>\n",
       "      <th>103660</th>\n",
       "      <td>2009</td>\n",
       "      <td>26</td>\n",
       "      <td>1326</td>\n",
       "      <td>59</td>\n",
       "      <td>1359</td>\n",
       "      <td>22</td>\n",
       "      <td>H</td>\n",
       "      <td>0</td>\n",
       "    </tr>\n",
       "  </tbody>\n",
       "</table>\n",
       "</div>"
      ],
      "text/plain": [
       "        Season  Daynum  Wteam  Wscore  Lteam  Lscore Wloc  Numot\n",
       "100027    2008      66   1203      49   1387      20    H      0\n",
       "49310     1997      66   1157      61   1204      21    H      0\n",
       "89021     2006      44   1284      41   1343      21    A      0\n",
       "85042     2005      66   1131      73   1216      22    H      0\n",
       "103660    2009      26   1326      59   1359      22    H      0"
      ]
     },
     "execution_count": 25,
     "metadata": {},
     "output_type": "execute_result"
    }
   ],
   "source": [
    "df.sort_values('Lscore').head()"
   ]
  },
  {
   "attachments": {},
   "cell_type": "markdown",
   "metadata": {},
   "source": [
    "**Q**: Make three dataframes that are sorted by season, winning team, and winning score respectively. Then, Using iloc, select the rows from index 100 to 200 and the columns for season, winning team, and winning score, respectively. "
   ]
  },
  {
   "cell_type": "code",
   "execution_count": 26,
   "metadata": {},
   "outputs": [
    {
     "name": "stdout",
     "output_type": "stream",
     "text": [
      "DataFrame sorted by Season:\n",
      "      Season  Daynum  Wteam  Wscore  Lteam  Lscore Wloc  Numot\n",
      "0       1985      20   1228      81   1328      64    N      0\n",
      "2484    1985      99   1275      73   1132      63    H      0\n",
      "2485    1985      99   1306      62   1171      59    H      0\n",
      "2486    1985      99   1318      99   1145      91    H      0\n",
      "2487    1985      99   1337      75   1109      56    H      0\n",
      "DataFrame sorted by Winning Team:\n",
      "        Season  Daynum  Wteam  Wscore  Lteam  Lscore Wloc  Numot\n",
      "140642    2016      25   1101      72   1197      62    N      0\n",
      "136740    2015      62   1101      87   1146      70    H      0\n",
      "143283    2016      89   1101      80   1249      71    H      0\n",
      "143476    2016      92   1101      79   1223      72    H      0\n",
      "141972    2016      61   1101      62   1146      61    A      0\n",
      "DataFrame sorted by Winning Score:\n",
      "        Season  Daynum  Wteam  Wscore  Lteam  Lscore Wloc  Numot\n",
      "128582    2013     116   1264      34   1193      31    H      0\n",
      "69336     2001     126   1206      35   1423      33    N      0\n",
      "5364      1986      77   1229      35   1166      34    A      0\n",
      "20246     1990      47   1374      36   1426      31    H      0\n",
      "118590    2011     130   1336      36   1458      33    N      0\n",
      "\n",
      "Selected rows from index 100 to 200 and columns - Season, Winning Team, Winning Score:\n",
      "     Season  Lscore Wloc\n",
      "100    1985      82    A\n",
      "101    1985      57    A\n",
      "102    1985      61    H\n",
      "103    1985      67    A\n",
      "104    1985      61    A\n",
      "..      ...     ...  ...\n",
      "196    1985      59    H\n",
      "197    1985      64    N\n",
      "198    1985      71    H\n",
      "199    1985      70    H\n",
      "200    1985      44    H\n",
      "\n",
      "[101 rows x 3 columns]\n"
     ]
    }
   ],
   "source": [
    "import pandas as pd\n",
    "\n",
    "# Prepare sorted DataFrames based on season, winning team, and winning score\n",
    "df_sorted_season = df.sort_values('Season').head()\n",
    "df_sorted_team = df.sort_values('Wteam').head()\n",
    "df_sorted_score = df.sort_values('Wscore').head()\n",
    "\n",
    "# Extract rows from index 100 to 200 and specific columns: season, winning team, and winning score using iloc\n",
    "selected_data = df.iloc[100:201, [0, 5, 6]]  \n",
    "\n",
    "# Showcase the sorted DataFrames based on season, winning team, and winning score\n",
    "print(\"DataFrame sorted by Season:\")\n",
    "print(df_sorted_season)\n",
    "\n",
    "print(\"DataFrame sorted by Winning Team:\")\n",
    "print(df_sorted_team)\n",
    "\n",
    "print(\"DataFrame sorted by Winning Score:\")\n",
    "print(df_sorted_score)\n",
    "\n",
    "# Show the selected data from rows 100 to 200 with specified columns\n",
    "print(\"\\nSelected rows from index 100 to 200 and columns - Season, Winning Team, Winning Score:\")\n",
    "print(selected_data)\n"
   ]
  },
  {
   "attachments": {},
   "cell_type": "markdown",
   "metadata": {},
   "source": [
    "**Q**: From these three subsets you obtained above, find the season and winning team for the game with the highest winning score."
   ]
  },
  {
   "cell_type": "code",
   "execution_count": 27,
   "metadata": {},
   "outputs": [
    {
     "name": "stdout",
     "output_type": "stream",
     "text": [
      "The season with the highest winning score is: 1991\n",
      "The team with the highest winning score is: 1258\n"
     ]
    }
   ],
   "source": [
    "# Sort the DataFrame in descending order based on the winning score\n",
    "sorted_df_by_score = df.sort_values('Wscore', ascending=False)\n",
    "\n",
    "# Selecting the top row which has the highest winning score\n",
    "top_score_game = sorted_df_by_score.head(1).iloc[0]\n",
    "\n",
    "# Finding the season and team with the highest winning score.\n",
    "top_score_season = top_score_game['Season']\n",
    "top_winning_team = top_score_game['Wteam']\n",
    "\n",
    "# Showing the season and team for the highest-scoring game.\n",
    "print(\"The season with the highest winning score is:\", top_score_season)\n",
    "print(\"The team with the highest winning score is:\", top_winning_team)\n",
    "\n"
   ]
  },
  {
   "attachments": {},
   "cell_type": "markdown",
   "metadata": {},
   "source": [
    "# Filtering Rows Conditionally"
   ]
  },
  {
   "attachments": {},
   "cell_type": "markdown",
   "metadata": {},
   "source": [
    "Now, let's say we want to find all of the rows that satisy a particular condition. For example, I want to find all of the games where the winning team scored more than 150 points. The idea behind this command is you want to access the column 'Wscore' of the dataframe df (df['Wscore']), find which entries are above 150 (df['Wscore'] > 150), and then returns only those specific rows in a dataframe format (df[df['Wscore'] > 150])."
   ]
  },
  {
   "cell_type": "code",
   "execution_count": 28,
   "metadata": {
    "collapsed": false
   },
   "outputs": [
    {
     "data": {
      "text/html": [
       "<div>\n",
       "<style scoped>\n",
       "    .dataframe tbody tr th:only-of-type {\n",
       "        vertical-align: middle;\n",
       "    }\n",
       "\n",
       "    .dataframe tbody tr th {\n",
       "        vertical-align: top;\n",
       "    }\n",
       "\n",
       "    .dataframe thead th {\n",
       "        text-align: right;\n",
       "    }\n",
       "</style>\n",
       "<table border=\"1\" class=\"dataframe\">\n",
       "  <thead>\n",
       "    <tr style=\"text-align: right;\">\n",
       "      <th></th>\n",
       "      <th>Season</th>\n",
       "      <th>Daynum</th>\n",
       "      <th>Wteam</th>\n",
       "      <th>Wscore</th>\n",
       "      <th>Lteam</th>\n",
       "      <th>Lscore</th>\n",
       "      <th>Wloc</th>\n",
       "      <th>Numot</th>\n",
       "    </tr>\n",
       "  </thead>\n",
       "  <tbody>\n",
       "    <tr>\n",
       "      <th>5269</th>\n",
       "      <td>1986</td>\n",
       "      <td>75</td>\n",
       "      <td>1258</td>\n",
       "      <td>151</td>\n",
       "      <td>1109</td>\n",
       "      <td>107</td>\n",
       "      <td>H</td>\n",
       "      <td>0</td>\n",
       "    </tr>\n",
       "    <tr>\n",
       "      <th>12046</th>\n",
       "      <td>1988</td>\n",
       "      <td>40</td>\n",
       "      <td>1328</td>\n",
       "      <td>152</td>\n",
       "      <td>1147</td>\n",
       "      <td>84</td>\n",
       "      <td>H</td>\n",
       "      <td>0</td>\n",
       "    </tr>\n",
       "    <tr>\n",
       "      <th>12355</th>\n",
       "      <td>1988</td>\n",
       "      <td>52</td>\n",
       "      <td>1328</td>\n",
       "      <td>151</td>\n",
       "      <td>1173</td>\n",
       "      <td>99</td>\n",
       "      <td>N</td>\n",
       "      <td>0</td>\n",
       "    </tr>\n",
       "    <tr>\n",
       "      <th>16040</th>\n",
       "      <td>1989</td>\n",
       "      <td>40</td>\n",
       "      <td>1328</td>\n",
       "      <td>152</td>\n",
       "      <td>1331</td>\n",
       "      <td>122</td>\n",
       "      <td>H</td>\n",
       "      <td>0</td>\n",
       "    </tr>\n",
       "    <tr>\n",
       "      <th>16853</th>\n",
       "      <td>1989</td>\n",
       "      <td>68</td>\n",
       "      <td>1258</td>\n",
       "      <td>162</td>\n",
       "      <td>1109</td>\n",
       "      <td>144</td>\n",
       "      <td>A</td>\n",
       "      <td>0</td>\n",
       "    </tr>\n",
       "    <tr>\n",
       "      <th>17867</th>\n",
       "      <td>1989</td>\n",
       "      <td>92</td>\n",
       "      <td>1258</td>\n",
       "      <td>181</td>\n",
       "      <td>1109</td>\n",
       "      <td>150</td>\n",
       "      <td>H</td>\n",
       "      <td>0</td>\n",
       "    </tr>\n",
       "    <tr>\n",
       "      <th>19653</th>\n",
       "      <td>1990</td>\n",
       "      <td>30</td>\n",
       "      <td>1328</td>\n",
       "      <td>173</td>\n",
       "      <td>1109</td>\n",
       "      <td>101</td>\n",
       "      <td>H</td>\n",
       "      <td>0</td>\n",
       "    </tr>\n",
       "    <tr>\n",
       "      <th>19971</th>\n",
       "      <td>1990</td>\n",
       "      <td>38</td>\n",
       "      <td>1258</td>\n",
       "      <td>152</td>\n",
       "      <td>1109</td>\n",
       "      <td>137</td>\n",
       "      <td>A</td>\n",
       "      <td>0</td>\n",
       "    </tr>\n",
       "    <tr>\n",
       "      <th>20022</th>\n",
       "      <td>1990</td>\n",
       "      <td>40</td>\n",
       "      <td>1116</td>\n",
       "      <td>166</td>\n",
       "      <td>1109</td>\n",
       "      <td>101</td>\n",
       "      <td>H</td>\n",
       "      <td>0</td>\n",
       "    </tr>\n",
       "    <tr>\n",
       "      <th>22145</th>\n",
       "      <td>1990</td>\n",
       "      <td>97</td>\n",
       "      <td>1258</td>\n",
       "      <td>157</td>\n",
       "      <td>1362</td>\n",
       "      <td>115</td>\n",
       "      <td>H</td>\n",
       "      <td>0</td>\n",
       "    </tr>\n",
       "    <tr>\n",
       "      <th>23582</th>\n",
       "      <td>1991</td>\n",
       "      <td>26</td>\n",
       "      <td>1318</td>\n",
       "      <td>152</td>\n",
       "      <td>1258</td>\n",
       "      <td>123</td>\n",
       "      <td>N</td>\n",
       "      <td>0</td>\n",
       "    </tr>\n",
       "    <tr>\n",
       "      <th>24341</th>\n",
       "      <td>1991</td>\n",
       "      <td>47</td>\n",
       "      <td>1328</td>\n",
       "      <td>172</td>\n",
       "      <td>1258</td>\n",
       "      <td>112</td>\n",
       "      <td>H</td>\n",
       "      <td>0</td>\n",
       "    </tr>\n",
       "    <tr>\n",
       "      <th>24970</th>\n",
       "      <td>1991</td>\n",
       "      <td>68</td>\n",
       "      <td>1258</td>\n",
       "      <td>186</td>\n",
       "      <td>1109</td>\n",
       "      <td>140</td>\n",
       "      <td>H</td>\n",
       "      <td>0</td>\n",
       "    </tr>\n",
       "    <tr>\n",
       "      <th>25656</th>\n",
       "      <td>1991</td>\n",
       "      <td>84</td>\n",
       "      <td>1106</td>\n",
       "      <td>151</td>\n",
       "      <td>1212</td>\n",
       "      <td>97</td>\n",
       "      <td>H</td>\n",
       "      <td>0</td>\n",
       "    </tr>\n",
       "    <tr>\n",
       "      <th>28687</th>\n",
       "      <td>1992</td>\n",
       "      <td>54</td>\n",
       "      <td>1261</td>\n",
       "      <td>159</td>\n",
       "      <td>1319</td>\n",
       "      <td>86</td>\n",
       "      <td>H</td>\n",
       "      <td>0</td>\n",
       "    </tr>\n",
       "    <tr>\n",
       "      <th>35023</th>\n",
       "      <td>1993</td>\n",
       "      <td>112</td>\n",
       "      <td>1380</td>\n",
       "      <td>155</td>\n",
       "      <td>1341</td>\n",
       "      <td>91</td>\n",
       "      <td>A</td>\n",
       "      <td>0</td>\n",
       "    </tr>\n",
       "    <tr>\n",
       "      <th>40060</th>\n",
       "      <td>1995</td>\n",
       "      <td>32</td>\n",
       "      <td>1375</td>\n",
       "      <td>156</td>\n",
       "      <td>1341</td>\n",
       "      <td>114</td>\n",
       "      <td>H</td>\n",
       "      <td>0</td>\n",
       "    </tr>\n",
       "    <tr>\n",
       "      <th>52600</th>\n",
       "      <td>1998</td>\n",
       "      <td>33</td>\n",
       "      <td>1395</td>\n",
       "      <td>153</td>\n",
       "      <td>1410</td>\n",
       "      <td>87</td>\n",
       "      <td>H</td>\n",
       "      <td>0</td>\n",
       "    </tr>\n",
       "  </tbody>\n",
       "</table>\n",
       "</div>"
      ],
      "text/plain": [
       "       Season  Daynum  Wteam  Wscore  Lteam  Lscore Wloc  Numot\n",
       "5269     1986      75   1258     151   1109     107    H      0\n",
       "12046    1988      40   1328     152   1147      84    H      0\n",
       "12355    1988      52   1328     151   1173      99    N      0\n",
       "16040    1989      40   1328     152   1331     122    H      0\n",
       "16853    1989      68   1258     162   1109     144    A      0\n",
       "17867    1989      92   1258     181   1109     150    H      0\n",
       "19653    1990      30   1328     173   1109     101    H      0\n",
       "19971    1990      38   1258     152   1109     137    A      0\n",
       "20022    1990      40   1116     166   1109     101    H      0\n",
       "22145    1990      97   1258     157   1362     115    H      0\n",
       "23582    1991      26   1318     152   1258     123    N      0\n",
       "24341    1991      47   1328     172   1258     112    H      0\n",
       "24970    1991      68   1258     186   1109     140    H      0\n",
       "25656    1991      84   1106     151   1212      97    H      0\n",
       "28687    1992      54   1261     159   1319      86    H      0\n",
       "35023    1993     112   1380     155   1341      91    A      0\n",
       "40060    1995      32   1375     156   1341     114    H      0\n",
       "52600    1998      33   1395     153   1410      87    H      0"
      ]
     },
     "execution_count": 28,
     "metadata": {},
     "output_type": "execute_result"
    }
   ],
   "source": [
    "df[df['Wscore'] > 150]"
   ]
  },
  {
   "attachments": {},
   "cell_type": "markdown",
   "metadata": {},
   "source": [
    "This also works if you have multiple conditions. Let's say we want to find out when the winning team scores more than 150 points and when the losing team scores below 100. "
   ]
  },
  {
   "cell_type": "code",
   "execution_count": 29,
   "metadata": {
    "collapsed": false
   },
   "outputs": [
    {
     "data": {
      "text/html": [
       "<div>\n",
       "<style scoped>\n",
       "    .dataframe tbody tr th:only-of-type {\n",
       "        vertical-align: middle;\n",
       "    }\n",
       "\n",
       "    .dataframe tbody tr th {\n",
       "        vertical-align: top;\n",
       "    }\n",
       "\n",
       "    .dataframe thead th {\n",
       "        text-align: right;\n",
       "    }\n",
       "</style>\n",
       "<table border=\"1\" class=\"dataframe\">\n",
       "  <thead>\n",
       "    <tr style=\"text-align: right;\">\n",
       "      <th></th>\n",
       "      <th>Season</th>\n",
       "      <th>Daynum</th>\n",
       "      <th>Wteam</th>\n",
       "      <th>Wscore</th>\n",
       "      <th>Lteam</th>\n",
       "      <th>Lscore</th>\n",
       "      <th>Wloc</th>\n",
       "      <th>Numot</th>\n",
       "    </tr>\n",
       "  </thead>\n",
       "  <tbody>\n",
       "    <tr>\n",
       "      <th>12046</th>\n",
       "      <td>1988</td>\n",
       "      <td>40</td>\n",
       "      <td>1328</td>\n",
       "      <td>152</td>\n",
       "      <td>1147</td>\n",
       "      <td>84</td>\n",
       "      <td>H</td>\n",
       "      <td>0</td>\n",
       "    </tr>\n",
       "    <tr>\n",
       "      <th>12355</th>\n",
       "      <td>1988</td>\n",
       "      <td>52</td>\n",
       "      <td>1328</td>\n",
       "      <td>151</td>\n",
       "      <td>1173</td>\n",
       "      <td>99</td>\n",
       "      <td>N</td>\n",
       "      <td>0</td>\n",
       "    </tr>\n",
       "    <tr>\n",
       "      <th>25656</th>\n",
       "      <td>1991</td>\n",
       "      <td>84</td>\n",
       "      <td>1106</td>\n",
       "      <td>151</td>\n",
       "      <td>1212</td>\n",
       "      <td>97</td>\n",
       "      <td>H</td>\n",
       "      <td>0</td>\n",
       "    </tr>\n",
       "    <tr>\n",
       "      <th>28687</th>\n",
       "      <td>1992</td>\n",
       "      <td>54</td>\n",
       "      <td>1261</td>\n",
       "      <td>159</td>\n",
       "      <td>1319</td>\n",
       "      <td>86</td>\n",
       "      <td>H</td>\n",
       "      <td>0</td>\n",
       "    </tr>\n",
       "    <tr>\n",
       "      <th>35023</th>\n",
       "      <td>1993</td>\n",
       "      <td>112</td>\n",
       "      <td>1380</td>\n",
       "      <td>155</td>\n",
       "      <td>1341</td>\n",
       "      <td>91</td>\n",
       "      <td>A</td>\n",
       "      <td>0</td>\n",
       "    </tr>\n",
       "    <tr>\n",
       "      <th>52600</th>\n",
       "      <td>1998</td>\n",
       "      <td>33</td>\n",
       "      <td>1395</td>\n",
       "      <td>153</td>\n",
       "      <td>1410</td>\n",
       "      <td>87</td>\n",
       "      <td>H</td>\n",
       "      <td>0</td>\n",
       "    </tr>\n",
       "  </tbody>\n",
       "</table>\n",
       "</div>"
      ],
      "text/plain": [
       "       Season  Daynum  Wteam  Wscore  Lteam  Lscore Wloc  Numot\n",
       "12046    1988      40   1328     152   1147      84    H      0\n",
       "12355    1988      52   1328     151   1173      99    N      0\n",
       "25656    1991      84   1106     151   1212      97    H      0\n",
       "28687    1992      54   1261     159   1319      86    H      0\n",
       "35023    1993     112   1380     155   1341      91    A      0\n",
       "52600    1998      33   1395     153   1410      87    H      0"
      ]
     },
     "execution_count": 29,
     "metadata": {},
     "output_type": "execute_result"
    }
   ],
   "source": [
    "df[(df['Wscore'] > 150) & (df['Lscore'] < 100)]"
   ]
  },
  {
   "attachments": {},
   "cell_type": "markdown",
   "metadata": {},
   "source": [
    "**Q**: Create a new column in the DataFrame called 'ScoreDifference' which is the absolute difference between the winning score and the losing score. Filter the DataFrame to only include games where the 'ScoreDifference' is greater than the average 'ScoreDifference' for all games."
   ]
  },
  {
   "cell_type": "code",
   "execution_count": 30,
   "metadata": {},
   "outputs": [
    {
     "name": "stdout",
     "output_type": "stream",
     "text": [
      "        Season  Daynum  Wteam  Wscore  Lteam  Lscore Wloc  Numot  \\\n",
      "0         1985      20   1228      81   1328      64    N      0   \n",
      "3         1985      25   1165      70   1432      54    H      0   \n",
      "6         1985      25   1228      64   1226      44    N      0   \n",
      "8         1985      25   1260      98   1133      80    H      0   \n",
      "10        1985      25   1307     103   1288      71    H      0   \n",
      "...        ...     ...    ...     ...    ...     ...  ...    ...   \n",
      "145280    2016     131   1401      71   1261      38    N      0   \n",
      "145282    2016     131   1433      76   1172      54    N      0   \n",
      "145284    2016     132   1114      70   1419      50    N      0   \n",
      "145285    2016     132   1163      72   1272      58    N      0   \n",
      "145288    2016     132   1386      87   1433      74    N      0   \n",
      "\n",
      "        ScoreDifference  \n",
      "0                    17  \n",
      "3                    16  \n",
      "6                    20  \n",
      "8                    18  \n",
      "10                   32  \n",
      "...                 ...  \n",
      "145280               33  \n",
      "145282               22  \n",
      "145284               20  \n",
      "145285               14  \n",
      "145288               13  \n",
      "\n",
      "[57227 rows x 9 columns]\n"
     ]
    }
   ],
   "source": [
    "import pandas as pd\n",
    "\n",
    "# Add a new column 'ScoreDifference' that shows the absolute difference between winning and losing scores.\n",
    "df['ScoreDifference'] = abs(df['Wscore'] - df['Lscore'])\n",
    "\n",
    "# Find the average 'ScoreDifference' for all games.\n",
    "average_score_difference = df['ScoreDifference'].mean()\n",
    "\n",
    "# Filter the DataFrame to show games with a 'ScoreDifference' higher than the average.\n",
    "filtered_df = df[df['ScoreDifference'] > average_score_difference]\n",
    "\n",
    "# Show the filtered DataFrame.\n",
    "print(filtered_df)"
   ]
  },
  {
   "attachments": {},
   "cell_type": "markdown",
   "metadata": {},
   "source": [
    "**Q**: From this filtered DataFrame, find the season and teams involved in the game with the highest 'ScoreDifference'."
   ]
  },
  {
   "cell_type": "code",
   "execution_count": 31,
   "metadata": {},
   "outputs": [
    {
     "name": "stdout",
     "output_type": "stream",
     "text": [
      "Season of the game with the highest 'ScoreDifference': 1996\n",
      "Winning team in the game with the highest 'ScoreDifference': 1409\n",
      "Losing team in the game with the highest 'ScoreDifference': 1341\n"
     ]
    }
   ],
   "source": [
    "# Find the game with the highest 'ScoreDifference' in the filtered DataFrame.\n",
    "game_with_highest_difference = filtered_df.loc[filtered_df['ScoreDifference'].idxmax()]\n",
    "\n",
    "# Retrieve the season, winning team, and losing team details of the game with the highest 'ScoreDifference'.\n",
    "highest_difference_season = game_with_highest_difference['Season']\n",
    "winning_team_highest_difference = game_with_highest_difference['Wteam']\n",
    "losing_team_highest_difference = game_with_highest_difference['Lteam']\n",
    "\n",
    "# Show the season, winning team, and losing team details for the game with the highest 'ScoreDifference'.\n",
    "print(\"Season of the game with the highest 'ScoreDifference':\", highest_difference_season)\n",
    "print(\"Winning team in the game with the highest 'ScoreDifference':\", winning_team_highest_difference)\n",
    "print(\"Losing team in the game with the highest 'ScoreDifference':\", losing_team_highest_difference)\n"
   ]
  },
  {
   "attachments": {},
   "cell_type": "markdown",
   "metadata": {},
   "source": [
    "# Grouping"
   ]
  },
  {
   "attachments": {},
   "cell_type": "markdown",
   "metadata": {},
   "source": [
    "Another important function in Pandas is **groupby()**. This is a function that allows you to group entries by certain attributes (e.g Grouping entries by Wteam number) and then perform operations on them. The following function groups all the entries (games) with the same Wteam number and finds the mean for each group. "
   ]
  },
  {
   "cell_type": "code",
   "execution_count": 32,
   "metadata": {
    "collapsed": false
   },
   "outputs": [
    {
     "data": {
      "text/plain": [
       "Wteam\n",
       "1101    78.111111\n",
       "1102    69.893204\n",
       "1103    75.839768\n",
       "1104    75.825944\n",
       "1105    74.960894\n",
       "Name: Wscore, dtype: float64"
      ]
     },
     "execution_count": 32,
     "metadata": {},
     "output_type": "execute_result"
    }
   ],
   "source": [
    "df.groupby('Wteam')['Wscore'].mean().head()"
   ]
  },
  {
   "attachments": {},
   "cell_type": "markdown",
   "metadata": {},
   "source": [
    "This next command groups all the games with the same Wteam number and finds where how many times that specific team won at home, on the road, or at a neutral site"
   ]
  },
  {
   "cell_type": "code",
   "execution_count": 33,
   "metadata": {
    "collapsed": false,
    "scrolled": false
   },
   "outputs": [
    {
     "data": {
      "text/plain": [
       "Wteam  Wloc\n",
       "1101   H        12\n",
       "       N         3\n",
       "       A         3\n",
       "1102   H       204\n",
       "       A        73\n",
       "       N        32\n",
       "1103   H       324\n",
       "       A       153\n",
       "       N        41\n",
       "Name: count, dtype: int64"
      ]
     },
     "execution_count": 33,
     "metadata": {},
     "output_type": "execute_result"
    }
   ],
   "source": [
    "df.groupby('Wteam')['Wloc'].value_counts().head(9)"
   ]
  },
  {
   "attachments": {},
   "cell_type": "markdown",
   "metadata": {},
   "source": [
    "Each dataframe has a **values** attribute which is useful because it basically displays your dataframe in a numpy array style format"
   ]
  },
  {
   "cell_type": "code",
   "execution_count": 34,
   "metadata": {
    "collapsed": false
   },
   "outputs": [
    {
     "data": {
      "text/plain": [
       "array([[1985, 20, 1228, ..., 'N', 0, 17],\n",
       "       [1985, 25, 1106, ..., 'H', 0, 7],\n",
       "       [1985, 25, 1112, ..., 'H', 0, 7],\n",
       "       ...,\n",
       "       [2016, 132, 1246, ..., 'N', 1, 5],\n",
       "       [2016, 132, 1277, ..., 'N', 0, 4],\n",
       "       [2016, 132, 1386, ..., 'N', 0, 13]], dtype=object)"
      ]
     },
     "execution_count": 34,
     "metadata": {},
     "output_type": "execute_result"
    }
   ],
   "source": [
    "df.values"
   ]
  },
  {
   "attachments": {},
   "cell_type": "markdown",
   "metadata": {},
   "source": [
    "Now, you can simply just access elements like you would in an array. "
   ]
  },
  {
   "cell_type": "code",
   "execution_count": 35,
   "metadata": {
    "collapsed": false
   },
   "outputs": [
    {
     "data": {
      "text/plain": [
       "1985"
      ]
     },
     "execution_count": 35,
     "metadata": {},
     "output_type": "execute_result"
    }
   ],
   "source": [
    "df.values[0][0]"
   ]
  },
  {
   "attachments": {},
   "cell_type": "markdown",
   "metadata": {},
   "source": [
    "**Q**: Group the DataFrame by season and find the average winning score for each season."
   ]
  },
  {
   "cell_type": "code",
   "execution_count": 36,
   "metadata": {},
   "outputs": [
    {
     "name": "stdout",
     "output_type": "stream",
     "text": [
      "Season\n",
      "1985    74.723040\n",
      "1986    74.813640\n",
      "1987    77.993870\n",
      "1988    79.773704\n",
      "1989    81.728511\n",
      "1990    80.846477\n",
      "1991    82.733932\n",
      "1992    79.992004\n",
      "1993    79.508790\n",
      "1994    81.160345\n",
      "1995    80.096149\n",
      "1996    78.205483\n",
      "1997    76.300842\n",
      "1998    77.229902\n",
      "1999    76.043581\n",
      "2000    76.310467\n",
      "2001    77.088650\n",
      "2002    76.963557\n",
      "2003    75.795061\n",
      "2004    74.971122\n",
      "2005    74.693690\n",
      "2006    74.587555\n",
      "2007    74.829467\n",
      "2008    74.962425\n",
      "2009    74.033721\n",
      "2010    74.652480\n",
      "2011    74.374190\n",
      "2012    73.379973\n",
      "2013    72.840789\n",
      "2014    76.101268\n",
      "2015    72.680799\n",
      "2016    78.295958\n",
      "Name: Wscore, dtype: float64\n"
     ]
    }
   ],
   "source": [
    "# Group the DataFrame by season and calculate the average winning score for each season\n",
    "average_winning_score_by_season = df.groupby('Season')['Wscore'].mean()\n",
    "\n",
    "# Display the average winning score for each season\n",
    "print(average_winning_score_by_season)\n"
   ]
  },
  {
   "attachments": {},
   "cell_type": "markdown",
   "metadata": {},
   "source": [
    "**Q**: Group the DataFrame by winning team and find the maximum winning score for each team across all seasons."
   ]
  },
  {
   "cell_type": "code",
   "execution_count": 37,
   "metadata": {},
   "outputs": [
    {
     "name": "stdout",
     "output_type": "stream",
     "text": [
      "Wteam\n",
      "1101     95\n",
      "1102    111\n",
      "1103    109\n",
      "1104    114\n",
      "1105    114\n",
      "       ... \n",
      "1460    136\n",
      "1461    112\n",
      "1462    125\n",
      "1463    105\n",
      "1464    115\n",
      "Name: Wscore, Length: 364, dtype: int64\n"
     ]
    }
   ],
   "source": [
    "# Group the DataFrame by winning team and find the maximum winning score for each team across all seasons\n",
    "max_winning_score_by_team = df.groupby('Wteam')['Wscore'].max()\n",
    "\n",
    "# Display the maximum winning score for each team across all seasons\n",
    "print(max_winning_score_by_team)\n"
   ]
  },
  {
   "attachments": {},
   "cell_type": "markdown",
   "metadata": {},
   "source": [
    "**Q**: Group the DataFrame by both season and winning team. Find the team with the highest average winning score for each season."
   ]
  },
  {
   "cell_type": "code",
   "execution_count": 38,
   "metadata": {},
   "outputs": [
    {
     "name": "stdout",
     "output_type": "stream",
     "text": [
      "      Season  Wteam      Wscore\n",
      "174     1985   1328   92.800000\n",
      "287     1986   1109   91.200000\n",
      "783     1987   1380   95.875000\n",
      "977     1988   1258  111.750000\n",
      "1268    1989   1258  117.315789\n",
      "1560    1990   1258  126.347826\n",
      "1950    1991   1380  112.312500\n",
      "2246    1992   1380   99.642857\n",
      "2542    1993   1380  101.875000\n",
      "2842    1994   1380  106.583333\n",
      "3003    1995   1206  102.833333\n",
      "3305    1996   1206  103.600000\n",
      "3648    1997   1254   94.142857\n",
      "4070    1998   1395  101.153846\n",
      "4312    1999   1317   95.750000\n",
      "4695    2000   1395   95.647059\n",
      "5013    2001   1395   99.315789\n",
      "5201    2002   1242   92.888889\n",
      "5660    2003   1395   88.222222\n",
      "5809    2004   1194   92.142857\n",
      "6239    2005   1311   91.333333\n",
      "6460    2006   1190   89.533333\n",
      "7026    2007   1440   99.400000\n",
      "7367    2008   1440   94.500000\n",
      "7652    2009   1377   96.200000\n",
      "8061    2010   1440   95.000000\n",
      "8414    2011   1449   90.130435\n",
      "8683    2012   1370   87.400000\n",
      "9036    2013   1377   86.500000\n",
      "9333    2014   1322   92.600000\n",
      "9683    2015   1322   90.733333\n",
      "9861    2016   1146   97.142857\n"
     ]
    }
   ],
   "source": [
    "# Grouping our dataframe by both season and winning team, then looking to find the team with the highest average winning score for each of the season\n",
    "team_highest_avg_score_by_season = df.groupby(['Season', 'Wteam'])['Wscore'].mean().reset_index()\n",
    "team_highest_avg_score_by_season = team_highest_avg_score_by_season.loc[team_highest_avg_score_by_season.groupby('Season')['Wscore'].idxmax()]\n",
    "\n",
    "# Displaying and print of the team with the highest average winning score for each season\n",
    "print(team_highest_avg_score_by_season)\n"
   ]
  },
  {
   "attachments": {},
   "cell_type": "markdown",
   "metadata": {},
   "source": [
    "**Q**: Create a new DataFrame that counts the number of wins for each team in each season. This will involve grouping by both season and winning team, and then using the count() function."
   ]
  },
  {
   "cell_type": "code",
   "execution_count": 39,
   "metadata": {},
   "outputs": [
    {
     "name": "stdout",
     "output_type": "stream",
     "text": [
      "       Season  Wteam  Wins\n",
      "0        1985   1102     5\n",
      "1        1985   1103     9\n",
      "2        1985   1104    21\n",
      "3        1985   1106    10\n",
      "4        1985   1108    19\n",
      "...       ...    ...   ...\n",
      "10167    2016   1460    20\n",
      "10168    2016   1461    12\n",
      "10169    2016   1462    27\n",
      "10170    2016   1463    21\n",
      "10171    2016   1464     9\n",
      "\n",
      "[10172 rows x 3 columns]\n"
     ]
    }
   ],
   "source": [
    "# Grouping the DataFrame by both season and winning team and counting the number of wins for each team in every season\n",
    "team_season_wins = df.groupby(['Season', 'Wteam']).size().reset_index(name='Wins')\n",
    "\n",
    "# Displaying the new dataframe showing the number of wins for each team in each respective season\n",
    "print(team_season_wins)\n"
   ]
  },
  {
   "attachments": {},
   "cell_type": "markdown",
   "metadata": {},
   "source": [
    "**Q**: For each season, find the team with the most wins. This will involve creating a DataFrame similar to the one in task 5, and then using the idxmax() function for each season."
   ]
  },
  {
   "cell_type": "code",
   "execution_count": 40,
   "metadata": {},
   "outputs": [
    {
     "name": "stdout",
     "output_type": "stream",
     "text": [
      "      Season  Wteam  Wins\n",
      "217     1985   1385    27\n",
      "342     1986   1181    32\n",
      "818     1987   1424    33\n",
      "861     1988   1112    31\n",
      "1323    1989   1328    28\n",
      "1551    1990   1247    29\n",
      "1739    1991   1116    30\n",
      "2088    1992   1181    28\n",
      "2423    1993   1231    28\n",
      "2665    1994   1163    27\n",
      "2928    1995   1116    26\n",
      "3357    1996   1269    31\n",
      "3638    1997   1242    31\n",
      "3943    1998   1242    33\n",
      "4201    1999   1181    32\n",
      "4709    2000   1409    29\n",
      "4829    2001   1181    29\n",
      "5121    2002   1153    30\n",
      "5456    2003   1166    29\n",
      "5981    2004   1390    29\n",
      "6165    2005   1228    32\n",
      "6452    2006   1181    30\n",
      "6841    2007   1242    30\n",
      "7209    2008   1272    33\n",
      "7552    2009   1272    31\n",
      "7870    2010   1242    32\n",
      "8217    2011   1242    32\n",
      "8565    2012   1246    32\n",
      "8878    2013   1211    30\n",
      "9462    2014   1455    33\n",
      "9609    2015   1246    34\n",
      "9955    2016   1242    29\n"
     ]
    }
   ],
   "source": [
    "# Grouping our dataframe by both season and winning team and then counting the of wins each team in each season\n",
    "team_season_wins = df.groupby(['Season', 'Wteam']).size().reset_index(name='Wins')\n",
    "\n",
    "# Finding the team with the highest amount of wins for each season\n",
    "team_with_most_wins_per_season = team_season_wins.loc[team_season_wins.groupby('Season')['Wins'].idxmax()]\n",
    "\n",
    "# Displaying and printing the team with the most wins for each season\n",
    "print(team_with_most_wins_per_season)\n"
   ]
  },
  {
   "attachments": {},
   "cell_type": "markdown",
   "metadata": {},
   "source": [
    "**Q**: Group the DataFrame by losing team and find the average losing score for each team across all seasons. Compare this with the average winning score for each team from task 3. Are there teams that have a higher average losing score than winning score?"
   ]
  },
  {
   "cell_type": "code",
   "execution_count": 41,
   "metadata": {},
   "outputs": [
    {
     "name": "stdout",
     "output_type": "stream",
     "text": [
      "Analyzing Average Scores for Winning and Losing Teams:\n",
      "      Average Losing Score  Average Winning Score  Higher Losing Score\n",
      "1101             60.586207              78.111111                False\n",
      "1102             59.201507              69.893204                False\n",
      "1103             64.117347              75.839768                False\n",
      "1104             64.374317              75.825944                False\n",
      "1105             61.675373              74.960894                False\n",
      "...                    ...                    ...                  ...\n",
      "1460             63.082915              75.531469                False\n",
      "1461             64.661972              75.170082                False\n",
      "1462             68.216117              79.906021                False\n",
      "1463             60.829213              71.720102                False\n",
      "1464             65.187063              73.926056                False\n",
      "\n",
      "[364 rows x 3 columns]\n"
     ]
    }
   ],
   "source": [
    "# Generating mean (average) scores for both the losing and winning teams\n",
    "losing_team_means = df.groupby('Lteam')['Lscore'].mean()\n",
    "winning_team_means = df.groupby('Wteam')['Wscore'].mean()\n",
    "\n",
    "# Creating a DataFrame and grouping it by average losing and winning scores\n",
    "comparison_data = pd.DataFrame({'Average Losing Score': losing_team_means, 'Average Winning Score': winning_team_means})\n",
    "\n",
    "# Checking if teams have a higher average losing score than winning score.\n",
    "comparison_data['Higher Losing Score'] = comparison_data['Average Losing Score'] > comparison_data['Average Winning Score']\n",
    "\n",
    "# Displaying the comparison results of mean losing and winning scores of the different teams\n",
    "print(\"Analyzing Average Scores for Winning and Losing Teams:\")\n",
    "print(comparison_data)\n",
    "\n",
    "\n",
    "\n"
   ]
  },
  {
   "attachments": {},
   "cell_type": "markdown",
   "metadata": {},
   "source": [
    "# Dataframe Iteration"
   ]
  },
  {
   "attachments": {},
   "cell_type": "markdown",
   "metadata": {},
   "source": [
    "In order to iterate through dataframes, we can use the **iterrows()** function. Below is an example of what the first two rows look like. Each row in iterrows is a Series object"
   ]
  },
  {
   "cell_type": "code",
   "execution_count": 42,
   "metadata": {
    "collapsed": false
   },
   "outputs": [
    {
     "name": "stdout",
     "output_type": "stream",
     "text": [
      "Season             1985\n",
      "Daynum               20\n",
      "Wteam              1228\n",
      "Wscore               81\n",
      "Lteam              1328\n",
      "Lscore               64\n",
      "Wloc                  N\n",
      "Numot                 0\n",
      "ScoreDifference      17\n",
      "Name: 0, dtype: object\n",
      "Season             1985\n",
      "Daynum               25\n",
      "Wteam              1106\n",
      "Wscore               77\n",
      "Lteam              1354\n",
      "Lscore               70\n",
      "Wloc                  H\n",
      "Numot                 0\n",
      "ScoreDifference       7\n",
      "Name: 1, dtype: object\n"
     ]
    }
   ],
   "source": [
    "for index, row in df.iterrows():\n",
    "    print(row)\n",
    "    if index == 1:\n",
    "        break"
   ]
  },
  {
   "attachments": {},
   "cell_type": "markdown",
   "metadata": {},
   "source": [
    "**Q**: Create a new column 'HighScoringGame' that is 'Yes' if the winning score is greater than 100 and 'No' otherwise. This will require iterating over the rows of the DataFrame and checking the value of the winning score for each row."
   ]
  },
  {
   "cell_type": "code",
   "execution_count": 43,
   "metadata": {},
   "outputs": [
    {
     "name": "stdout",
     "output_type": "stream",
     "text": [
      "   Season  Daynum  Wteam  Wscore  Lteam  Lscore Wloc  Numot  ScoreDifference  \\\n",
      "0    1985      20   1228      81   1328      64    N      0               17   \n",
      "1    1985      25   1106      77   1354      70    H      0                7   \n",
      "2    1985      25   1112      63   1223      56    H      0                7   \n",
      "3    1985      25   1165      70   1432      54    H      0               16   \n",
      "4    1985      25   1192      86   1447      74    H      0               12   \n",
      "\n",
      "  HighScoringGame  \n",
      "0              No  \n",
      "1              No  \n",
      "2              No  \n",
      "3              No  \n",
      "4              No  \n"
     ]
    }
   ],
   "source": [
    "# Function is to determine if a game is considered high scoring or not\n",
    "def is_high_scoring_game(row):\n",
    "    if row['Wscore'] > 100:\n",
    "        return 'Yes'\n",
    "    else:\n",
    "        return 'No'\n",
    "\n",
    "# Applying the following function so we can add the 'HighScoringGame' column to the DataFrame\n",
    "df['HighScoringGame'] = df.apply(is_high_scoring_game, axis=1)\n",
    "\n",
    "# Showing a view of the DataFrame with the new column.\n",
    "\n",
    "print(df.head())\n"
   ]
  },
  {
   "attachments": {},
   "cell_type": "markdown",
   "metadata": {},
   "source": [
    "**Q**: Calculate the total number of games played by each team, whether they won or lost. This will require iterating over the rows of the DataFrame and updating a dictionary that keeps track of the number of games for each team."
   ]
  },
  {
   "cell_type": "code",
   "execution_count": 44,
   "metadata": {},
   "outputs": [
    {
     "name": "stdout",
     "output_type": "stream",
     "text": [
      "Team 1228 played a total of 992 games.\n",
      "Team 1328 played a total of 968 games.\n",
      "Team 1106 played a total of 855 games.\n",
      "Team 1354 played a total of 906 games.\n",
      "Team 1112 played a total of 981 games.\n",
      "Team 1223 played a total of 363 games.\n",
      "Team 1165 played a total of 833 games.\n",
      "Team 1432 played a total of 69 games.\n",
      "Team 1192 played a total of 908 games.\n",
      "Team 1447 played a total of 903 games.\n",
      "Team 1218 played a total of 931 games.\n",
      "Team 1337 played a total of 922 games.\n",
      "Team 1226 played a total of 847 games.\n",
      "Team 1242 played a total of 993 games.\n",
      "Team 1268 played a total of 969 games.\n",
      "Team 1260 played a total of 914 games.\n",
      "Team 1133 played a total of 949 games.\n",
      "Team 1305 played a total of 922 games.\n",
      "Team 1424 played a total of 974 games.\n",
      "Team 1307 played a total of 969 games.\n",
      "Team 1288 played a total of 925 games.\n",
      "Team 1344 played a total of 951 games.\n",
      "Team 1438 played a total of 952 games.\n",
      "Team 1374 played a total of 916 games.\n",
      "Team 1411 played a total of 903 games.\n",
      "Team 1412 played a total of 962 games.\n",
      "Team 1397 played a total of 963 games.\n",
      "Team 1417 played a total of 966 games.\n",
      "Team 1225 played a total of 880 games.\n",
      "Team 1116 played a total of 980 games.\n",
      "Team 1368 played a total of 808 games.\n",
      "Team 1120 played a total of 936 games.\n",
      "Team 1391 played a total of 879 games.\n",
      "Team 1135 played a total of 847 games.\n",
      "Team 1306 played a total of 898 games.\n",
      "Team 1143 played a total of 947 games.\n",
      "Team 1388 played a total of 897 games.\n",
      "Team 1153 played a total of 970 games.\n",
      "Team 1184 played a total of 863 games.\n",
      "Team 1159 played a total of 887 games.\n",
      "Team 1171 played a total of 829 games.\n",
      "Team 1216 played a total of 930 games.\n",
      "Team 1173 played a total of 960 games.\n",
      "Team 1134 played a total of 200 games.\n",
      "Team 1177 played a total of 942 games.\n",
      "Team 1296 played a total of 879 games.\n",
      "Team 1193 played a total of 942 games.\n",
      "Team 1265 played a total of 934 games.\n",
      "Team 1196 played a total of 981 games.\n",
      "Team 1416 played a total of 881 games.\n",
      "Team 1206 played a total of 938 games.\n",
      "Team 1137 played a total of 912 games.\n",
      "Team 1210 played a total of 972 games.\n",
      "Team 1149 played a total of 824 games.\n",
      "Team 1211 played a total of 921 games.\n",
      "Team 1102 played a total of 840 games.\n",
      "Team 1234 played a total of 968 games.\n",
      "Team 1114 played a total of 910 games.\n",
      "Team 1332 played a total of 927 games.\n",
      "Team 1243 played a total of 927 games.\n",
      "Team 1317 played a total of 883 games.\n",
      "Team 1257 played a total of 994 games.\n",
      "Team 1231 played a total of 969 games.\n",
      "Team 1277 played a total of 966 games.\n",
      "Team 1145 played a total of 934 games.\n",
      "Team 1278 played a total of 948 games.\n",
      "Team 1453 played a total of 912 games.\n",
      "Team 1286 played a total of 851 games.\n",
      "Team 1186 played a total of 849 games.\n",
      "Team 1301 played a total of 979 games.\n",
      "Team 1144 played a total of 850 games.\n",
      "Team 1325 played a total of 942 games.\n",
      "Team 1384 played a total of 887 games.\n",
      "Team 1326 played a total of 968 games.\n",
      "Team 1248 played a total of 896 games.\n",
      "Team 1287 played a total of 857 games.\n",
      "Team 1339 played a total of 879 games.\n",
      "Team 1334 played a total of 899 games.\n",
      "Team 1365 played a total of 907 games.\n",
      "Team 1375 played a total of 896 games.\n",
      "Team 1126 played a total of 906 games.\n",
      "Team 1403 played a total of 939 games.\n",
      "Team 1152 played a total of 865 games.\n",
      "Team 1423 played a total of 931 games.\n",
      "Team 1347 played a total of 858 games.\n",
      "Team 1429 played a total of 930 games.\n",
      "Team 1428 played a total of 931 games.\n",
      "Team 1437 played a total of 983 games.\n",
      "Team 1436 played a total of 911 games.\n",
      "Team 1172 played a total of 879 games.\n",
      "Team 1439 played a total of 946 games.\n",
      "Team 1330 played a total of 963 games.\n",
      "Team 1443 played a total of 942 games.\n",
      "Team 1121 played a total of 175 games.\n",
      "Team 1455 played a total of 947 games.\n",
      "Team 1249 played a total of 873 games.\n",
      "Team 1241 played a total of 942 games.\n",
      "Team 1440 played a total of 825 games.\n",
      "Team 1314 played a total of 1010 games.\n",
      "Team 1200 played a total of 922 games.\n",
      "Team 1323 played a total of 950 games.\n",
      "Team 1264 played a total of 928 games.\n",
      "Team 1458 played a total of 951 games.\n",
      "Team 1104 played a total of 975 games.\n",
      "Team 1160 played a total of 928 games.\n",
      "Team 1414 played a total of 922 games.\n",
      "Team 1181 played a total of 1013 games.\n",
      "Team 1387 played a total of 956 games.\n",
      "Team 1183 played a total of 871 games.\n",
      "Team 1247 played a total of 943 games.\n",
      "Team 1284 played a total of 932 games.\n",
      "Team 1402 played a total of 847 games.\n",
      "Team 1276 played a total of 959 games.\n",
      "Team 1178 played a total of 920 games.\n",
      "Team 1364 played a total of 890 games.\n",
      "Team 1338 played a total of 962 games.\n",
      "Team 1290 played a total of 875 games.\n",
      "Team 1376 played a total of 945 games.\n",
      "Team 1378 played a total of 936 games.\n",
      "Team 1202 played a total of 856 games.\n",
      "Team 1396 played a total of 979 games.\n",
      "Team 1180 played a total of 930 games.\n",
      "Team 1398 played a total of 870 games.\n",
      "Team 1399 played a total of 860 games.\n",
      "Team 1155 played a total of 950 games.\n",
      "Team 1258 played a total of 898 games.\n",
      "Team 1448 played a total of 947 games.\n",
      "Team 1464 played a total of 856 games.\n",
      "Team 1124 played a total of 906 games.\n",
      "Team 1341 played a total of 857 games.\n",
      "Team 1130 played a total of 951 games.\n",
      "Team 1254 played a total of 898 games.\n",
      "Team 1204 played a total of 862 games.\n",
      "Team 1151 played a total of 899 games.\n",
      "Team 1233 played a total of 957 games.\n",
      "Team 1220 played a total of 933 games.\n",
      "Team 1246 played a total of 999 games.\n",
      "Team 1405 played a total of 921 games.\n",
      "Team 1280 played a total of 946 games.\n",
      "Team 1238 played a total of 920 games.\n",
      "Team 1308 played a total of 935 games.\n",
      "Team 1431 played a total of 937 games.\n",
      "Team 1253 played a total of 915 games.\n",
      "Team 1363 played a total of 889 games.\n",
      "Team 1348 played a total of 938 games.\n",
      "Team 1373 played a total of 950 games.\n",
      "Team 1379 played a total of 896 games.\n",
      "Team 1270 played a total of 861 games.\n",
      "Team 1409 played a total of 966 games.\n",
      "Team 1331 played a total of 809 games.\n",
      "Team 1444 played a total of 916 games.\n",
      "Team 1434 played a total of 902 games.\n",
      "Team 1451 played a total of 866 games.\n",
      "Team 1139 played a total of 923 games.\n",
      "Team 1442 played a total of 840 games.\n",
      "Team 1154 played a total of 820 games.\n",
      "Team 1456 played a total of 891 games.\n",
      "Team 1229 played a total of 951 games.\n",
      "Team 1227 played a total of 917 games.\n",
      "Team 1259 played a total of 913 games.\n",
      "Team 1406 played a total of 926 games.\n",
      "Team 1261 played a total of 956 games.\n",
      "Team 1272 played a total of 992 games.\n",
      "Team 1117 played a total of 891 games.\n",
      "Team 1273 played a total of 896 games.\n",
      "Team 1163 played a total of 977 games.\n",
      "Team 1318 played a total of 942 games.\n",
      "Team 1360 played a total of 889 games.\n",
      "Team 1393 played a total of 993 games.\n",
      "Team 1419 played a total of 894 games.\n",
      "Team 1418 played a total of 912 games.\n",
      "Team 1281 played a total of 977 games.\n",
      "Team 1161 played a total of 905 games.\n",
      "Team 1109 played a total of 169 games.\n",
      "Team 1309 played a total of 840 games.\n",
      "Team 1298 played a total of 894 games.\n",
      "Team 1321 played a total of 912 games.\n",
      "Team 1285 played a total of 865 games.\n",
      "Team 1271 played a total of 887 games.\n",
      "Team 1353 played a total of 939 games.\n",
      "Team 1351 played a total of 929 games.\n",
      "Team 1359 played a total of 874 games.\n",
      "Team 1267 played a total of 909 games.\n",
      "Team 1361 played a total of 915 games.\n",
      "Team 1386 played a total of 958 games.\n",
      "Team 1400 played a total of 982 games.\n",
      "Team 1322 played a total of 854 games.\n",
      "Team 1433 played a total of 975 games.\n",
      "Team 1187 played a total of 861 games.\n",
      "Team 1245 played a total of 927 games.\n",
      "Team 1111 played a total of 876 games.\n",
      "Team 1150 played a total of 942 games.\n",
      "Team 1119 played a total of 868 games.\n",
      "Team 1141 played a total of 872 games.\n",
      "Team 1221 played a total of 929 games.\n",
      "Team 1122 played a total of 903 games.\n",
      "Team 1185 played a total of 900 games.\n",
      "Team 1199 played a total of 949 games.\n",
      "Team 1201 played a total of 947 games.\n",
      "Team 1212 played a total of 837 games.\n",
      "Team 1197 played a total of 896 games.\n",
      "Team 1140 played a total of 965 games.\n",
      "Team 1292 played a total of 888 games.\n",
      "Team 1162 played a total of 831 games.\n",
      "Team 1319 played a total of 843 games.\n",
      "Team 1239 played a total of 891 games.\n",
      "Team 1320 played a total of 913 games.\n",
      "Team 1371 played a total of 946 games.\n",
      "Team 1349 played a total of 888 games.\n",
      "Team 1222 played a total of 930 games.\n",
      "Team 1382 played a total of 914 games.\n",
      "Team 1383 played a total of 898 games.\n",
      "Team 1385 played a total of 954 games.\n",
      "Team 1390 played a total of 932 games.\n",
      "Team 1425 played a total of 944 games.\n",
      "Team 1435 played a total of 961 games.\n",
      "Team 1463 played a total of 838 games.\n",
      "Team 1441 played a total of 854 games.\n",
      "Team 1449 played a total of 938 games.\n",
      "Team 1123 played a total of 906 games.\n",
      "Team 1103 played a total of 910 games.\n",
      "Team 1129 played a total of 907 games.\n",
      "Team 1209 played a total of 891 games.\n",
      "Team 1156 played a total of 900 games.\n",
      "Team 1336 played a total of 926 games.\n",
      "Team 1174 played a total of 913 games.\n",
      "Team 1343 played a total of 832 games.\n",
      "Team 1232 played a total of 913 games.\n",
      "Team 1203 played a total of 933 games.\n",
      "Team 1110 played a total of 910 games.\n",
      "Team 1335 played a total of 880 games.\n",
      "Team 1283 played a total of 952 games.\n",
      "Team 1235 played a total of 950 games.\n",
      "Team 1166 played a total of 957 games.\n",
      "Team 1311 played a total of 839 games.\n",
      "Team 1256 played a total of 925 games.\n",
      "Team 1147 played a total of 698 games.\n",
      "Team 1250 played a total of 898 games.\n",
      "Team 1266 played a total of 951 games.\n",
      "Team 1452 played a total of 945 games.\n",
      "Team 1269 played a total of 946 games.\n",
      "Team 1208 played a total of 954 games.\n",
      "Team 1310 played a total of 949 games.\n",
      "Team 1329 played a total of 941 games.\n",
      "Team 1333 played a total of 911 games.\n",
      "Team 1345 played a total of 966 games.\n",
      "Team 1263 played a total of 898 games.\n",
      "Team 1352 played a total of 925 games.\n",
      "Team 1380 played a total of 862 games.\n",
      "Team 1446 played a total of 48 games.\n",
      "Team 1427 played a total of 858 games.\n",
      "Team 1113 played a total of 937 games.\n",
      "Team 1408 played a total of 808 games.\n",
      "Team 1410 played a total of 831 games.\n",
      "Team 1350 played a total of 959 games.\n",
      "Team 1450 played a total of 913 games.\n",
      "Team 1462 played a total of 954 games.\n",
      "Team 1131 played a total of 945 games.\n",
      "Team 1190 played a total of 891 games.\n",
      "Team 1168 played a total of 891 games.\n",
      "Team 1179 played a total of 914 games.\n",
      "Team 1304 played a total of 953 games.\n",
      "Team 1224 played a total of 907 games.\n",
      "Team 1356 played a total of 953 games.\n",
      "Team 1426 played a total of 859 games.\n",
      "Team 1215 played a total of 147 games.\n",
      "Team 1132 played a total of 895 games.\n",
      "Team 1217 played a total of 828 games.\n",
      "Team 1389 played a total of 928 games.\n",
      "Team 1395 played a total of 943 games.\n",
      "Team 1461 played a total of 914 games.\n",
      "Team 1279 played a total of 927 games.\n",
      "Team 1275 played a total of 932 games.\n",
      "Team 1293 played a total of 886 games.\n",
      "Team 1191 played a total of 928 games.\n",
      "Team 1299 played a total of 870 games.\n",
      "Team 1401 played a total of 940 games.\n",
      "Team 1175 played a total of 890 games.\n",
      "Team 1327 played a total of 22 games.\n",
      "Team 1207 played a total of 923 games.\n",
      "Team 1108 played a total of 866 games.\n",
      "Team 1182 played a total of 924 games.\n",
      "Team 1274 played a total of 915 games.\n",
      "Team 1362 played a total of 867 games.\n",
      "Team 1164 played a total of 893 games.\n",
      "Team 1118 played a total of 27 games.\n",
      "Team 1420 played a total of 845 games.\n",
      "Team 1457 played a total of 801 games.\n",
      "Team 1148 played a total of 844 games.\n",
      "Team 1372 played a total of 795 games.\n",
      "Team 1157 played a total of 784 games.\n",
      "Team 1421 played a total of 799 games.\n",
      "Team 1358 played a total of 806 games.\n",
      "Team 1460 played a total of 827 games.\n",
      "Team 1198 played a total of 812 games.\n",
      "Team 1291 played a total of 815 games.\n",
      "Team 1381 played a total of 735 games.\n",
      "Team 1251 played a total of 755 games.\n",
      "Team 1282 played a total of 745 games.\n",
      "Team 1169 played a total of 724 games.\n",
      "Team 1302 played a total of 200 games.\n",
      "Team 1454 played a total of 737 games.\n",
      "Team 1170 played a total of 660 games.\n",
      "Team 1138 played a total of 728 games.\n",
      "Team 1158 played a total of 720 games.\n",
      "Team 1422 played a total of 719 games.\n",
      "Team 1369 played a total of 682 games.\n",
      "Team 1404 played a total of 643 games.\n",
      "Team 1194 played a total of 647 games.\n",
      "Team 1407 played a total of 639 games.\n",
      "Team 1142 played a total of 597 games.\n",
      "Team 1214 played a total of 627 games.\n",
      "Team 1459 played a total of 575 games.\n",
      "Team 1240 played a total of 568 games.\n",
      "Team 1313 played a total of 563 games.\n",
      "Team 1115 played a total of 520 games.\n",
      "Team 1176 played a total of 526 games.\n",
      "Team 1346 played a total of 522 games.\n",
      "Team 1237 played a total of 519 games.\n",
      "Team 1340 played a total of 497 games.\n",
      "Team 1107 played a total of 512 games.\n",
      "Team 1357 played a total of 500 games.\n",
      "Team 1324 played a total of 506 games.\n",
      "Team 1189 played a total of 481 games.\n",
      "Team 1125 played a total of 506 games.\n",
      "Team 1105 played a total of 447 games.\n",
      "Team 1392 played a total of 493 games.\n",
      "Team 1219 played a total of 466 games.\n",
      "Team 1127 played a total of 442 games.\n",
      "Team 1289 played a total of 48 games.\n",
      "Team 1415 played a total of 418 games.\n",
      "Team 1236 played a total of 400 games.\n",
      "Team 1394 played a total of 390 games.\n",
      "Team 1205 played a total of 405 games.\n",
      "Team 1128 played a total of 106 games.\n",
      "Team 1252 played a total of 401 games.\n",
      "Team 1366 played a total of 384 games.\n",
      "Team 1294 played a total of 336 games.\n",
      "Team 1255 played a total of 344 games.\n",
      "Team 1430 played a total of 325 games.\n",
      "Team 1413 played a total of 348 games.\n",
      "Team 1355 played a total of 327 games.\n",
      "Team 1244 played a total of 322 games.\n",
      "Team 1295 played a total of 308 games.\n",
      "Team 1316 played a total of 327 games.\n",
      "Team 1445 played a total of 107 games.\n",
      "Team 1312 played a total of 276 games.\n",
      "Team 1146 played a total of 267 games.\n",
      "Team 1167 played a total of 260 games.\n",
      "Team 1300 played a total of 252 games.\n",
      "Team 1367 played a total of 267 games.\n",
      "Team 1342 played a total of 260 games.\n",
      "Team 1195 played a total of 273 games.\n",
      "Team 1188 played a total of 207 games.\n",
      "Team 1377 played a total of 210 games.\n",
      "Team 1315 played a total of 217 games.\n",
      "Team 1136 played a total of 240 games.\n",
      "Team 1370 played a total of 222 games.\n",
      "Team 1303 played a total of 129 games.\n",
      "Team 1297 played a total of 113 games.\n",
      "Team 1213 played a total of 84 games.\n",
      "Team 1262 played a total of 83 games.\n",
      "Team 1101 played a total of 76 games.\n",
      "Team 1230 played a total of 64 games.\n"
     ]
    }
   ],
   "source": [
    "# Creating a dictionary for keeping track of the number of games played by each team\n",
    "games_played = {}\n",
    "\n",
    "# Iterating over the rows of the current DataFrame and making and update the total number of games for each team\n",
    "for index, row in df.iterrows():\n",
    "    if row['Wteam'] in games_played:\n",
    "        games_played[row['Wteam']] += 1\n",
    "    else:\n",
    "        games_played[row['Wteam']] = 1\n",
    "    \n",
    "    if row['Lteam'] in games_played:\n",
    "        games_played[row['Lteam']] += 1\n",
    "    else:\n",
    "        games_played[row['Lteam']] = 1\n",
    "\n",
    "# Showing and displaying the total number of games played by each team\n",
    "for team, total_games in games_played.items():\n",
    "    print(f\"Team {team} played a total of {total_games} games.\")\n"
   ]
  },
  {
   "attachments": {},
   "cell_type": "markdown",
   "metadata": {},
   "source": [
    "**Q**: For each season, find the game with the highest score difference (winning score - losing score). This will require iterating over the rows of the DataFrame, keeping track of the highest score difference for each season, and updating it if a game with a higher score difference is found."
   ]
  },
  {
   "cell_type": "code",
   "execution_count": 45,
   "metadata": {},
   "outputs": [
    {
     "name": "stdout",
     "output_type": "stream",
     "text": [
      "For season 1985, the game with the highest score difference is between teams 1361 and 1288 with a difference of 60 points.\n",
      "For season 1986, the game with the highest score difference is between teams 1314 and 1264 with a difference of 84 points.\n",
      "For season 1987, the game with the highest score difference is between teams 1155 and 1118 with a difference of 73 points.\n",
      "For season 1988, the game with the highest score difference is between teams 1328 and 1147 with a difference of 68 points.\n",
      "For season 1989, the game with the highest score difference is between teams 1242 and 1135 with a difference of 70 points.\n",
      "For season 1990, the game with the highest score difference is between teams 1181 and 1217 with a difference of 76 points.\n",
      "For season 1991, the game with the highest score difference is between teams 1163 and 1148 with a difference of 68 points.\n",
      "For season 1992, the game with the highest score difference is between teams 1116 and 1126 with a difference of 82 points.\n",
      "For season 1993, the game with the highest score difference is between teams 1328 and 1197 with a difference of 81 points.\n",
      "For season 1994, the game with the highest score difference is between teams 1228 and 1152 with a difference of 69 points.\n",
      "For season 1995, the game with the highest score difference is between teams 1246 and 1404 with a difference of 74 points.\n",
      "For season 1996, the game with the highest score difference is between teams 1409 and 1341 with a difference of 91 points.\n",
      "For season 1997, the game with the highest score difference is between teams 1278 and 1106 with a difference of 80 points.\n",
      "For season 1998, the game with the highest score difference is between teams 1395 and 1410 with a difference of 66 points.\n",
      "For season 1999, the game with the highest score difference is between teams 1268 and 1317 with a difference of 75 points.\n",
      "For season 2000, the game with the highest score difference is between teams 1261 and 1212 with a difference of 75 points.\n",
      "For season 2001, the game with the highest score difference is between teams 1196 and 1197 with a difference of 75 points.\n",
      "For season 2002, the game with the highest score difference is between teams 1328 and 1183 with a difference of 59 points.\n",
      "For season 2003, the game with the highest score difference is between teams 1403 and 1311 with a difference of 72 points.\n",
      "For season 2004, the game with the highest score difference is between teams 1328 and 1115 with a difference of 70 points.\n",
      "For season 2005, the game with the highest score difference is between teams 1403 and 1421 with a difference of 64 points.\n",
      "For season 2006, the game with the highest score difference is between teams 1400 and 1341 with a difference of 72 points.\n",
      "For season 2007, the game with the highest score difference is between teams 1401 and 1212 with a difference of 74 points.\n",
      "For season 2008, the game with the highest score difference is between teams 1182 and 1224 with a difference of 70 points.\n",
      "For season 2009, the game with the highest score difference is between teams 1314 and 1421 with a difference of 68 points.\n",
      "For season 2010, the game with the highest score difference is between teams 1397 and 1421 with a difference of 75 points.\n",
      "For season 2011, the game with the highest score difference is between teams 1388 and 1152 with a difference of 69 points.\n",
      "For season 2012, the game with the highest score difference is between teams 1345 and 1296 with a difference of 62 points.\n",
      "For season 2013, the game with the highest score difference is between teams 1235 and 1105 with a difference of 58 points.\n",
      "For season 2014, the game with the highest score difference is between teams 1256 and 1255 with a difference of 74 points.\n",
      "For season 2015, the game with the highest score difference is between teams 1181 and 1342 with a difference of 69 points.\n",
      "For season 2016, the game with the highest score difference is between teams 1139 and 1154 with a difference of 73 points.\n"
     ]
    }
   ],
   "source": [
    "# Initializing a dictionary for storage the highest score difference per season\n",
    "highest_score_diff_per_season = {}\n",
    "\n",
    "# Iterating over the rows in the DataFrame in order to find the game with the highest score difference for each season\n",
    "for season in df['Season'].unique():\n",
    "    season_df = df[df['Season'] == season]\n",
    "    max_score_diff = 0\n",
    "    max_score_diff_values = None\n",
    "    \n",
    "    for index, row in season_df.iterrows():\n",
    "        score_diff = row['Wscore'] - row['Lscore']\n",
    "        if score_diff > max_score_diff:\n",
    "            max_score_diff = score_diff\n",
    "            max_score_diff_values = {'Winning Team': row['Wteam'], 'Losing Team': row['Lteam'], 'Score Difference': score_diff}\n",
    "    \n",
    "    if max_score_diff_values is not None:\n",
    "        highest_score_diff_per_season[season] = max_score_diff_values\n",
    "\n",
    "# Showing the game with the highest score difference for each season underneath\n",
    "for season, game_info in highest_score_diff_per_season.items():\n",
    "    print(f\"For season {season}, the game with the highest score difference is between teams {game_info['Winning Team']} and {game_info['Losing Team']} with a difference of {game_info['Score Difference']} points.\")\n",
    "\n"
   ]
  },
  {
   "attachments": {},
   "cell_type": "markdown",
   "metadata": {},
   "source": [
    "Remember, iterating over a DataFrame should generally be avoided if a vectorized operation can be used instead, as vectorized operations are usually much faster. However, these tasks are designed to give practice with DataFrame iteration for cases where it might be necessary."
   ]
  },
  {
   "attachments": {},
   "cell_type": "markdown",
   "metadata": {},
   "source": [
    "Vectorized Operation Example: Create a new column 'HighScoringGame' in the DataFrame using a vectorized operation. This column should contain 'Yes' if the winning score is greater than 100 and 'No' otherwise. Use the np.where function from the numpy library for this task."
   ]
  },
  {
   "cell_type": "code",
   "execution_count": 46,
   "metadata": {},
   "outputs": [],
   "source": [
    "import numpy as np\n",
    "df['HighScoringGame'] = np.where(df['Wscore'] > 100, 'Yes', 'No')"
   ]
  },
  {
   "attachments": {},
   "cell_type": "markdown",
   "metadata": {},
   "source": [
    "**Q**: Vectorized Operation: Calculate the total number of games played by each team, whether they won or lost. Instead of iterating over the DataFrame, use the value_counts() function on the winning team and losing team columns separately, and then add the two Series together."
   ]
  },
  {
   "cell_type": "code",
   "execution_count": 47,
   "metadata": {},
   "outputs": [
    {
     "name": "stdout",
     "output_type": "stream",
     "text": [
      "Total number of games played by each team:\n",
      "     Team  TotalGames\n",
      "0    1101          76\n",
      "1    1102         840\n",
      "2    1103         910\n",
      "3    1104         975\n",
      "4    1105         447\n",
      "..    ...         ...\n",
      "359  1460         827\n",
      "360  1461         914\n",
      "361  1462         954\n",
      "362  1463         838\n",
      "363  1464         856\n",
      "\n",
      "[364 rows x 2 columns]\n"
     ]
    }
   ],
   "source": [
    "import pandas as pd\n",
    "\n",
    "# Finding the total games played by each team, including wins and losses.\n",
    "\n",
    "\n",
    "winning_team_games = df['Wteam'].value_counts()\n",
    "losing_team_games = df['Lteam'].value_counts()\n",
    "\n",
    "# Adding the number of games played by each team together and looking at the score\n",
    "total_games_played = winning_team_games.add(losing_team_games, fill_value=0).astype(int)\n",
    "\n",
    "# Converting the Series to a DataFrame for better visualization and easier display of it\n",
    "team_games_df = total_games_played.reset_index()\n",
    "team_games_df.columns = ['Team', 'TotalGames']\n",
    "\n",
    "# printing the dataframe with the total number of games played by each team\n",
    "print(\"Total number of games played by each team:\")\n",
    "print(team_games_df)\n",
    "\n",
    "\n"
   ]
  },
  {
   "attachments": {},
   "cell_type": "markdown",
   "metadata": {},
   "source": [
    "**Q**: For each season, find the game with the highest score difference (winning score - losing score). Instead of iterating over the DataFrame, create a new column 'ScoreDifference' using vectorized subtraction, then use the groupby() function and idxmax() function to find the game with the highest score difference for each season."
   ]
  },
  {
   "cell_type": "code",
   "execution_count": 48,
   "metadata": {},
   "outputs": [
    {
     "name": "stdout",
     "output_type": "stream",
     "text": [
      "Game with the highest score difference for each season:\n",
      "        Season  Daynum  Wteam  Wscore  Lteam  Lscore Wloc  Numot  \\\n",
      "236       1985      33   1361     128   1288      68    H      0   \n",
      "4731      1986      60   1314     129   1264      45    N      0   \n",
      "8240      1987      51   1155     112   1118      39    H      0   \n",
      "12046     1988      40   1328     152   1147      84    H      0   \n",
      "16677     1989      64   1242     115   1135      45    H      0   \n",
      "19502     1990      26   1181     130   1217      54    H      0   \n",
      "25161     1991      73   1163     115   1148      47    H      0   \n",
      "27997     1992      30   1116     128   1126      46    H      0   \n",
      "33858     1993      86   1328     146   1197      65    H      0   \n",
      "36404     1994      47   1228     121   1152      52    H      0   \n",
      "39858     1995      26   1246     124   1404      50    H      0   \n",
      "44653     1996      48   1409     141   1341      50    H      0   \n",
      "49033     1997      56   1278     114   1106      34    H      0   \n",
      "52600     1998      33   1395     153   1410      87    H      0   \n",
      "57618     1999      58   1268     132   1317      57    H      0   \n",
      "60616     2000      19   1261     112   1212      37    H      0   \n",
      "65999     2001      41   1196     125   1197      50    H      0   \n",
      "70737     2002      50   1328     109   1183      50    H      0   \n",
      "74791     2003      33   1403     107   1311      35    H      0   \n",
      "79181     2004      29   1328      94   1115      24    H      0   \n",
      "83372     2005      18   1403     119   1421      55    H      0   \n",
      "89542     2006      60   1400     110   1341      38    H      0   \n",
      "94507     2007      59   1401     101   1212      27    H      0   \n",
      "97737     2008       4   1182     129   1224      59    H      0   \n",
      "103723    2009      27   1314     116   1421      48    H      0   \n",
      "108405    2010      15   1397     124   1421      49    H      0   \n",
      "114015    2011      22   1388     121   1152      52    H      0   \n",
      "118699    2012      11   1345      96   1296      34    H      0   \n",
      "124057    2013       7   1235      98   1105      40    H      0   \n",
      "131373    2014      61   1256     126   1255      52    H      0   \n",
      "134590    2015      11   1181     113   1342      44    H      0   \n",
      "140040    2016      12   1139     144   1154      71    H      0   \n",
      "\n",
      "        ScoreDifference HighScoringGame  \n",
      "236                  60             Yes  \n",
      "4731                 84             Yes  \n",
      "8240                 73             Yes  \n",
      "12046                68             Yes  \n",
      "16677                70             Yes  \n",
      "19502                76             Yes  \n",
      "25161                68             Yes  \n",
      "27997                82             Yes  \n",
      "33858                81             Yes  \n",
      "36404                69             Yes  \n",
      "39858                74             Yes  \n",
      "44653                91             Yes  \n",
      "49033                80             Yes  \n",
      "52600                66             Yes  \n",
      "57618                75             Yes  \n",
      "60616                75             Yes  \n",
      "65999                75             Yes  \n",
      "70737                59             Yes  \n",
      "74791                72             Yes  \n",
      "79181                70              No  \n",
      "83372                64             Yes  \n",
      "89542                72             Yes  \n",
      "94507                74             Yes  \n",
      "97737                70             Yes  \n",
      "103723               68             Yes  \n",
      "108405               75             Yes  \n",
      "114015               69             Yes  \n",
      "118699               62              No  \n",
      "124057               58              No  \n",
      "131373               74             Yes  \n",
      "134590               69             Yes  \n",
      "140040               73             Yes  \n"
     ]
    }
   ],
   "source": [
    "import pandas as pd\n",
    "\n",
    "# Creating a new column 'ScoreDifference' by performing vectorized subtraction and using the groupby function.\n",
    "\n",
    "\n",
    "df['ScoreDifference'] = df['Wscore'] - df['Lscore']\n",
    "\n",
    "# Identifying the game with the highest score difference for each season using groupby and idxmax functions.\n",
    "\n",
    "\n",
    "idx = df.groupby('Season')['ScoreDifference'].idxmax()\n",
    "\n",
    "# Obtaining the rows corresponding to these indices.\n",
    "games_with_highest_difference_per_season = df.loc[idx]\n",
    "\n",
    "# Result is shown underneath\n",
    "print(\"Game with the highest score difference for each season:\")\n",
    "print(games_with_highest_difference_per_season)"
   ]
  },
  {
   "attachments": {},
   "cell_type": "markdown",
   "metadata": {},
   "source": [
    "# Extracting Rows and Columns"
   ]
  },
  {
   "attachments": {},
   "cell_type": "markdown",
   "metadata": {},
   "source": [
    "The bracket indexing operator is one way to extract certain columns from a dataframe."
   ]
  },
  {
   "cell_type": "code",
   "execution_count": 49,
   "metadata": {
    "collapsed": false,
    "scrolled": true
   },
   "outputs": [
    {
     "data": {
      "text/html": [
       "<div>\n",
       "<style scoped>\n",
       "    .dataframe tbody tr th:only-of-type {\n",
       "        vertical-align: middle;\n",
       "    }\n",
       "\n",
       "    .dataframe tbody tr th {\n",
       "        vertical-align: top;\n",
       "    }\n",
       "\n",
       "    .dataframe thead th {\n",
       "        text-align: right;\n",
       "    }\n",
       "</style>\n",
       "<table border=\"1\" class=\"dataframe\">\n",
       "  <thead>\n",
       "    <tr style=\"text-align: right;\">\n",
       "      <th></th>\n",
       "      <th>Wscore</th>\n",
       "      <th>Lscore</th>\n",
       "    </tr>\n",
       "  </thead>\n",
       "  <tbody>\n",
       "    <tr>\n",
       "      <th>0</th>\n",
       "      <td>81</td>\n",
       "      <td>64</td>\n",
       "    </tr>\n",
       "    <tr>\n",
       "      <th>1</th>\n",
       "      <td>77</td>\n",
       "      <td>70</td>\n",
       "    </tr>\n",
       "    <tr>\n",
       "      <th>2</th>\n",
       "      <td>63</td>\n",
       "      <td>56</td>\n",
       "    </tr>\n",
       "    <tr>\n",
       "      <th>3</th>\n",
       "      <td>70</td>\n",
       "      <td>54</td>\n",
       "    </tr>\n",
       "    <tr>\n",
       "      <th>4</th>\n",
       "      <td>86</td>\n",
       "      <td>74</td>\n",
       "    </tr>\n",
       "  </tbody>\n",
       "</table>\n",
       "</div>"
      ],
      "text/plain": [
       "   Wscore  Lscore\n",
       "0      81      64\n",
       "1      77      70\n",
       "2      63      56\n",
       "3      70      54\n",
       "4      86      74"
      ]
     },
     "execution_count": 49,
     "metadata": {},
     "output_type": "execute_result"
    }
   ],
   "source": [
    "df[['Wscore', 'Lscore']].head()"
   ]
  },
  {
   "attachments": {},
   "cell_type": "markdown",
   "metadata": {},
   "source": [
    "Notice that you can acheive the same result by using the loc function. Loc is a veryyyy versatile function that can help you in a lot of accessing and extracting tasks. "
   ]
  },
  {
   "cell_type": "code",
   "execution_count": 50,
   "metadata": {
    "collapsed": false
   },
   "outputs": [
    {
     "data": {
      "text/html": [
       "<div>\n",
       "<style scoped>\n",
       "    .dataframe tbody tr th:only-of-type {\n",
       "        vertical-align: middle;\n",
       "    }\n",
       "\n",
       "    .dataframe tbody tr th {\n",
       "        vertical-align: top;\n",
       "    }\n",
       "\n",
       "    .dataframe thead th {\n",
       "        text-align: right;\n",
       "    }\n",
       "</style>\n",
       "<table border=\"1\" class=\"dataframe\">\n",
       "  <thead>\n",
       "    <tr style=\"text-align: right;\">\n",
       "      <th></th>\n",
       "      <th>Wscore</th>\n",
       "      <th>Lscore</th>\n",
       "    </tr>\n",
       "  </thead>\n",
       "  <tbody>\n",
       "    <tr>\n",
       "      <th>0</th>\n",
       "      <td>81</td>\n",
       "      <td>64</td>\n",
       "    </tr>\n",
       "    <tr>\n",
       "      <th>1</th>\n",
       "      <td>77</td>\n",
       "      <td>70</td>\n",
       "    </tr>\n",
       "    <tr>\n",
       "      <th>2</th>\n",
       "      <td>63</td>\n",
       "      <td>56</td>\n",
       "    </tr>\n",
       "    <tr>\n",
       "      <th>3</th>\n",
       "      <td>70</td>\n",
       "      <td>54</td>\n",
       "    </tr>\n",
       "    <tr>\n",
       "      <th>4</th>\n",
       "      <td>86</td>\n",
       "      <td>74</td>\n",
       "    </tr>\n",
       "  </tbody>\n",
       "</table>\n",
       "</div>"
      ],
      "text/plain": [
       "   Wscore  Lscore\n",
       "0      81      64\n",
       "1      77      70\n",
       "2      63      56\n",
       "3      70      54\n",
       "4      86      74"
      ]
     },
     "execution_count": 50,
     "metadata": {},
     "output_type": "execute_result"
    }
   ],
   "source": [
    "df.loc[:, ['Wscore', 'Lscore']].head()"
   ]
  },
  {
   "attachments": {},
   "cell_type": "markdown",
   "metadata": {},
   "source": [
    "Note the difference is the return types when you use brackets and when you use double brackets. "
   ]
  },
  {
   "cell_type": "code",
   "execution_count": 51,
   "metadata": {
    "collapsed": false
   },
   "outputs": [
    {
     "data": {
      "text/plain": [
       "pandas.core.series.Series"
      ]
     },
     "execution_count": 51,
     "metadata": {},
     "output_type": "execute_result"
    }
   ],
   "source": [
    "type(df['Wscore'])"
   ]
  },
  {
   "cell_type": "code",
   "execution_count": 52,
   "metadata": {
    "collapsed": false
   },
   "outputs": [
    {
     "data": {
      "text/plain": [
       "pandas.core.frame.DataFrame"
      ]
     },
     "execution_count": 52,
     "metadata": {},
     "output_type": "execute_result"
    }
   ],
   "source": [
    "type(df[['Wscore']])"
   ]
  },
  {
   "attachments": {},
   "cell_type": "markdown",
   "metadata": {},
   "source": [
    "You've seen before that you can access columns through df['col name']. You can access rows by using slicing operations. "
   ]
  },
  {
   "cell_type": "code",
   "execution_count": 53,
   "metadata": {
    "collapsed": false
   },
   "outputs": [
    {
     "data": {
      "text/html": [
       "<div>\n",
       "<style scoped>\n",
       "    .dataframe tbody tr th:only-of-type {\n",
       "        vertical-align: middle;\n",
       "    }\n",
       "\n",
       "    .dataframe tbody tr th {\n",
       "        vertical-align: top;\n",
       "    }\n",
       "\n",
       "    .dataframe thead th {\n",
       "        text-align: right;\n",
       "    }\n",
       "</style>\n",
       "<table border=\"1\" class=\"dataframe\">\n",
       "  <thead>\n",
       "    <tr style=\"text-align: right;\">\n",
       "      <th></th>\n",
       "      <th>Season</th>\n",
       "      <th>Daynum</th>\n",
       "      <th>Wteam</th>\n",
       "      <th>Wscore</th>\n",
       "      <th>Lteam</th>\n",
       "      <th>Lscore</th>\n",
       "      <th>Wloc</th>\n",
       "      <th>Numot</th>\n",
       "      <th>ScoreDifference</th>\n",
       "      <th>HighScoringGame</th>\n",
       "    </tr>\n",
       "  </thead>\n",
       "  <tbody>\n",
       "    <tr>\n",
       "      <th>0</th>\n",
       "      <td>1985</td>\n",
       "      <td>20</td>\n",
       "      <td>1228</td>\n",
       "      <td>81</td>\n",
       "      <td>1328</td>\n",
       "      <td>64</td>\n",
       "      <td>N</td>\n",
       "      <td>0</td>\n",
       "      <td>17</td>\n",
       "      <td>No</td>\n",
       "    </tr>\n",
       "    <tr>\n",
       "      <th>1</th>\n",
       "      <td>1985</td>\n",
       "      <td>25</td>\n",
       "      <td>1106</td>\n",
       "      <td>77</td>\n",
       "      <td>1354</td>\n",
       "      <td>70</td>\n",
       "      <td>H</td>\n",
       "      <td>0</td>\n",
       "      <td>7</td>\n",
       "      <td>No</td>\n",
       "    </tr>\n",
       "    <tr>\n",
       "      <th>2</th>\n",
       "      <td>1985</td>\n",
       "      <td>25</td>\n",
       "      <td>1112</td>\n",
       "      <td>63</td>\n",
       "      <td>1223</td>\n",
       "      <td>56</td>\n",
       "      <td>H</td>\n",
       "      <td>0</td>\n",
       "      <td>7</td>\n",
       "      <td>No</td>\n",
       "    </tr>\n",
       "  </tbody>\n",
       "</table>\n",
       "</div>"
      ],
      "text/plain": [
       "   Season  Daynum  Wteam  Wscore  Lteam  Lscore Wloc  Numot  ScoreDifference  \\\n",
       "0    1985      20   1228      81   1328      64    N      0               17   \n",
       "1    1985      25   1106      77   1354      70    H      0                7   \n",
       "2    1985      25   1112      63   1223      56    H      0                7   \n",
       "\n",
       "  HighScoringGame  \n",
       "0              No  \n",
       "1              No  \n",
       "2              No  "
      ]
     },
     "execution_count": 53,
     "metadata": {},
     "output_type": "execute_result"
    }
   ],
   "source": [
    "df[0:3]"
   ]
  },
  {
   "attachments": {},
   "cell_type": "markdown",
   "metadata": {},
   "source": [
    "Here's an equivalent using iloc"
   ]
  },
  {
   "cell_type": "code",
   "execution_count": 54,
   "metadata": {
    "collapsed": false
   },
   "outputs": [
    {
     "data": {
      "text/html": [
       "<div>\n",
       "<style scoped>\n",
       "    .dataframe tbody tr th:only-of-type {\n",
       "        vertical-align: middle;\n",
       "    }\n",
       "\n",
       "    .dataframe tbody tr th {\n",
       "        vertical-align: top;\n",
       "    }\n",
       "\n",
       "    .dataframe thead th {\n",
       "        text-align: right;\n",
       "    }\n",
       "</style>\n",
       "<table border=\"1\" class=\"dataframe\">\n",
       "  <thead>\n",
       "    <tr style=\"text-align: right;\">\n",
       "      <th></th>\n",
       "      <th>Season</th>\n",
       "      <th>Daynum</th>\n",
       "      <th>Wteam</th>\n",
       "      <th>Wscore</th>\n",
       "      <th>Lteam</th>\n",
       "      <th>Lscore</th>\n",
       "      <th>Wloc</th>\n",
       "      <th>Numot</th>\n",
       "      <th>ScoreDifference</th>\n",
       "      <th>HighScoringGame</th>\n",
       "    </tr>\n",
       "  </thead>\n",
       "  <tbody>\n",
       "    <tr>\n",
       "      <th>0</th>\n",
       "      <td>1985</td>\n",
       "      <td>20</td>\n",
       "      <td>1228</td>\n",
       "      <td>81</td>\n",
       "      <td>1328</td>\n",
       "      <td>64</td>\n",
       "      <td>N</td>\n",
       "      <td>0</td>\n",
       "      <td>17</td>\n",
       "      <td>No</td>\n",
       "    </tr>\n",
       "    <tr>\n",
       "      <th>1</th>\n",
       "      <td>1985</td>\n",
       "      <td>25</td>\n",
       "      <td>1106</td>\n",
       "      <td>77</td>\n",
       "      <td>1354</td>\n",
       "      <td>70</td>\n",
       "      <td>H</td>\n",
       "      <td>0</td>\n",
       "      <td>7</td>\n",
       "      <td>No</td>\n",
       "    </tr>\n",
       "    <tr>\n",
       "      <th>2</th>\n",
       "      <td>1985</td>\n",
       "      <td>25</td>\n",
       "      <td>1112</td>\n",
       "      <td>63</td>\n",
       "      <td>1223</td>\n",
       "      <td>56</td>\n",
       "      <td>H</td>\n",
       "      <td>0</td>\n",
       "      <td>7</td>\n",
       "      <td>No</td>\n",
       "    </tr>\n",
       "  </tbody>\n",
       "</table>\n",
       "</div>"
      ],
      "text/plain": [
       "   Season  Daynum  Wteam  Wscore  Lteam  Lscore Wloc  Numot  ScoreDifference  \\\n",
       "0    1985      20   1228      81   1328      64    N      0               17   \n",
       "1    1985      25   1106      77   1354      70    H      0                7   \n",
       "2    1985      25   1112      63   1223      56    H      0                7   \n",
       "\n",
       "  HighScoringGame  \n",
       "0              No  \n",
       "1              No  \n",
       "2              No  "
      ]
     },
     "execution_count": 54,
     "metadata": {},
     "output_type": "execute_result"
    }
   ],
   "source": [
    "df.iloc[0:3,:]"
   ]
  },
  {
   "attachments": {},
   "cell_type": "markdown",
   "metadata": {},
   "source": [
    "# Data Cleaning"
   ]
  },
  {
   "attachments": {},
   "cell_type": "markdown",
   "metadata": {},
   "source": [
    "One of the big jobs of doing well in Kaggle competitions is that of data cleaning. A lot of times, the CSV file you're given (especially like in the Titanic dataset), you'll have a lot of missing values in the dataset, which you have to identify. The following **isnull** function will figure out if there are any missing values in the dataframe, and will then sum up the total for each column. In this case, we have a pretty clean dataset."
   ]
  },
  {
   "cell_type": "code",
   "execution_count": 55,
   "metadata": {
    "collapsed": false
   },
   "outputs": [
    {
     "data": {
      "text/plain": [
       "Season             0\n",
       "Daynum             0\n",
       "Wteam              0\n",
       "Wscore             0\n",
       "Lteam              0\n",
       "Lscore             0\n",
       "Wloc               0\n",
       "Numot              0\n",
       "ScoreDifference    0\n",
       "HighScoringGame    0\n",
       "dtype: int64"
      ]
     },
     "execution_count": 55,
     "metadata": {},
     "output_type": "execute_result"
    }
   ],
   "source": [
    "df.isnull().sum()"
   ]
  },
  {
   "attachments": {},
   "cell_type": "markdown",
   "metadata": {},
   "source": [
    "If you do end up having missing values in your datasets, be sure to get familiar with these two functions. \n",
    "* **dropna()** - This function allows you to drop all(or some) of the rows that have missing values. \n",
    "* **fillna()** - This function allows you replace the rows that have missing values with the value that you pass in."
   ]
  },
  {
   "attachments": {},
   "cell_type": "markdown",
   "metadata": {},
   "source": [
    "# Other Useful Functions"
   ]
  },
  {
   "attachments": {},
   "cell_type": "markdown",
   "metadata": {},
   "source": [
    "* **drop()** - This function removes the column or row that you pass in (You also have the specify the axis). \n",
    "* **agg()** - The aggregate function lets you compute summary statistics about each group\n",
    "* **apply()** - Lets you apply a specific function to any/all elements in a Dataframe or Series\n",
    "* **get_dummies()** - Helpful for turning categorical data into one hot vectors.\n",
    "* **drop_duplicates()** - Lets you remove identical rows"
   ]
  },
  {
   "attachments": {},
   "cell_type": "markdown",
   "metadata": {
    "collapsed": true
   },
   "source": [
    "# Lots of Other Great Resources"
   ]
  },
  {
   "attachments": {},
   "cell_type": "markdown",
   "metadata": {},
   "source": [
    "Pandas has been around for a while and there are a lot of other good resources if you're still interested on getting the most out of this library. \n",
    "* http://pandas.pydata.org/pandas-docs/stable/10min.html\n",
    "* https://www.datacamp.com/community/tutorials/pandas-tutorial-dataframe-python\n",
    "* http://www.gregreda.com/2013/10/26/intro-to-pandas-data-structures/\n",
    "* https://www.dataquest.io/blog/pandas-python-tutorial/\n",
    "* https://drive.google.com/file/d/0ByIrJAE4KMTtTUtiVExiUGVkRkE/view\n",
    "* https://www.youtube.com/playlist?list=PL5-da3qGB5ICCsgW1MxlZ0Hq8LL5U3u9y"
   ]
  }
 ],
 "metadata": {
  "anaconda-cloud": {},
  "kernelspec": {
   "display_name": "base",
   "language": "python",
   "name": "python3"
  },
  "language_info": {
   "codemirror_mode": {
    "name": "ipython",
    "version": 3
   },
   "file_extension": ".py",
   "mimetype": "text/x-python",
   "name": "python",
   "nbconvert_exporter": "python",
   "pygments_lexer": "ipython3",
   "version": "3.11.7"
  }
 },
 "nbformat": 4,
 "nbformat_minor": 1
}
